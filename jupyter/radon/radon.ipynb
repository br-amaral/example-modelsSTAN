{
 "cells": [
  {
   "cell_type": "markdown",
   "id": "2d8dbef4",
   "metadata": {},
   "source": [
    "# Multilevel regression modeling with CmdStanPy and plotnine\n",
    "\n",
    "This notebook provides an introduction to multilevel regression modeling\n",
    "using [Stan](https://mc-stan.org) and the [CmdStanPy](https://mc-stan.org/cmdstanpy/) interface,\n",
    "a pure Python3 package for Linux, MacOS, and Windows.\n",
    "It is based on Chris Fonnesbeck's excellent [A Primer on Bayesian Multilevel Modeling using PyStan](https://mc-stan.org/users/documentation/case-studies/radon.html), which was developed as part of a [Stan workshop](https://statmoddev.stat.columbia.edu/2016/06/09/a-primer-on-bayesian-multilevel-modeling-using-pystan/)  for biomedical statisticians at Vanderbilt University.\n",
    "\n",
    "The second aim of this notebook is to demonstrate best practices of Bayesian data analysis.\n",
    "It is important to have a clear understanding of both the analysis goals and the sizes,\n",
    "shapes, and tendancies of the available data before proceeding to model building.\n",
    "When constructing models, we are faced with a series of engineering decisions with respect\n",
    "to the generality, performance, and maintainability of the model.\n",
    "To visualize data and inferences we use\n",
    "[plotnine](https://plotnine.readthedocs.io/en/stable/),\n",
    "an implementation of a [_grammar of graphics_](https://vita.had.co.nz/papers/layered-grammar.pdf) in Python,\n",
    "based on [ggplot2](https://en.wikipedia.org/wiki/Ggplot2).\n",
    "To manage tabular data in Python we will be using both [numpy](https://numpy.org/doc/stable/) and [pandas](https://pandas.pydata.org/docs/)."
   ]
  },
  {
   "cell_type": "markdown",
   "id": "5660108b-6d3d-4168-b776-c8733ab7e330",
   "metadata": {},
   "source": [
    "## Case study: home radon measurement\n",
    "\n",
    "The data and models for this notebook are taken from chapter 12 of the book\n",
    "[Data Analysis Using Regression and Multilevel/Hierarchical Models](http://www.stat.columbia.edu/~gelman/arm/)\n",
    "by Andrew Gelman and Jennifer Hill, Cambridge Press, 2006.\n",
    "In this chapter they introduce a multilevel regression model and use it to analyze data\n",
    "taken from a national survey of home radon levels in the US done by the EPA in the early 1990s.\n",
    "The goal of the radon study is to provide reasonable estimates\n",
    "of home radon levels in each of the approximately 3000 counties in the United States.\n",
    "\n",
    "[Radon gas](https://en.wikipedia.org/wiki/Radon) is a product of the slow decay of uranium into lead.  Due to local differences in geology, the level of exposure to radon gas differs from place to place. A common source is uranium-containing minerals in the ground, and therefore it accumulates in subterranean areas such as basements.\n",
    "\n",
    "![How radon enters the home](img/radon_entry.jpg)\n",
    "Image from https://www.health.state.mn.us/communities/environment/air/radon/index.html\n",
    "\n",
    "The [EPA radon map](https://www.epa.gov/sites/default/files/2015-07/documents/zonemapcolor.pdf) shows the counties of the US, color coded by radon level - red for the highest risk, orange for moderate, and yellow for low.\n",
    "\n",
    "![EPA radon map](img/epa_radon_map.png)"
   ]
  },
  {
   "cell_type": "markdown",
   "id": "7707b3bc-a6ca-4bda-a154-f39a1c29dd16",
   "metadata": {},
   "source": [
    "###  Notebook setup"
   ]
  },
  {
   "cell_type": "code",
   "execution_count": null,
   "id": "863e26e3-13bb-4294-a077-0eba01339ec3",
   "metadata": {
    "tags": []
   },
   "outputs": [],
   "source": [
    "# import all libraries used in this notebook\n",
    "import os\n",
    "import numpy as np\n",
    "import pandas as pd\n",
    "from cmdstanpy import CmdStanModel\n",
    "\n",
    "# plotting libs\n",
    "import matplotlib.pyplot as plt\n",
    "import plotnine as p9\n",
    "\n",
    "# suppress plotnine warnings\n",
    "import warnings\n",
    "warnings.filterwarnings('ignore')\n",
    "\n",
    "\n",
    "# setup plotnine look and feel\n",
    "p9.theme_set(\n",
    "  p9.theme_grey() + \n",
    "  p9.theme(text=p9.element_text(size=10),\n",
    "        plot_title=p9.element_text(size=14),\n",
    "        axis_title_x=p9.element_text(size=12),\n",
    "        axis_title_y=p9.element_text(size=12),\n",
    "        axis_text_x=p9.element_text(size=8),\n",
    "        axis_text_y=p9.element_text(size=8)\n",
    "       )\n",
    ")\n",
    "xlabels_90 = p9.theme(axis_text_x = p9.element_text(angle=90, hjust=1))"
   ]
  },
  {
   "cell_type": "code",
   "execution_count": null,
   "id": "48ed81ee-0563-4077-aa5b-43f1c3dc7554",
   "metadata": {},
   "outputs": [],
   "source": [
    "# keep notebook outputs clean - demos only\n",
    "import logging\n",
    "logging.getLogger('cmdstanpy').setLevel(logging.CRITICAL)"
   ]
  },
  {
   "cell_type": "markdown",
   "id": "7c3a4df7-a814-4d04-8ec1-032e3c57924a",
   "metadata": {},
   "source": [
    "###  Radon dataset:  home radon measurements, per-county soil uranium levels\n",
    "\n",
    "The data comes from EPA surveys at the state and national level carried out in the 1990s.\n",
    "It is available from the Gelman and Hill [ARM website](http://www.stat.columbia.edu/~gelman/arm/examples/radon/), together with the R scripts used to produce the examples in the book.\n",
    "\n",
    "**Raw data**\n",
    "\n",
    "The study data is in two separate files: one for the radon home survey, one for county soil uranium levels.\n",
    "These are distributed as\n",
    "[srrs2.dat](http://www.stat.columbia.edu/~gelman/arm/examples/radon/srrs2.dat)\n",
    "and \n",
    "[cty.dat](http://www.stat.columbia.edu/~gelman/arm/examples/radon/cty.dat)\n",
    "respectively.\n",
    "For this notebook, we have downloaded and renamed them:\n",
    "\n",
    "- [data/raw_radon.csv](data/raw_radon.csv) - home radon measurements, and the floor on which the measurement was taken,\n",
    "\"0\" for basement,  \"1\" for ground floor.\n",
    "\n",
    "\n",
    "- [data/raw_uranium.csv](data/raw_uranium.csv) -county level measurements of soil uranium levels in parts per million.\n",
    "\n",
    "There are a total of 120K home radon measurements from 3000 US counties.\n",
    "The per-county measurements follow the population density; there are few or no measurements\n",
    "for sparsely populated counties, i.e. rural counties and correspondingly more for metropolitan counties.\n",
    "\n",
    "**Processed data**\n",
    "\n",
    "Our analysis will use both the home radon data measurements and the county level data.\n",
    "\n",
    "We need to extract and combine that subset of the information in these tables into the dataset required for this analysis.\n",
    "The essential pre-processing steps are\n",
    "\n",
    "1. Cross-index the county-level data and the home-level data.\n",
    "\n",
    "2. Put home radon and soil uranium on the log scale, following Gelman and Hill, chapter 4, section 12.\n",
    "\n",
    "3. Restrict the dataset to Minnesota.\n",
    "\n",
    "See [Appendix C](#data-prep) for the full set of pre-processing operations.\n",
    "\n",
    "The results are in two files\n",
    "\n",
    "+ [data/mn_radon.csv](data/mn_radon.csv) contains the individual home radon measurments.\n",
    "+ [data/mn_counties.csv](data/mn_counties.csv) contains county-level data."
   ]
  },
  {
   "cell_type": "code",
   "execution_count": null,
   "id": "3dba7a41",
   "metadata": {},
   "outputs": [],
   "source": [
    "mn_radon = pd.read_csv(os.path.join('data','mn_radon.csv'))\n",
    "mn_radon[:7]"
   ]
  },
  {
   "cell_type": "code",
   "execution_count": null,
   "id": "ed04257d",
   "metadata": {},
   "outputs": [],
   "source": [
    "mn_counties = pd.read_csv(os.path.join('data','mn_uranium.csv'))\n",
    "mn_counties[:3]"
   ]
  },
  {
   "cell_type": "markdown",
   "id": "8ed8ddf0-c448-4478-9b71-7912f484d850",
   "metadata": {},
   "source": [
    "## Best Practice #1: preliminary data analysis\n",
    "\n",
    "A sometimes overlooked issue when doing model criticism and model comparison is the fact that we are evaluating the fit of the model _to the data_.  The size and shape of the data informs our choice of model.  Finally, the data collected is not always the data expected.  Therefore we start with plots and summaries of the raw data. When plotting radon measurments against other data elements, we always plot `log_radon` on the y axis, since it is the outcome variable of interest for this case study.\n",
    "\n",
    "**A brief introduction to plotnine**\n",
    "\n",
    "A grammar of graphics defines a plot in terms of:\n",
    "\n",
    "+ a dataset - in plotnine, this is a pandas.DataFrame\n",
    "+ a set of mappings from dataset variables to graph elements called \"aesthetics\"\n",
    "+ one scale for each aesthetic mapping used\n",
    "+ a coordinate system\n",
    "+ a facet specification\n",
    "+ one or more layers, with each layer having\n",
    "   + a dataset and aestheic mapping - by default, the plot dataset and mappings are used\n",
    "   + one geometric object (\"geoms\")\n",
    "   + one statistical transformation (\"stats\") \n",
    "   + one position adjustment\n",
    "\n",
    "The power of ggplot2/plotnine is a combination of\n",
    "a rich set of geometric objects - points, lines, bar charts, maps, and more;\n",
    "the ability to filter data used by plots, geoms, and stats;\n",
    "the ability to compose layers.\n",
    "But there are limits to compositionality;\n",
    "all layers need to have compatible coordinate systems and scales.\n",
    "When developing a visualization, the initial choice of geom might\n",
    "not work properly with additional layers.\n",
    "Plot building, like model building, is an iterative process.\n",
    "A good resource is [Data Visualization with Plotnine](https://f0nzie.github.io/rmarkdown-python-plotnine/),\n",
    "a Python translation of [R for Data Science](https://r4ds.had.co.nz/)."
   ]
  },
  {
   "cell_type": "markdown",
   "id": "37ebf378-9895-4428-8a69-f015d096d4d7",
   "metadata": {},
   "source": [
    "**First questions: amount of data, variable of interest**\n",
    "\n",
    "How much data is there for Minnesota?"
   ]
  },
  {
   "cell_type": "code",
   "execution_count": null,
   "id": "28af7292",
   "metadata": {},
   "outputs": [],
   "source": [
    "print(f'number of houses: {len(mn_radon)}')\n",
    "print(f'number of counties: {len(mn_counties)}')"
   ]
  },
  {
   "cell_type": "markdown",
   "id": "624db8f5",
   "metadata": {},
   "source": [
    "The goal of our analysis is to estimate home radon levels; therefore the outcome variable of interest is `log_radon`.\n",
    "We use the [pandas.DataFrame.describe](https://pandas.pydata.org/docs/reference/api/pandas.DataFrame.describe.html) function to get summary statistics over the observed outcome `log_radon`."
   ]
  },
  {
   "cell_type": "code",
   "execution_count": null,
   "id": "bb4a1d96",
   "metadata": {},
   "outputs": [],
   "source": [
    "print(f'log_radon summary statistics\\n{mn_radon[\"log_radon\"].describe()}')"
   ]
  },
  {
   "cell_type": "markdown",
   "id": "731fd544",
   "metadata": {},
   "source": [
    "**Relationship between radon and floor**\n",
    "\n",
    "As the radon pathways diagram shows, radon comes from the soil, therefore the floor level on which the measurement was taken should be a good predictor of the observed radon level. This is coded as \"0\" for basement and \"1\" for ground floor level.  Most of the observations in the survey were taken on the basement level."
   ]
  },
  {
   "cell_type": "code",
   "execution_count": null,
   "id": "bf1590b4",
   "metadata": {},
   "outputs": [],
   "source": [
    "pct_1 = round((mn_radon.floor.sum() / len(mn_radon) * 100))\n",
    "pct_0= round(100 - pct_1)\n",
    "print(f'floor 0: {pct_0}%\\nfloor 1: {pct_1}%')"
   ]
  },
  {
   "cell_type": "markdown",
   "id": "3dbbdcd5-9578-41ec-829c-72ea4456ea81",
   "metadata": {},
   "source": [
    "The [plotnine geom_histogram](https://plotnine.readthedocs.io/en/stable/generated/plotnine.geoms.geom_histogram.html) provides a visualization of the distribution of home radon measurements in the survey dataset.\n",
    "Here we overlay two per-floor histograms.\n",
    "They clearly show the different amounts of observation (y axis), but the trend in log radon levels (x axis) is unclear."
   ]
  },
  {
   "cell_type": "code",
   "execution_count": null,
   "id": "debdf72a-96cd-448e-88ff-bfecaf15c850",
   "metadata": {},
   "outputs": [],
   "source": [
    "# overlay historgrams\n",
    "(p9.ggplot(data=mn_radon, mapping=p9.aes(x='log_radon'))\n",
    "    + p9.geom_histogram(data=(mn_radon.loc[mn_radon['floor']==0]),\n",
    "                        fill='orange', color='darkgreen', alpha=0.7, binwidth=0.2)\n",
    "    + p9.geom_histogram(data=(mn_radon.loc[mn_radon['floor']==1]),\n",
    "                        fill='violet', color='blue', alpha=0.6, binwidth=0.2)\n",
    "    + p9.xlab(\"log radon levels\") + p9.ylab(\"number of observations\")\n",
    "    + p9.theme(figure_size=(6,4))\n",
    ")"
   ]
  },
  {
   "cell_type": "markdown",
   "id": "5bbdb5b8-df94-4314-9cab-7643f500a09e",
   "metadata": {},
   "source": [
    "The [plotnine geom_density](https://plotnine.readthedocs.io/en/stable/generated/plotnine.geoms.geom_density.html)\n",
    "shows per-floor trends, but obscures the difference in amounts of observations."
   ]
  },
  {
   "cell_type": "code",
   "execution_count": null,
   "id": "275435ef-3f88-483e-a5cd-c376cf50b9a0",
   "metadata": {},
   "outputs": [],
   "source": [
    "(p9.ggplot()\n",
    "    + p9.geom_density(data=(mn_radon.loc[mn_radon['floor']==0]), mapping=p9.aes(x='log_radon'), color='darkblue')\n",
    "    + p9.geom_density(data=(mn_radon.loc[mn_radon['floor']==1]), mapping=p9.aes(x='log_radon'), color='purple')\n",
    "    + p9.xlab(\"log radon levels\") + p9.ylab(\"density\")\n",
    "    + p9.theme(figure_size=(6,4))\n",
    ")"
   ]
  },
  {
   "cell_type": "markdown",
   "id": "98123f42",
   "metadata": {},
   "source": [
    "The [plotnine geom_point](https://plotnine.readthedocs.io/en/stable/generated/plotnine.geoms.geom_point.html) plots two variables as (x, y) points.\n",
    "A scatterplot of points (`floor`, `log_radon`) will only have 2 distinct x-axis values:  0 and 1.\n",
    "The [plotnine geom_jitter](https://plotnine.readthedocs.io/en/stable/generated/plotnine.geoms.geom_jitter.html) adds jitter to the (x, y) points,\n",
    "which reduces the amount of overplotting and therefore allows for a better visualization of the amount of data being plotted.\n",
    "Therefore we use the latter to visualize the differences between the the radon measurements by floor."
   ]
  },
  {
   "cell_type": "code",
   "execution_count": null,
   "id": "e3caf5ef",
   "metadata": {},
   "outputs": [],
   "source": [
    "plot_radon_floor = (p9.ggplot(data=mn_radon, mapping=p9.aes(x='floor', y='log_radon')) \n",
    "    + p9.geom_jitter(width=0.1, alpha=0.5, fill='orange', color='darkred')\n",
    "    + p9.scale_x_continuous(breaks=range(0,2), minor_breaks=[])\n",
    "    + p9.ggtitle(\"Radon measurements by floor\")\n",
    "    + p9.theme(figure_size=(4,4))\n",
    ")\n",
    "plot_radon_floor"
   ]
  },
  {
   "cell_type": "markdown",
   "id": "ee26364e-08dd-44cc-a58f-9ccbaef8af70",
   "metadata": {},
   "source": [
    "**County-level information**\n",
    "\n",
    "At the county level we have many home radon measurements from the relatively few counties with metropolitan areas, and very few home radon measurements from the rest."
   ]
  },
  {
   "cell_type": "code",
   "execution_count": null,
   "id": "6f910669",
   "metadata": {},
   "outputs": [],
   "source": [
    "(p9.ggplot(data=mn_counties)\n",
    "    + p9.geom_histogram(mapping=p9.aes(x='homes'), bins=40)\n",
    "    + p9.geom_text(data=mn_counties[mn_counties['homes'] > 25],\n",
    "                   mapping=p9.aes(x='homes', y=2, label='county'),\n",
    "                   size=8, nudge_x=5, nudge_y=0.5)\n",
    "    + p9.xlab(\"observations per county\") + p9.ylab(\"\")\n",
    "    + p9.theme(figure_size=(12,4))\n",
    ")"
   ]
  },
  {
   "cell_type": "markdown",
   "id": "727f5d45",
   "metadata": {},
   "source": [
    "We use the [plotnine.geom_boxplot](https://plotnine.readthedocs.io/en/stable/generated/plotnine.geoms.geom_boxplot.html#plotnine.geoms.geom_boxplot)\n",
    "to generate a [box_and_whiskers plot](https://en.wikipedia.org/wiki/Box_plot) for each set of per-county radon measurements.  The width of the box is proportional to the square root of the number of observations.\n",
    "As the counties are ordered by number of observations, the width of the boxes increases from left to right.\n",
    "The box encloses the central 25% - 75% quantiles; this is the \n",
    "[interquartile range (IQR)](https://en.wikipedia.org/wiki/Interquartile_range).\n",
    "The the whiskers extend to the values which are a distance of 1.5 the IQR, and values beyond that are plotted as points - these are the outliers."
   ]
  },
  {
   "cell_type": "code",
   "execution_count": null,
   "id": "0301ddd1-802a-40af-82e5-c4ba479cfce3",
   "metadata": {},
   "outputs": [],
   "source": [
    "obs_asc = mn_counties.sort_values(by='homes').reset_index(drop=True)\n",
    "\n",
    "boxplot_radon_homes = (p9.ggplot(data=mn_radon, mapping=p9.aes(x='county',y='log_radon'))\n",
    "    + p9.geom_boxplot(width=2, varwidth=True, outlier_alpha=0.4)\n",
    "    + p9.scale_x_discrete(limits=obs_asc['county'], expand=(0,3))\n",
    "    + p9.ggtitle(\"Counties ordered by number of observations per county\")\n",
    "    + p9.ylab(\"range of home radon measurements\")\n",
    ")                     \n",
    "# horizontal\n",
    "boxplot_radon_homes + xlabels_90 + p9.theme(figure_size=(20,6))"
   ]
  },
  {
   "cell_type": "markdown",
   "id": "6fb2a6fa-9ebc-4aae-b89e-94c9de059e7d",
   "metadata": {},
   "source": [
    "Because the most home radon measurements were taken at the basement floor level and because most of the counties have relatively few home measurments taken, there are many counties where all measurements are from the basement floor."
   ]
  },
  {
   "cell_type": "code",
   "execution_count": null,
   "id": "e2e55ab4-50a1-4121-8497-3ac399a7ac78",
   "metadata": {
    "tags": []
   },
   "outputs": [],
   "source": [
    "print(f'Number of counties: {mn_radon.county.nunique()}')\n",
    "print(f'Counties with measurements from floor 0: {mn_radon[mn_radon[\"floor\"]==0][\"county\"].nunique()}')\n",
    "print(f'Counties with measurements from floor 1: {mn_radon[mn_radon[\"floor\"]==1][\"county\"].nunique()}')"
   ]
  },
  {
   "cell_type": "markdown",
   "id": "3c77628d",
   "metadata": {},
   "source": [
    "**Relationship between home radon and county-level soil uranium**\n",
    "\n",
    "At the county-level, we have information on the soil uranium level.  We plot the number of observations by soil uranium.  The points on the x-axis line up with the histogram bars on the above plot, but instead of histogram bars, we have a series of points showing the different log_uranium levels."
   ]
  },
  {
   "cell_type": "code",
   "execution_count": null,
   "id": "9928fe93",
   "metadata": {},
   "outputs": [],
   "source": [
    "(p9.ggplot(data=mn_counties, mapping=p9.aes(x='homes', y='log_uranium'))\n",
    "    + p9.geom_point(fill='orange', color='darkred')\n",
    "    + p9.geom_text(data=mn_counties[mn_counties['homes']>25],\n",
    "                   mapping=p9.aes(label='county'),\n",
    "                   size=8, nudge_x=4, nudge_y=0.1)\n",
    "    + p9.xlab(\"observations per county\") + p9.ylab(\"county soil log_uranium\")\n",
    "    + p9.theme(figure_size=(12,4))\n",
    ")"
   ]
  },
  {
   "cell_type": "markdown",
   "id": "a3a74cb8",
   "metadata": {},
   "source": [
    "We plot the relationship between soil uranium level and the home radon measurement.\n",
    "We use plotnine's [facet_grid](https://plotnine.readthedocs.io/en/stable/generated/plotnine.facets.facet_grid.html#plotnine.facets.facet_gridplot) to get side-by-side per-floor plots.\n",
    "Because the soil uranium level measurement is the same for all homes in a county, for counties with many houses, i.e., metropolitan areas, the plot shows distinct vertical bands."
   ]
  },
  {
   "cell_type": "code",
   "execution_count": null,
   "id": "7af92e53",
   "metadata": {},
   "outputs": [],
   "source": [
    "(p9.ggplot(data=mn_radon, mapping=p9.aes(x='log_uranium', y='log_radon'))\n",
    "     + p9.geom_point(alpha=0.9, fill='orange', color='darkred')\n",
    "     + p9.facet_grid(facets='~ floor', labeller='label_both')\n",
    "     + p9.xlab(\"county-level soil log_uranium\") + p9.ylab(\"home log_radon\") \n",
    "     + p9.theme(figure_size=(12,4))\n",
    ")"
   ]
  },
  {
   "cell_type": "markdown",
   "id": "f833b025",
   "metadata": {},
   "source": [
    "To see whether or not the soil uranium level might be a good predictor of the home radon measurements,\n",
    "we can repeat the above boxplot, this time ordering the counties on the x-axis by\n",
    "the per-county activity levels, ordered by uranium level per county, descending.\n",
    "\n",
    "\n",
    "Given the sparse data, the resulting plot is inconclusive."
   ]
  },
  {
   "cell_type": "code",
   "execution_count": null,
   "id": "afb04f4d",
   "metadata": {},
   "outputs": [],
   "source": [
    "uranium_desc = mn_counties.sort_values(by='log_uranium', ascending=False).reset_index()\n",
    "\n",
    "(p9.ggplot(data=mn_radon, mapping=p9.aes(x='county',y='log_radon'))\n",
    "    + p9.geom_boxplot(width=2, varwidth=True, outlier_alpha=0.4)\n",
    "    + p9.scale_x_discrete(limits=uranium_desc['county'], expand=(0,1))\n",
    "    + p9.ggtitle(\"Counties ordered by soil uranium high (left) to low (right)\")\n",
    "    + p9.ylab(\"range of home radon measurements\")\n",
    "    + xlabels_90\n",
    "    + p9.theme(figure_size=(20,6))\n",
    ")"
   ]
  },
  {
   "cell_type": "markdown",
   "id": "b2ef04ce",
   "metadata": {},
   "source": [
    "**Preliminary Data Analysis Findings**\n",
    "\n",
    "* 83% of the data are measurements taken on the basement level.\n",
    "\n",
    "* 70% of the counties (60 out of 85) have observations from both floors 0 and 1,\n",
    "the remaining 30% only have observations from floor 0 (basement).\n",
    "\n",
    "* Within each county, the range of radon measurements is very wide.\n",
    "\n",
    "* For most counties, there are fewer than 10 observations; 8 counties\n",
    "in metropolitan areas account for over half of the observations.\n",
    "\n",
    "* Soil uranium levels vary and the counties with the highest soil uranium levels do not have a lot of observations per county."
   ]
  },
  {
   "cell_type": "markdown",
   "id": "8f7b4f09",
   "metadata": {},
   "source": [
    "## Best Practice #2: start with a simple model\n",
    "\n",
    "Starting from a simple model ensures that there is a good baseline\n",
    "against which to measure performance.\n",
    "For this case study, \n",
    "the baseline model is a regular (non-multilevel) linear regression model,\n",
    "[see Appendix A](#regression),\n",
    "where the outcome _y_ is the home log radon level and the predictor _x_ is the floor\n",
    "on which the measurement was taken.\n",
    "We consider two possible models:   **complete pooling** and **no-pooling**.\n",
    "\n",
    "The **complete pooling** model estimates a single intercept term for the regression.\n",
    "\n",
    "$\n",
    "\\mathrm{log\\_radon}_i = \\alpha \\, + {\\beta}\\,\\mathrm{floor}_i + {\\epsilon}_i\n",
    "$\n",
    "\n",
    "The **no pooling** model estimates a per-county intercept term.\n",
    "The intercept term $\\alpha$ is a vector of size $\\mathrm{J}$, the number of counties.\n",
    "\n",
    "$\n",
    "\\mathrm{log\\_radon}_i = \\alpha_{j[i]} \\, + {\\beta}\\,\\mathrm{floor}_i + {\\epsilon}_i \\ \\ \\ \\\n",
    "$\n",
    "where $j = 1 \\ldots 85$.\n",
    "\n",
    "Gelman and Hill use the notation $\\alpha_{j[i]}$ to denote the element of $j$ corresponding to observation $i$,\n",
    "arguing that this notation better reflects the structure of the data.\n",
    "\n",
    "Because the floors are coded\n",
    "$\\mathrm{floor}_{\\mathrm{basement}} = 0$,  $\\mathrm{floor}_{\\mathrm{ground}} = 1$,\n",
    "for basement measurements, the observed outcome $\\mathrm{log\\_radon}$ is just\n",
    "the intercept term plus measurement error.\n",
    "\n",
    "We can use [plotnine.geom.geom_smooth(method=\"lm\")](https://plotnine.readthedocs.io/en/stable/generated/plotnine.geoms.geom_smooth.html#plotnine.geoms.geom_smooth)\n",
    "to visualize both the complete pooling and no pooling-models.\n",
    "This adds a layer with the mean regression line, and grey margins which indicate the amount of variance.\n",
    "\n",
    "For the complete pooling model, we add this geom to the saved plot `plot_radon_floor`."
   ]
  },
  {
   "cell_type": "code",
   "execution_count": null,
   "id": "f38aaefe",
   "metadata": {},
   "outputs": [],
   "source": [
    "p1 = (plot_radon_floor\n",
    "      +  p9.geom_smooth(method='lm')\n",
    "      +  p9.ggtitle(\"log_radon by floor, complete pooling\")\n",
    "     )      \n",
    "p1"
   ]
  },
  {
   "cell_type": "markdown",
   "id": "74e9b994-8b4e-47c1-84b1-5d3e1e1a8632",
   "metadata": {},
   "source": [
    "For the no-pooling model, we facet the radon by floor plot.\n",
    "When combined with `geom_smooth`, every facet has its own regression model.\n",
    "As noted above, most of the measurements are taken at the basement level and there are 25 counties without any measurements taken on floor 1. For these counties, in the faceted plot the geom_smooth trend line is absent; i.e., we cannot estimate the slope of the regression line. For counties with measurements on both floors, in a few cases, e.g., Carlton county, the regression line between floor 0 and 1 has a positive slope, which a) goes against the estimate from the complete pooling model, and b) goes against what we know about how radon enters the home."
   ]
  },
  {
   "cell_type": "code",
   "execution_count": null,
   "id": "9d0027c0-2628-4d6f-a719-19e7f06b3f5f",
   "metadata": {},
   "outputs": [],
   "source": [
    "(p9.ggplot(data=mn_radon, mapping=p9.aes('floor', 'log_radon'))\n",
    "     + p9.geom_jitter(width=0.05)\n",
    "     + p9.geom_smooth(method='lm')\n",
    "     + p9.facet_wrap('county')\n",
    "     + p9.ggtitle(\"log_radon by floor, no pooling\")\n",
    "     + p9.scale_x_continuous(breaks=range(0,2), minor_breaks=[])\n",
    "     + p9.scales.ylim(-3, 4)  # same limits as complete pooling\n",
    "     + p9.theme(figure_size=(18,20))\n",
    ")"
   ]
  },
  {
   "cell_type": "markdown",
   "id": "85128bc3-db4f-44e8-b884-02169279cff4",
   "metadata": {},
   "source": [
    "### Simple linear regression in Stan\n",
    "\n",
    "The complete-pooling model corresponds to the simplest linear regression model in the\n",
    "[Stan User's Guide](https://mc-stan.org/docs/stan-users-guide/linear-regression.html).\n",
    "This model is in file [radon_cp.stan](stan/radon_cp.stan).\n",
    "It adds the following to the model in the Stan User's Guide:\n",
    "\n",
    "+ All model parameters have [weakly informative priors](https://github.com/stan-dev/stan/wiki/Prior-Choice-Recommendations).\n",
    "\n",
    "+ The `generated quantities` program block is used to generate a new sample `y_rep`, which is $\\widetilde{y}$, yet to be observed data.\n",
    "By using the model parameter estimates with Stan's [random number generator probability functions](https://mc-stan.org/docs/functions-reference/distributions-prng.html)\n",
    "we generate a new dataset which captures both sampler error and estimation error; see the User's Guide\n",
    "chapter on [Posterior Predictive Sampling](https://mc-stan.org/docs/stan-users-guide/posterior-prediction.html) for details.\n",
    "In the next section we show how to use `y_rep` to test model correctness.\n",
    "\n",
    "\n",
    "The complete-pooling model doesn't use county information.\n",
    "If there is no real difference between the radon levels observed across the different counties,\n",
    "this is model will provide useful estimates."
   ]
  },
  {
   "cell_type": "raw",
   "id": "6a301beb-c481-4edd-9010-eab29bf571aa",
   "metadata": {},
   "source": [
    "data {\n",
    "  int<lower=1> N;\n",
    "  vector[N] x;\n",
    "  vector[N] y;\n",
    "}\n",
    "parameters {\n",
    "  real alpha;\n",
    "  real beta;\n",
    "  real<lower=0> sigma;\n",
    "}\n",
    "model {\n",
    "  y ~ normal(alpha + beta * x, sigma);\n",
    "  alpha ~ normal(0, 10);\n",
    "  beta ~ normal(0, 10);\n",
    "  sigma ~ normal(0, 10);\n",
    "}\n",
    "generated quantities {\n",
    "  array[N] real y_rep = normal_rng(alpha + beta * x, sigma);\n",
    "}\n"
   ]
  },
  {
   "cell_type": "markdown",
   "id": "2fcbab7b-57c7-400a-b099-fda586c25b9c",
   "metadata": {},
   "source": [
    "The no-pooling model is in file [radon_np.stan](stan/radon_np.stan).\n",
    "It differs from the complete pooling model in that\n",
    "\n",
    "- The input data includes the number of counties `J` and a vector of county ids for each observation.\n",
    "- The intercept parameter `alpha` is coded as a vector of size `J`."
   ]
  },
  {
   "cell_type": "raw",
   "id": "7fd8dc43-ebce-4654-9bf6-95c2adf0114f",
   "metadata": {},
   "source": [
    "data {\n",
    "  int<lower=1> N;  // observations\n",
    "  int<lower=1> J;  // counties\n",
    "  array[N] int<lower=1, upper=J> county;\n",
    "  vector[N] x;     // floor\n",
    "  vector[N] y;     // radon\n",
    "}\n",
    "parameters {\n",
    "  vector[J] alpha;\n",
    "  real beta;\n",
    "  real<lower=0> sigma;\n",
    "}\n",
    "model {\n",
    "  y ~ normal(alpha[county] + beta * x, sigma);  \n",
    "  alpha ~ normal(0, 10);\n",
    "  beta ~ normal(0, 10);\n",
    "  sigma ~ normal(0, 10);\n",
    "}\n",
    "generated quantities {\n",
    "  array[N] real y_rep = normal_rng(alpha[county] + beta * x, sigma);\n",
    "}\n"
   ]
  },
  {
   "cell_type": "markdown",
   "id": "b09c6083-87fc-40af-a942-754c87766b3d",
   "metadata": {},
   "source": [
    "**Stan Programming Language:  Mutliple Indexes**\n",
    "\n",
    "The no-pooling model uses Stan's [multiple indexing](https://mc-stan.org/docs/reference-manual/language-multi-indexing.html) syntax to specify the likelihood of y and to compute y_rep\n",
    "\n",
    "```\n",
    "y ~ normal(alpha[county] + beta * x, sigma);\n",
    "```\n",
    "\n",
    "+ vector `alpha` has size `J`\n",
    "+ integer array `county` is size `N`\n",
    "+ the values of `county` are between 1 and `J`, inclusive, therefore `county` is a valid set of indexes into `alpha`\n",
    "+ the expression `alpha[county]` is a vector of size `N`\n",
    "+ the expression `alpha[county] + beta * x` is a vector of size `N`\n",
    "\n",
    "This satisfies the size constraints on the arguments to the vectorized normal distribution function.\n",
    "\n",
    "\n"
   ]
  },
  {
   "cell_type": "markdown",
   "id": "b244a1a7-4ca1-4244-913e-93e158585749",
   "metadata": {},
   "source": [
    "**Best Practice:  Use File Naming Conventions**\n",
    "\n",
    "In this case study\n",
    "\n",
    "+ suffix \"cp\" stands for \"complete pooling\"\n",
    "+ suffix \"np\" stands for \"no pooling\"\n",
    "+ suffix \"pp\" stands for \"partial pooling\""
   ]
  },
  {
   "cell_type": "markdown",
   "id": "156b11c3-e1b1-49a4-a6b9-f24f48c35c49",
   "metadata": {},
   "source": [
    "### Fitting Models in CmdStanPy\n",
    "\n",
    "We create [CmdStanModel](https://mc-stan.org/cmdstanpy/api.html#cmdstanmodel) objects for both the complete-pooling and no-pooling models."
   ]
  },
  {
   "cell_type": "code",
   "execution_count": null,
   "id": "d423534c",
   "metadata": {},
   "outputs": [],
   "source": [
    "complete_pooling_model = CmdStanModel(stan_file=os.path.join('stan', 'radon_cp.stan'))\n",
    "no_pooling_model = CmdStanModel(stan_file=os.path.join('stan', 'radon_np.stan'))"
   ]
  },
  {
   "cell_type": "markdown",
   "id": "1e913735",
   "metadata": {},
   "source": [
    "We assemble a Python dictionary which contains the definitions of the data block variables."
   ]
  },
  {
   "cell_type": "code",
   "execution_count": null,
   "id": "c7b18f74",
   "metadata": {},
   "outputs": [],
   "source": [
    "radon_data = {\"N\": len(mn_radon), \n",
    "              \"x\": mn_radon.floor.astype(float), \n",
    "              \"y\": mn_radon.log_radon,\n",
    "              \"J\":85, \n",
    "              \"county\" : mn_radon.county_id}"
   ]
  },
  {
   "cell_type": "markdown",
   "id": "873e69e2",
   "metadata": {},
   "source": [
    "We call the model's [sample](https://mc-stan.org/cmdstanpy/api.html#cmdstanpy.CmdStanModel.sample)\n",
    "method which runs Stan's NUTS-HMC sampler."
   ]
  },
  {
   "cell_type": "code",
   "execution_count": null,
   "id": "e39bcf09-eeea-448b-8410-1f141a297809",
   "metadata": {
    "tags": []
   },
   "outputs": [],
   "source": [
    "complete_pooling_fit = complete_pooling_model.sample(data=radon_data)"
   ]
  },
  {
   "cell_type": "code",
   "execution_count": null,
   "id": "57d95c29-df7d-44e9-a4d0-8129ded99e51",
   "metadata": {
    "tags": []
   },
   "outputs": [],
   "source": [
    "no_pooling_fit = no_pooling_model.sample(data=radon_data)"
   ]
  },
  {
   "cell_type": "markdown",
   "id": "7e1f6c07-adb9-488d-ac58-0841ba23a42c",
   "metadata": {},
   "source": [
    "### Extracting fit information\n",
    "\n",
    "The `sample` method returns a [CmdStanMCMC](https://mc-stan.org/cmdstanpy/api.html#cmdstanmcmc) object which\n",
    "provides methods to summarize and diagnose the model fit and accessor methods to access the entire sample or individual items.\n",
    "Accessor functions allow the user\n",
    "to access the sample in whatever data format is needed for further analysis.\n",
    "\n",
    "- The sample can be treated as a collection of named, structured variables\n",
    "\n",
    "    + methods [stan_variable](https://mc-stan.org/cmdstanpy/api.html#cmdstanpy.CmdStanMCMC.stan_variable)\n",
    "    and [stan_variables](https://mc-stan.org/cmdstanpy/api.html#cmdstanpy.CmdStanMCMC.stan_variables) return a `numpy.ndarray` and\n",
    "    a Python dictionary of `numpy.ndarray` objects, respectively, whose structure corresponds to the Stan variable.\n",
    "\n",
    "    + method [draws_xr](https://mc-stan.org/cmdstanpy/api.html#cmdstanpy.CmdStanMCMC.draws_xr) returns an [xarray.Dataset](https://docs.xarray.dev/en/stable/generated/xarray.Dataset.html) of all Stan variables.\n",
    "\n",
    "- The sample can be extracted in tabular format, either as\n",
    "\n",
    "    + method [draws](https://mc-stan.org/cmdstanpy/api.html#cmdstanpy.CmdStanMCMC.draws) returns a [numpy.ndarray](https://numpy.org/doc/stable/reference/generated/numpy.ndarray.html#numpy.ndarray) over all columns in the output CSV file.\n",
    "\n",
    "    + method [draws_pd](https://mc-stan.org/cmdstanpy/api.html#cmdstanpy.CmdStanMCMC.stan_variable) returns a [pandas.DataFrame](https://pandas.pydata.org/pandas-docs/stable/reference/api/pandas.DataFrame.html#pandas.DataFrame) over all columns in the output CSV file.  The argument `vars` can be used to restrict this to specified variables or columns.\n",
    "\n",
    "We use the `draws_pd` method to access the sample draws for variables `alpha`, `beta`, and `sigma`.\n",
    "The draws across all chains are flattened into a single dimension.\n",
    "In this example, the output 3-D array of 4 chains of 1000 draws over 3 variables which becomes\n",
    "a 2-D array of 4000 draws of 3 variables."
   ]
  },
  {
   "cell_type": "code",
   "execution_count": null,
   "id": "195839be-fdd4-4bf0-8ea3-703e031a9605",
   "metadata": {},
   "outputs": [],
   "source": [
    "pool_pd = complete_pooling_fit.draws_pd(vars=['alpha', 'beta', 'sigma'])\n",
    "print(f'sample draws shape:  {pool_pd.shape}')\n",
    "pool_pd[:3]"
   ]
  },
  {
   "cell_type": "markdown",
   "id": "c5d95ec7",
   "metadata": {},
   "source": [
    "There are two reasons why we use the `draws_pd` method:\n",
    "\n",
    "+ pandas provides many useful statistical functions.\n",
    "+ plotnine is designed to work with pandas DataFrames."
   ]
  },
  {
   "cell_type": "code",
   "execution_count": null,
   "id": "cc0753ef-4a3e-47b1-8c88-8e325e2dc7f4",
   "metadata": {},
   "outputs": [],
   "source": [
    "pool_stats = pool_pd.describe()\n",
    "pool_stats.round(2)"
   ]
  },
  {
   "cell_type": "markdown",
   "id": "81100ce4",
   "metadata": {},
   "source": [
    "Another, more computationally expensive way to get these summary statistics is to call the [CmdStanMCMC.summary](https://mc-stan.org/cmdstanpy/api.html#cmdstanpy.CmdStanMCMC.summary) method.\n",
    "This returns a pandas.DataFrame of summary statistics for total joint log probability lp__ and all model variables,\n",
    "plus diagnostic statistics on the\n",
    "[effective sample size](https://mc-stan.org/docs/reference-manual/effective-sample-size.html)\n",
    "and [R_hat](https://mc-stan.org/docs/reference-manual/notation-for-samples-chains-and-draws.html#potential-scale-reduction), the potential scale reduction factor."
   ]
  },
  {
   "cell_type": "code",
   "execution_count": null,
   "id": "059865bc",
   "metadata": {
    "scrolled": true
   },
   "outputs": [],
   "source": [
    "complete_pooling_fit.summary().round(2)[1:4]"
   ]
  },
  {
   "cell_type": "markdown",
   "id": "1541c404-abed-43ef-bdd1-f2681b221a17",
   "metadata": {},
   "source": [
    "### Visualizing model estimates with plotnine\n",
    "\n",
    "To check that the Stan model's estimates are in line with the `geom_smooth(method='lm')`  results shown above,\n",
    "we create the same plot from the fitted model.\n",
    "We need to overlay the jittered plot of the data with a trend line showing\n",
    "the mean estimated log radon level for floor 0 and 1.\n",
    "To do this, we plug the estimates of `alpha` and `beta` into\n",
    "the equation $y = \\alpha + \\beta \\, x$\n",
    "\n",
    "+ when x $= 0$, y $=$ `alpha`\n",
    "+ when x $= 1$, y $=$ `alpha` + `beta`.\n",
    "\n",
    "Then we add a trend line to the plot which connects this pair of (x, y) points.\n",
    "In plotnine, there are two ways to do this\n",
    "\n",
    "+ [plotnine.geoms.geom_line](https://plotnine.readthedocs.io/en/stable/generated/plotnine.geoms.geom_line.html#plotnine.geoms.geom_line)\n",
    "draws a line through a set of connected points\n",
    "+ [plotnine.stats.stat_function](https://plotnine.readthedocs.io/en/stable/generated/plotnine.stats.stat_function.html#plotnine.stats.stat_function)\n",
    "superimposes a function on a plot.\n",
    "\n",
    "We use the `stats.stat_function` to draw the mean trend line and the `geoms.geom_line` function to plot\n",
    "a random sample of draws from the posterior."
   ]
  },
  {
   "cell_type": "code",
   "execution_count": null,
   "id": "f1d00d18-04a8-4f63-a9c8-6e83ac923a0a",
   "metadata": {},
   "outputs": [],
   "source": [
    "f1 = pool_pd.alpha + pool_pd.beta  # y coord at floor 1 \n",
    "f0 = pd.Series(pool_pd.alpha.values)  # y coord at floor 0\n",
    "\n",
    "# \n",
    "sz = 100\n",
    "ys = pd.concat([f0, f1], axis=1)\n",
    "ys = ys.sample(sz).reset_index(drop=True)\n",
    "\n",
    "# add sample regression lines to plot_radon_floor (from earlier section)\n",
    "p2 = plot_radon_floor\n",
    "for i in range(sz):\n",
    "    p2 = p2 + p9.geom_line(data=ys.T, mapping=p9.aes(x=[0,1], y=ys.loc[i]),\n",
    "                           inherit_aes=False, color='grey', alpha=0.06)\n",
    "\n",
    "# add central regression line\n",
    "p2 = p2 + p9.stat_function(mapping=p9.aes(x=1),\n",
    "    fun=lambda x: pool_stats.alpha['mean'] + pool_stats.beta['mean']*x,\n",
    "    color='blue', size=1\n",
    ")\n",
    "p2"
   ]
  },
  {
   "cell_type": "markdown",
   "id": "52dabbea-44e9-47fe-8804-999fae2323c7",
   "metadata": {},
   "source": [
    "## Best Practice #3: posterior predictive checks\n",
    "\n",
    "> Posterior predicitve checks are the unit tests of probabilistic programming\n",
    ">\n",
    ">                                             Ben Goodrich\n",
    "\n",
    "Posterior predictive checks tests how well the fitted model captures basic features of the data.\n",
    "\n",
    "In the generated quantities block we generate a new sample of \"replicated data\",\n",
    "by convention called `y_rep` by using the estimated model parameters as arguments to\n",
    "Stan's PRNG distribution functions.\n",
    "If a model captures the data well, summary statistics such as sample mean and standard deviation,\n",
    "should have similar values in the original and replicated data sets.\n",
    "See [the Stan Users Guide](https://mc-stan.org/docs/stan-users-guide/simulating-from-the-posterior-predictive-distribution.html) for further details.\n",
    "\n",
    "In this example, the model likelihood statement is\n",
    "\n",
    "```\n",
    "y ~ normal(alpha[county] + beta * x, sigma);\n",
    "```\n",
    "\n",
    "The posterior predicitve check is\n",
    "\n",
    "\n",
    "```\n",
    "  array[N] real y_rep = normal_rng(alpha[county] + beta * x, sigma);\n",
    "}\n",
    "```\n",
    "\n",
    "To see how this works, we again use the `draws_pd` method with argument `vars='y_rep'`."
   ]
  },
  {
   "cell_type": "code",
   "execution_count": null,
   "id": "1e97f642",
   "metadata": {},
   "outputs": [],
   "source": [
    "y_rep_pp = no_pooling_fit.draws_pd(vars='y_rep')\n",
    "y_rep_pp.shape"
   ]
  },
  {
   "cell_type": "markdown",
   "id": "9b628721",
   "metadata": {},
   "source": [
    "Next, we estimate the per-county median value for each of the 85 counties."
   ]
  },
  {
   "cell_type": "code",
   "execution_count": null,
   "id": "a730539e",
   "metadata": {},
   "outputs": [],
   "source": [
    "# for each of the 85 counties, estimate the median y_rep\n",
    "stat_median = []\n",
    "for i in range(1,86):\n",
    "    idxs = mn_radon.index[mn_radon['county_id'] == i].tolist()\n",
    "    stat_median.append(np.median(y_rep_pp.iloc[:, idxs].to_numpy().flatten()))"
   ]
  },
  {
   "cell_type": "markdown",
   "id": "b9167e93",
   "metadata": {},
   "source": [
    "Finally, we create a plot which combines  a boxplot layer and a layer of per-county median point estimates.\n",
    "For counties with a large number of observations, the median of `y` and `y_rep` are quite close."
   ]
  },
  {
   "cell_type": "code",
   "execution_count": null,
   "id": "1015170c",
   "metadata": {},
   "outputs": [],
   "source": [
    "(p9.ggplot()\n",
    "  + p9.geom_boxplot(data=mn_radon,\n",
    "                    mapping=p9.aes(x='county',y='log_radon'),\n",
    "                    color='orange', fatten=3, alpha=0.7, outlier_alpha=0.3, width=2, varwidth=True)\n",
    "  + p9.geom_point(mapping=p9.aes(x=mn_counties.county, y=stat_median), color='purple')\n",
    "  + xlabels_90\n",
    "  + p9.theme(figure_size=(16,6))\n",
    ")"
   ]
  },
  {
   "cell_type": "markdown",
   "id": "824bbc9e",
   "metadata": {},
   "source": [
    "Another visualization is to plot the distribution of the actual data against a random sample of replicates.\n",
    "We plot 1% of the data - 40 out of 4000."
   ]
  },
  {
   "cell_type": "code",
   "execution_count": null,
   "id": "859166da-b2af-4740-ac36-1fe67276f9d7",
   "metadata": {
    "tags": []
   },
   "outputs": [],
   "source": [
    "# get a random sample of the draws\n",
    "sz = 40\n",
    "y_rep = no_pooling_fit.draws_pd(vars='y_rep')\n",
    "\n",
    "# each column is a replicate of the data, using estimates of alpha, beta\n",
    "y_rep_sample = y_rep.sample(sz).reset_index(drop=True).T\n",
    "\n",
    "# plot actual distribution of the data against predicted new data\n",
    "cp_ppc = p9.ggplot()\n",
    "for i in range(sz):\n",
    "    cp_ppc = cp_ppc + p9.geom_density(mapping=p9.aes(x=y_rep_sample[i]), color='lightblue', alpha=0.4)\n",
    "cp_ppc = (cp_ppc \n",
    "          + p9.geom_density(data=mn_radon, mapping=p9.aes(x='log_radon'), color='darkblue', size=1.1)\n",
    "          + p9.xlab(\"log radon levels\") + p9.ylab(\"\")\n",
    "          + p9.theme(figure_size=(6,4))\n",
    "         )\n",
    "cp_ppc"
   ]
  },
  {
   "cell_type": "markdown",
   "id": "8973080d",
   "metadata": {},
   "source": [
    "The replicated densities are more diffuse; not quite as peaked and slightly wider than the actual data.\n",
    "\n",
    "Overall, the posterior predictive checks show that this model is reasonably well-specified for the data.\n"
   ]
  },
  {
   "cell_type": "markdown",
   "id": "c65f56ca-bbce-4dac-b8e7-7f4a3e6a2b06",
   "metadata": {},
   "source": [
    "We plot the estimates of `alpha` for all counties, sorted by number of observations, descending.\n",
    "The orange horizontal line is the mean estimate of `alpha` from the complete pooling model.\n",
    "The complete pooling model ignores the county level variance.  The no-pooling model overstates the variance between counties, especially for counties with only a few observations. The no-pooling estimates sometimes line up with the complete-pooling estimate, but not for the some of the counties with the most observations."
   ]
  },
  {
   "cell_type": "code",
   "execution_count": null,
   "id": "114086ca",
   "metadata": {
    "tags": []
   },
   "outputs": [],
   "source": [
    "# get sort order\n",
    "pop_desc = mn_counties.sort_values(by='homes', ascending=False).reset_index()\n",
    "\n",
    "# visualize\n",
    "p_no_pool = (p9.ggplot(data=no_pool_alpha_pd)\n",
    " # Range strip\n",
    " + p9.geom_segment(\n",
    "     mapping=p9.aes(x='county', xend='county', y='lower', yend='upper'),\n",
    "     size=1.4, color='darkblue', alpha=0.5,\n",
    " )\n",
    " + p9.geom_point(mapping=p9.aes(x='county', y='mean'))\n",
    " + p9.geom_hline(yintercept=complete_pool_alpha_mean, color='darkorange', size=1.5)\n",
    " + p9.scale_x_discrete(limits=pop_desc['county'])\n",
    " + p9.ggtitle(\"No pooling model estimates for alpha (basement log_radon level)\")\n",
    " + p9.xlab(\"ordered by observations per county, desc\") + p9.ylab(\"central 67% interval\")\n",
    " + xlabels_90\n",
    " + p9.theme(figure_size=(20,6)) \n",
    ")\n",
    "p_no_pool"
   ]
  },
  {
   "cell_type": "markdown",
   "id": "fd80a3a9-f8fc-417f-a7fa-b26cb1ddd46d",
   "metadata": {},
   "source": [
    "To see how the no-pooling estimate lines up with the raw data, we add the boxplot from the previous section to this plot.\n",
    "The fewer the number of observations, the greater the variance in the estimates.\n",
    "The value of the intercept corresponds to the average value of basement-level measurements in the data whereas the boxplot center line is the median value of the observations for that county."
   ]
  },
  {
   "cell_type": "code",
   "execution_count": null,
   "id": "227333f9-8c47-4d58-b984-c0f1f9444e61",
   "metadata": {},
   "outputs": [],
   "source": [
    "(p_no_pool\n",
    " + p9.geom_boxplot(data=mn_radon, mapping=p9.aes(x='county',y='log_radon'), color='orange', alpha=0.4, outlier_alpha=0.3)\n",
    ")"
   ]
  },
  {
   "cell_type": "markdown",
   "id": "ba6fa5cc-f1cd-41f7-b797-cc16cf55eee0",
   "metadata": {},
   "source": [
    "### Simple linear regression in Stan:  adding predictors\n",
    "\n",
    "We add the county-level soil log uranium measurements to the no-pooling model.\n",
    "This model is in file [radon_np_uranium.stan](stan/radon_np_uranium.stan)."
   ]
  },
  {
   "cell_type": "code",
   "execution_count": null,
   "id": "a6276e57-17a8-40ef-8b1d-a01eccf283c7",
   "metadata": {},
   "outputs": [],
   "source": [
    "two_predictors_model = CmdStanModel(stan_file=os.path.join('stan', 'radon_np_uranium.stan'))\n",
    "print(two_predictors_model.code())"
   ]
  },
  {
   "cell_type": "code",
   "execution_count": null,
   "id": "a91a5678-3b1f-4e46-a9a5-c864fb3bee84",
   "metadata": {},
   "outputs": [],
   "source": [
    "radon_data[\"u\"] = mn_radon.log_uranium"
   ]
  },
  {
   "cell_type": "code",
   "execution_count": null,
   "id": "fb022f6e-d947-4844-8e76-1ce2a6790f17",
   "metadata": {},
   "outputs": [],
   "source": [
    "two_predictors_fit = two_predictors_model.sample(data=radon_data)\n",
    "two_predictors_fit.summary().loc['beta[2]'].round(2)"
   ]
  },
  {
   "cell_type": "markdown",
   "id": "675fd32b-9166-46d4-a52d-eaf130d52ffb",
   "metadata": {},
   "source": [
    "Although the mean estimate of the regression coefficient for the soil log uranium level is positive, it has extremely high variance and the central 90% of the probability distribution includes 0.\n",
    "Plot this."
   ]
  },
  {
   "cell_type": "code",
   "execution_count": null,
   "id": "fb3dea6b-530a-4269-beec-d1a94a927331",
   "metadata": {},
   "outputs": [],
   "source": [
    "# plot distribution\n",
    "# get a random sample of the draws\n",
    "sz = 40\n",
    "\n",
    "y_rep_u = two_predictors_fit.draws_pd(vars='y_rep')\n",
    "\n",
    "\n",
    "# each column is a replicate of the data, using estimates of alpha, beta\n",
    "y_rep_u_sample = y_rep_u.sample(sz).reset_index(drop=True).T\n",
    "\n",
    "# plot actual distribution of the data against predicted new data\n",
    "u_ppc = p9.ggplot()\n",
    "for i in range(sz):\n",
    "    u_ppc = u_ppc + p9.geom_density(mapping=p9.aes(x=y_rep_u_sample[i]), color='lightblue', alpha=0.4)\n",
    "u_ppc = (u_ppc \n",
    "          + p9.geom_density(data=mn_radon, mapping=p9.aes(x='log_radon'), color='darkblue', size=1.1)\n",
    "          + p9.xlab(\"log radon levels\") + p9.ylab(\"\")\n",
    "          + p9.theme(figure_size=(6,4))\n",
    "         )\n",
    "u_ppc"
   ]
  },
  {
   "cell_type": "code",
   "execution_count": null,
   "id": "aa6ad1a8-9734-41b3-b320-f3b635dc8004",
   "metadata": {},
   "outputs": [],
   "source": [
    "# plot per-county range of estimates of beta"
   ]
  },
  {
   "cell_type": "markdown",
   "id": "5c0e29ad-277b-46a4-9b21-caf69d491e52",
   "metadata": {},
   "source": [
    "## Multilevel models\n",
    "\n",
    "Multilevel models are extensions of regression which can model\n",
    "dependency structures in the data.\n",
    "For example, when data are nested in a hierarchy, a multi-level model\n",
    "lets us model all levels of the hierarchy.\n",
    "For this dataset, houses are nested within counties.\n",
    "An ordinary regression can either model all counties as being identical, the complete pooling model,\n",
    "or all counties as being different, the no-pooling model.\n",
    "\n",
    "A multi-level regression accounts for the observed variation across counties\n",
    "by modeling the counties as being drawn from\n",
    "a common distribution, whose parameters are estimated jointly by the model.\n",
    "This allows for *partial pooling* of information.\n",
    "When there is very little variation across counties, the multi-level model approaches the complete-pooling model,\n",
    "at the other extreme, when the amount of variation is very large, it approaches the no-pooling model\n",
    "\n",
    "A simple linear regression model with a single predictor\n",
    "estimates two parameters:  the intercept and slope of the regression line.\n",
    "In a multilevel model, either or both of these parameters can be modeled, as illustrated by Figure 11.1 from Gelman and Hill.\n",
    "As the number of regression predictors increases, the modeling choices increase.\n",
    "![multilevel models](img/multilevel_models_fig_11_1.png)\n",
    "\n",
    "###  Varying intercept models\n",
    "\n",
    "Like the no-pooling model, this model has a vector of per-county intercept terms $\\alpha$,\n",
    "but in the multilevel model, we place a distribution on the intercept term\n",
    "\n",
    "$\n",
    "\\alpha_j \\sim \\mathrm{N}(\\mu_\\alpha,\\, {\\sigma_\\alpha}^2),\\ \\ \\ \\ \\mathrm{for}\\ \\ j\\, = 1, \\ldots, \\mathrm{J}\n",
    "$\n",
    "\n",
    "Putting this together with the individual intercept model above, the partial-pooling model is\n",
    "\n",
    "$\n",
    "y_i = \\alpha_{j[i]} \\, + {\\beta}\\,x_i + {\\epsilon}_i\\newline\n",
    "\\alpha_j \\sim \\mathrm{N}(\\mu_\\alpha,\\, {\\sigma_\\alpha}^2),\\ \\ \\ \\ \\mathrm{for}\\ \\ j\\, = 1, \\ldots, \\mathrm{J}\n",
    "$\n",
    "\n",
    "All parameters are also estimated jointly by the model.\n",
    "This model provides _partial pooling_ of information;\n",
    "it pulls the estimates of $\\alpha_j$ towards the mean level $\\mu_\\alpha$, to a greater or lesser degree.\n",
    "Partial pooling is a _soft constraint_ whose effect depends on the amount of group-level variance $\\sigma_\\alpha$.\n",
    "As the variance increases, the amound of pooling decreases so that when\n",
    "$\\sigma_\\alpha \\rightarrow \\inf$ there is no pooling; and when $\\sigma_\\alpha \\rightarrow 0$ there is complete-pooling.\n",
    "\n",
    "The varying intercept model is in file [stan/radon_pp_alpha.stan](stan/radon_pp_alpha.stan)."
   ]
  },
  {
   "cell_type": "code",
   "execution_count": null,
   "id": "6554696e-c2e1-47d4-8805-fce1b8e4ded3",
   "metadata": {
    "tags": []
   },
   "outputs": [],
   "source": [
    "partial_pooling_alpha_model = CmdStanModel(stan_file=os.path.join('stan', 'radon_pp_alpha.stan'))\n",
    "print(partial_pooling_alpha_model.code())"
   ]
  },
  {
   "cell_type": "code",
   "execution_count": null,
   "id": "b92cf3ca-9145-4847-aed6-78c1d4a94e68",
   "metadata": {
    "tags": []
   },
   "outputs": [],
   "source": [
    "partial_pooling_alpha_fit = partial_pooling_alpha_model.sample(data=radon_data)\n",
    "partial_pooling_alpha_fit.summary().round(2)[:10]"
   ]
  },
  {
   "cell_type": "code",
   "execution_count": null,
   "id": "97deec13",
   "metadata": {},
   "outputs": [],
   "source": [
    "complete_pool_alpha = np.mean(complete_pooling_fit.stan_variable('alpha'))\n",
    "complete_pool_alpha_lower = np.quantile(complete_pooling_fit.stan_variable('alpha'), .16, axis=0)\n",
    "complete_pool_alpha_upper = np.quantile(complete_pooling_fit.stan_variable('alpha'), .84, axis=0)\n",
    "\n",
    "part_pool_mu_alpha = partial_pooling_alpha_fit.stan_variable('mu_alpha').mean()\n",
    "part_pool_alpha = partial_pooling_alpha_fit.stan_variable('alpha')\n",
    "part_pool_alpha_mean = np.mean(part_pool_alpha, axis=0)\n",
    "part_pool_alpha_lower = np.quantile(part_pool_alpha, 0.16, axis=0)\n",
    "part_pool_alpha_upper = np.quantile(part_pool_alpha, 0.84, axis=0)\n",
    "part_pool_alpha_pd = pd.DataFrame(\n",
    "    data={\n",
    "        \"mean\": part_pool_alpha_mean,\n",
    "        \"upper\": part_pool_alpha_upper, \n",
    "        \"lower\": part_pool_alpha_lower, \n",
    "        \"county\":mn_counties['county']\n",
    "    }\n",
    ")\n",
    "part_pool_alpha_pd[:3]"
   ]
  },
  {
   "cell_type": "markdown",
   "id": "39627ee1-bfb8-4278-9889-68fd03354693",
   "metadata": {},
   "source": [
    "We plot the per-county estimates of `alpha` just as we did above, and we keep the y-axis on the same scale\n",
    "as for the no-pooling model; which were in range $(0, 3.5)$ (roughly).   This shows how the hierarchical pools information\n",
    "among the intercept terms and helps shrink the variance of the estimates."
   ]
  },
  {
   "cell_type": "code",
   "execution_count": null,
   "id": "149a9dee-2185-46ba-aa6f-b1c2eb540c59",
   "metadata": {},
   "outputs": [],
   "source": [
    "# visualize\n",
    "p_partial_pool_intercept = (p9.ggplot(data=part_pool_alpha_pd)\n",
    " # Range strip\n",
    " + p9.geom_segment(\n",
    "     mapping=p9.aes(x='county', xend='county', y='lower', yend='upper'),\n",
    "     size=1.7, color='blue', alpha=0.7,\n",
    " )\n",
    " + p9.geom_point(mapping=p9.aes(x='county', y='mean'))\n",
    " + p9.geom_hline(yintercept=part_pool_mu_alpha, color='darkblue', size=1)\n",
    " + p9.scale_x_discrete(limits=pop_desc['county']) + p9.scales.ylim(0,3.5)\n",
    " + p9.ggtitle(\"multilevel varying intercept model estimates for alpha (basement log_radon level)\")\n",
    " + p9.xlab(\"ordered by observations per county, desc\") + p9.ylab(\"central 67% interval\")\n",
    " + xlabels_90\n",
    " + p9.theme(figure_size=(20,6)) \n",
    ")\n",
    "p_partial_pool_intercept"
   ]
  },
  {
   "cell_type": "markdown",
   "id": "68436a8a-cd0c-4055-b0d9-da6a02286ff9",
   "metadata": {},
   "source": [
    "To compare the no-pooling and partial pooling model estimates of `alpha` directly, we overlay the above plot with the estimated from the no-pooling model in orange."
   ]
  },
  {
   "cell_type": "code",
   "execution_count": null,
   "id": "166b4573-bccf-4f72-8c63-4fd28b8906e3",
   "metadata": {},
   "outputs": [],
   "source": [
    "(p_partial_pool_intercept\n",
    "    + p9.geom_segment(data=no_pool_alpha_pd,\n",
    "         mapping=p9.aes(x='county', xend='county', y='lower', yend='upper'),\n",
    "         size=1.4, color='orange', alpha=0.6,\n",
    "     )\n",
    "     + p9.geom_hline(yintercept=complete_pool_alpha_mean, color='darkorange', size=1)\n",
    ")"
   ]
  },
  {
   "cell_type": "code",
   "execution_count": null,
   "id": "cb6e7199-5750-48ee-902e-9f63195efff6",
   "metadata": {},
   "outputs": [],
   "source": [
    "(p_partial_pool_intercept\n",
    " + p9.geom_boxplot(data=mn_radon, mapping=p9.aes(x='county',y='log_radon'), color='orange', alpha=0.4, outlier_alpha=0.3)\n",
    ")"
   ]
  },
  {
   "cell_type": "code",
   "execution_count": null,
   "id": "45a52565",
   "metadata": {},
   "outputs": [],
   "source": [
    "# plot medians from sample against boxplot y\n",
    "\n",
    "y_rep_pp = partial_pooling_alpha_fit.draws_pd(vars='y_rep')\n",
    "y_rep_pp.shape\n",
    "\n",
    "stat_median = []\n",
    "\n",
    "for i in range(1,86):\n",
    "    idxs = mn_radon.index[mn_radon['county_id'] == i].tolist()\n",
    "    stat_median.append(np.median(y_rep_pp.iloc[:, idxs].to_numpy().flatten()))\n",
    "\n",
    "(p9.ggplot()\n",
    "  + p9.geom_boxplot(data=mn_radon,\n",
    "                    mapping=p9.aes(x='county',y='log_radon'), color='orange', fatten=2, alpha=0.7, outlier_alpha=0.3)\n",
    "  + p9.geom_point(mapping=p9.aes(x=mn_counties.county, y=stat_median), color='purple')\n",
    "  + xlabels_90\n",
    "  + p9.theme(figure_size=(12,4))\n",
    ")\n",
    "\n"
   ]
  },
  {
   "cell_type": "code",
   "execution_count": null,
   "id": "2358b9a0-841b-467e-8c8f-0964a82fd053",
   "metadata": {},
   "outputs": [],
   "source": [
    "# each column is a replicate of the data, using estimates of alpha, beta\n",
    "sz=100\n",
    "y_rep_pp_sample = y_rep_pp.sample(sz).reset_index(drop=True).T\n",
    "\n",
    "# plot actual distribution of the data against predicted new data\n",
    "pp_ppc = p9.ggplot()\n",
    "for i in range(sz):\n",
    "    pp_ppc = pp_ppc + p9.geom_density(mapping=p9.aes(x=y_rep_pp_sample[i]), color='lightblue', alpha=0.4)\n",
    "pp_ppc = (pp_ppc \n",
    "          + p9.geom_density(data=mn_radon, mapping=p9.aes(x='log_radon'), color='darkblue', size=1.1)\n",
    "          + p9.xlab(\"log radon levels\") + p9.ylab(\"\")\n",
    "          + p9.theme(figure_size=(6,4))\n",
    "         )\n",
    "pp_ppc"
   ]
  },
  {
   "cell_type": "code",
   "execution_count": null,
   "id": "3c8ec645",
   "metadata": {},
   "outputs": [],
   "source": []
  },
  {
   "cell_type": "code",
   "execution_count": null,
   "id": "f4ce6b7d-2feb-46c7-b7e2-8ba8a5850651",
   "metadata": {},
   "outputs": [],
   "source": [
    "y_rep_pp = partial_pooling_alpha_fit.draws_pd(vars='y_rep').iloc[homes_in_lt10]\n",
    "\n",
    "# each column is a replicate of the data, using estimates of alpha, beta\n",
    "y_rep_pp_sample = y_rep_pp.sample(sz).reset_index(drop=True).T\n",
    "\n",
    "# plot actual distribution of the data against predicted new data\n",
    "pp_ppc = p9.ggplot()\n",
    "for i in range(sz):\n",
    "    pp_ppc = pp_ppc + p9.geom_density(mapping=p9.aes(x=y_rep_pp_sample[i]), color='lightblue', alpha=0.4)\n",
    "pp_ppc = (pp_ppc \n",
    "          + p9.geom_density(data=mn_radon, mapping=p9.aes(x='log_radon'), color='darkblue', size=1.1)\n",
    "          + p9.xlab(\"log radon levels\") + p9.ylab(\"\")\n",
    "          + p9.theme(figure_size=(6,4))\n",
    "         )\n",
    "pp_ppc"
   ]
  },
  {
   "cell_type": "markdown",
   "id": "52f86796-9f67-4b9d-9a78-02e68f035627",
   "metadata": {},
   "source": [
    "### Adding predictors\n",
    "\n",
    "We can add the county-level soil log uranium measure to the partial pooling model along with the floor, as was we did\n",
    "for the complete pooling model.\n",
    "This model is in file [radon_pp_uranium.stan](stan/radon_pp_uranium.stan)."
   ]
  },
  {
   "cell_type": "code",
   "execution_count": null,
   "id": "7e723233-f61f-478f-82e1-6c6cdc8e6bbc",
   "metadata": {},
   "outputs": [],
   "source": [
    "radon_pp_alpha_uranium = CmdStanModel(stan_file=os.path.join('stan', 'radon_pp_uranium.stan'))\n",
    "print(radon_pp_alpha_uranium.code())"
   ]
  },
  {
   "cell_type": "code",
   "execution_count": null,
   "id": "b0412c3f-a973-4b42-af75-e215b1fb4b43",
   "metadata": {},
   "outputs": [],
   "source": [
    "radon_pp_alpha_uranium_fit = radon_pp_alpha_uranium.sample(data=radon_data)"
   ]
  },
  {
   "cell_type": "code",
   "execution_count": null,
   "id": "ab15dc2d-2333-449a-b847-45f25c0672d5",
   "metadata": {},
   "outputs": [],
   "source": [
    "radon_pp_alpha_uranium_fit.summary().round(2)"
   ]
  },
  {
   "cell_type": "markdown",
   "id": "064cb2cb-c7e4-4587-8409-f7e7e5d6bc26",
   "metadata": {},
   "source": [
    "In this model, there is a single intercept $\\alpha$ and a  modeled predictor coefficients $\\beta_j$.\n",
    "\n",
    "$\n",
    "\\beta_j \\sim \\mathrm{N}(\\mu_\\beta,\\, {\\sigma_\\beta}^2),\\ \\ \\ \\ \\mathrm{for}\\ \\ j\\, = 1, \\ldots, \\mathrm{J}\n",
    "$\n",
    "\n",
    "Putting this together with the individual intercept model above, the partial-pooling model is\n",
    "\n",
    "$\n",
    "y_i = \\alpha \\, + {\\beta_{j[i]}}\\,x_i + {\\epsilon}_i\\newline\n",
    "\\beta \\sim \\mathrm{N}(\\mu_\\beta,\\, {\\sigma_\\beta}^2),\\ \\ \\ \\ \\mathrm{for}\\ \\ j\\, = 1, \\ldots, \\mathrm{J}\n",
    "$"
   ]
  },
  {
   "cell_type": "code",
   "execution_count": null,
   "id": "0d1917cd-cae3-4b61-9d1a-47fb019a547c",
   "metadata": {},
   "outputs": [],
   "source": [
    "partial_pooling_beta_model = CmdStanModel(stan_file=os.path.join('stan', 'radon_partial_pool_beta.stan'))\n",
    "print(partial_pooling_beta_model.code())"
   ]
  },
  {
   "cell_type": "code",
   "execution_count": null,
   "id": "437f3b7c-9a19-4c56-80af-6710fa96d2a1",
   "metadata": {},
   "outputs": [],
   "source": [
    "partial_pooling_beta_fit = partial_pooling_beta_model.sample(data=radon_data)\n",
    "partial_pooling_beta_fit.summary().round(2)"
   ]
  },
  {
   "cell_type": "code",
   "execution_count": null,
   "id": "370aac3b-e036-495c-81e8-cc00e984bb21",
   "metadata": {},
   "outputs": [],
   "source": [
    "complete_pool_beta = complete_pooling_fit.stan_variable('beta')\n",
    "complete_pool_beta_mean = np.mean(complete_pool_beta)\n",
    "complete_pool_beta_lower = np.quantile(complete_pool_beta, 0.16)\n",
    "complete_pool_beta_upper = np.quantile(complete_pool_beta, 0.84)"
   ]
  },
  {
   "cell_type": "code",
   "execution_count": null,
   "id": "c8699362-8de9-4996-9c71-322c48c04f2b",
   "metadata": {},
   "outputs": [],
   "source": [
    "part_pool_mu_beta = partial_pooling_beta_fit.stan_variable('mu_beta').mean()\n",
    "part_pool_beta = partial_pooling_beta_fit.stan_variable('beta')\n",
    "part_pool_beta_mean = np.mean(part_pool_beta, axis=0)\n",
    "part_pool_beta_lower = np.quantile(part_pool_beta, 0.16, axis=0)\n",
    "part_pool_beta_upper = np.quantile(part_pool_beta, 0.84, axis=0)\n",
    "part_pool_beta_pd = pd.DataFrame(\n",
    "    data={\n",
    "        \"mean\": part_pool_beta_mean,\n",
    "        \"upper\": part_pool_beta_upper, \n",
    "        \"lower\": part_pool_beta_lower, \n",
    "        \"county\":mn_counties['county']\n",
    "    }\n",
    ")\n",
    "part_pool_beta_pd[:3]"
   ]
  },
  {
   "cell_type": "code",
   "execution_count": null,
   "id": "bd90bcd5-0d96-4a11-b0aa-c56a31a6c101",
   "metadata": {},
   "outputs": [],
   "source": [
    "# visualize\n",
    "p_partial_pool_slope = (p9.ggplot(data=part_pool_beta_pd)\n",
    " # Range strip\n",
    " + p9.geom_segment(\n",
    "     mapping=p9.aes(x='county', xend='county', y='lower', yend='upper'),\n",
    "     size=1.4, color='darkblue', alpha=0.5,\n",
    " )\n",
    " + p9.geom_point(mapping=p9.aes(x='county', y='mean'))\n",
    " + p9.geom_hline(yintercept=part_pool_mu_beta, color='darkblue', size=1)\n",
    " + p9.geom_hline(yintercept=complete_pool_beta_mean, color='darkorange', size=1)\n",
    " + p9.geom_hline(yintercept=complete_pool_beta_upper, color='darkorange', size=0.7, linetype='dashed')\n",
    " + p9.geom_hline(yintercept=complete_pool_beta_lower, color='darkorange', size=0.7, linetype='dashed')\n",
    " + p9.scale_x_discrete(limits=pop_desc['county'])\n",
    " + p9.ggtitle(\"multilevel varying slope model estimates for beta (floor effect)\")\n",
    " + p9.xlab(\"ordered by observations per county, desc\") + p9.ylab(\"central 67% interval\")\n",
    " + xlabels_90\n",
    " + p9.theme(figure_size=(20,6)) \n",
    ")\n",
    "p_partial_pool_slope"
   ]
  },
  {
   "cell_type": "markdown",
   "id": "61ea05b9",
   "metadata": {},
   "source": [
    "This version of the model returns highly uncertain estimates for the floor effect.\n",
    "From what we know about radon, we don't expect the floor effect to vary dramatically from county to county;\n",
    "this result confirms that.\n",
    "\n",
    "### Complex multilevel models\n",
    "\n",
    "The full generality of multilevel modelling is introduced in Gelman and Hill chapter 13\n",
    "\"Multilevel linear models: varying slopes, non-nested models, and other complexities\".\n",
    "This introduces models in which slopes, intercepts, and interaction terms can all vary by group,\n",
    "as well as non-nested models, where the dataset can be structured into groups in more than one way.\n",
    "Examples of the latter are cross-cutting classifications such as demographic and geographic factors.\n",
    "\n",
    "The simplest possible statement of the varying intercept, varying slope model for\n",
    "the radon model with a single predictor models the both the intercepts and slopes separately,\n",
    "without consideration to interaction between the per-county slope and intercept.\n",
    "\n",
    "$\n",
    "y_i = \\alpha_{j[i]} \\, + {\\beta_{j[i]}}\\,x_i + {\\epsilon}_i\\newline\n",
    "\\alpha_j \\sim \\mathrm{N}(\\mu_\\alpha,\\, {\\sigma_\\alpha}^2),\\newline\n",
    "\\beta_j \\sim \\mathrm{N}(\\mu_\\beta,\\, {\\sigma_\\beta}^2),\\ \\ \\ \\ \\mathrm{for}\\ \\ j\\, = 1, \\ldots, \\mathrm{J}\n",
    "$\n",
    "\n",
    "Inasmuch as we don't believe that per-county estimates of the floor effect are warrented, we won't implement this model here.\n",
    "For more information on the complexities of this model and how to code it efficiently in Stan, see the Stan User's guide,\n",
    "section [Multivariate priors for hierarchical models](https://mc-stan.org/docs/stan-users-guide/multivariate-hierarchical-priors.html)"
   ]
  },
  {
   "cell_type": "markdown",
   "id": "34aac67c",
   "metadata": {},
   "source": [
    "## Discussion"
   ]
  },
  {
   "cell_type": "markdown",
   "id": "21d681c6-021d-4e1a-965a-215afb199273",
   "metadata": {},
   "source": [
    "<span id=\"regression\"> </span>\n",
    "\n",
    "## Appendix A: Linear regression review (chapters 2 and 3 of Gelman and Hill)\n",
    "\n",
    "\n",
    "[Linear regression](https://en.wikipedia.org/wiki/Linear_regression#Formulation) models the relationship between a scalar response and one or more explanatory variables.\n",
    "\n",
    "<a title=\"Krishnavedala, CC BY-SA 3.0 &lt;https://creativecommons.org/licenses/by-sa/3.0&gt;, via Wikimedia Commons\" href=\"https://commons.wikimedia.org/wiki/File:Linear_least_squares_example2.svg\">\n",
    "    <img width=\"256\" alt=\"Linear least squares example2\"\n",
    "             style=\"vertical-align:middle;margin:0px 50px\" src=\"https://upload.wikimedia.org/wikipedia/commons/thumb/b/b0/Linear_least_squares_example2.svg/256px-Linear_least_squares_example2.svg.png\">\n",
    "</a>\n",
    "\n",
    "A simple linear regression where the observed data (red) are assumed to be\n",
    "the result of random deviations (green) from an underlying relationship (blue)\n",
    "between the dependent variable (y) and an independent variable (x).\n",
    "The model fits the data by finding the linear function (a non-vertical straight line)\n",
    "which minimizes the distance between \"$y_i$ at offset $x_i$   and the line at offset $x_i$.\n",
    "\n",
    "$y_i = \\alpha \\, + \\beta\\,x_i + {\\epsilon}_i$\n",
    "\n",
    "* $\\alpha$ is the _intercept_, the offset from zero on the x-axis\n",
    "* $\\beta$ is the _slope_, the multiplier applied to x.\n",
    "* ${\\epsilon}_i$ is the error term, assuming independent errors drawn from a normal distribution with mean $0$, standard deviation $\\sigma$.\n",
    "\n",
    "In a simple linear regression, there is only a single predictor.  In an ordinary linear regression,\n",
    "there are many predictors, i.e., the model fits a vector of coefficients $\\beta$ to the vector\n",
    "of independent variables $X$.\n",
    "\n",
    "**Interpretation**\n",
    "\n",
    "In Chapter 3, Gelman and Hill write:\n",
    "\n",
    "> Linear regression is a method that summarizes how the average values of a numerical outcome variable vary over subpopulations defined by linear functions of predictors. ... Regression can be used to predict an outcome given a linear function of these predictors, and regression coefficients can be thought of as comparisons across predicted values or as comparisons among averages in the data.\n",
    "\n",
    "\n",
    "**Linear regression:  two ways to write the model**\n",
    "\n",
    "The goal of inference is to learn from incomplete or imperfect data.\n",
    "In the simple linear regression model, the error term $\\epsilon$ accounts for imperfect measurments of the data.\n",
    "\n",
    "$\n",
    "y_i = \\alpha \\, + {\\beta}\\,x_i + {\\epsilon}_i\n",
    "$\n",
    "where the errors ${\\epsilon}_i$ have independent normal distributions with mean $0$ and standard deviation $\\sigma$.\n",
    "\n",
    "An equivalent representation is\n",
    "\n",
    "$\n",
    "y_i ∼ \\mathrm{N}(\\alpha + \\beta\\,\\mathrm{X}_i,\\, \\sigma^2), \\ \\ \\ \\mathrm{for}\\ i=1, ..., n\n",
    "$\n",
    "\n",
    "The corresponding Stan statement is\n",
    "\n",
    "```\n",
    "y ~ normal(alpha + beta * x, sigma);\n",
    "```\n",
    "\n",
    "Stan provides [vectorized](https://mc-stan.org/docs/functions-reference/vectorization.html#vectorization) versions of all univariate probability distrions.\n",
    "This statement is far more efficient than using a `for` loop over all $x_i$ and $y_i$ pairs.\n",
    "\n",
    "**Simple linear regression model in Stan**\n",
    "\n",
    "The simple linear regression with a single predictor and a slope and intercept coefficient and normally distributed noise is the first model discussed in the [Stan User's Guide Regression Models chapter](https://mc-stan.org/docs/stan-users-guide/linear-regression.html).\n",
    "\n",
    "```\n",
    "data {\n",
    "  int<lower=0> N;\n",
    "  vector[N] x;\n",
    "  vector[N] y;\n",
    "}\n",
    "parameters {\n",
    "  real alpha;\n",
    "  real beta;\n",
    "  real<lower=0> sigma;\n",
    "}\n",
    "model {\n",
    "  y ~ normal(alpha + beta * x, sigma);\n",
    "}\n",
    "```\n",
    "\n",
    "This model is the minimal possible model.\n",
    "It consists of three named [program blocks](https://mc-stan.org/docs/reference-manual/overview-of-stans-program-blocks.html):\n",
    "the data and parameters are declared in the respectively named data and parameters block;\n",
    "the model block specifies the likelihood, i.e., the probability of the data given the model.\n",
    "Because no priors are specified on the model parameters, they are given the default prior\n",
    "distribution, which is uniform from  $-\\infty$ to $+\\infty$."
   ]
  },
  {
   "cell_type": "markdown",
   "id": "ba22b2a3",
   "metadata": {},
   "source": [
    "<span id=\"stan-coding\"> </span>\n",
    "\n",
    "## Appendix B:  efficient Stan models\n",
    "\n",
    "The models in this case study are all simple linear regression models, characterized by\n",
    "\n",
    "+ a vector of observations of length `N`\n",
    "+ a matrix of predictors of size `[N, M]`\n",
    "+ the scalar intercept parameter\n",
    "+ a vector of length `M` regression coefficients\n",
    "+ variance parameter\n",
    "\n",
    "These can be rewritten to use the more efficient [`normal_id_glm` distribution](https://mc-stan.org/docs/functions-reference/normal-id-glm.html) instead of the `normal` distribution.\n",
    "\n",
    "A regression with multiple predictors relates the dependent variable `y` to a vector of independent variables `xs`.\n",
    "The simple linear regression model generalizes to\n",
    "\n",
    "$y_i = \\alpha \\, + B\\,X_i + {\\epsilon}_i$\n",
    "\n",
    "\n",
    "where B is a vector of length M, and X is a matrix of size (N, M).\n",
    "\n",
    "This model can be coded efficiently in Stan using the \n",
    "[normal_id_glm distribution](https://mc-stan.org/docs/functions-reference/normal-id-glm.html)\n",
    "which is optimized for a [Generalised Linear Models (GLM)](https://en.wikipedia.org/wiki/Generalized_linear_model)\n",
    "with a normal likelihood and identify link function, and is named accordingly.\n",
    "The `normal_id_glm` distribution takes as arguments\n",
    "\n",
    "+ a vector of observations of length `N`\n",
    "+ a matrix of predictors of size `[N, M]`\n",
    "+ the intercept parameter, either a scalar or a vector of length `M`\n",
    "+ a vector of length `M` regression coefficients\n",
    "+ variance parameter\n",
    "\n",
    "```\n",
    "/* normal linear regression model - single intercept */\n",
    "data {\n",
    "  int<lower=0> N;  // number of observations\n",
    "  int<lower=1> M;  // number of predictors\n",
    "  matrix[N, M] xs;\n",
    "  vector[N] y;\n",
    "}\n",
    "parameters {\n",
    "  real alpha;\n",
    "  vector beta[M];\n",
    "  real<lower=0> sigma;\n",
    "}\n",
    "model {\n",
    "  y ~ normal_glm_id(xs, alpha, beta, sigma);\n",
    "  sigma ~ normal(0, 10);   // override default prior uniform(-inf, +inf)\n",
    "}\n",
    "\n",
    "```\n",
    "\n",
    "```\n",
    "/* normal linear regression model - varying intercept */\n",
    "data {\n",
    "  int<lower=0> N;  // number of observations\n",
    "  int<lower=1> M;  // number of predictors\n",
    "  matrix[N, M] xs;\n",
    "  vector[N] y;\n",
    "}\n",
    "parameters {\n",
    "  vector alpha[N];\n",
    "  vector beta[M];\n",
    "  real<lower=0> sigma;\n",
    "}\n",
    "model {\n",
    "  y ~ normal_glm_id(xs, alpha, beta, sigma);\n",
    "  sigma ~ normal(0, 10);   // override default prior uniform(-inf, +inf)\n",
    "}\n",
    "```"
   ]
  },
  {
   "cell_type": "markdown",
   "id": "47b0afb0-4796-463e-b25d-c1cdcea4622b",
   "metadata": {},
   "source": [
    "<span id=\"data-prep\"> </span>\n",
    "\n",
    "## Appendix C:  Data preparation using pandas.\n",
    "\n",
    "The steps required to convert the CSV files from the Gelman and Hill ARM website\n",
    "into the data structures used in this analysis:\n",
    "\n",
    "+ Merge the county-level soil uranium level measurment into the home radon data.\n",
    "+ Put both outcome and predictors on the log scale, following Gelman and Hill, chapter 4, section 12.\n",
    "+ Restrict the dataset to Minnesota.\n",
    "+ Aggregate county-level information\n",
    "\n",
    "Pandas objects contain structured arrays which are labeled by\n",
    "[Index objects](https://pandas.pydata.org/docs/reference/indexing.html).\n",
    "A [Series](https://pandas.pydata.org/docs/reference/series.html) object \n",
    "manages 1-D arrays and a [DataFrame](https://pandas.pydata.org/docs/reference/frame.html)\n",
    "is a 2-D size-mutable, table, allowing for heterogenous columns.\n",
    "These index labels are used to perform database-like select, join, and group-by operations.\n",
    "However, sometimes we need to access just the data, not the index labels.\n",
    "Most data is backed by an NumPy [ndarray](https://numpy.org/doc/stable/reference/generated/numpy.ndarray.html#numpy.ndarray).\n",
    "The [array](https://pandas.pydata.org/docs/reference/api/pandas.Series.array.html) property\n",
    "returns the underlying numpy.ndarray of the Index or Series object.\n",
    "\n",
    "**Extract relevant columns from CSV as pandas DataFrame**\n",
    "\n",
    "We leverage the [pandas.read_csv](https://pandas.pydata.org/docs/reference/api/pandas.read_csv.html) function\n",
    "to extract the information we need from the raw CSV files with the following non-default arguments\n",
    "\n",
    "* parameter `usecols` allows us to extract just the relevant columns for this analysis.\n",
    "* parameter `skipinitialspace` strips out initial whitespace from the data.\n",
    "\n",
    "Once instantiated, we call the [convert_dtypes method](https://pandas.pydata.org/docs/reference/api/pandas.DataFrame.convert_dtypes.html) on the newly instantiated DataFrame so that we can do merge and join operations on all columns."
   ]
  },
  {
   "cell_type": "code",
   "execution_count": null,
   "id": "678ddc30",
   "metadata": {},
   "outputs": [],
   "source": [
    "df_radon = pd.read_csv(os.path.join('data','raw_radon.csv'),\n",
    "    usecols=['state', 'stfips', 'floor', 'activity', 'county', 'cntyfips'],\n",
    "    skipinitialspace=True,    # CSV file has spaces after delimiter, ignore them\n",
    ").convert_dtypes()\n",
    "print(f'Total records: {len(df_radon)}')\n",
    "df_radon[:3]"
   ]
  },
  {
   "cell_type": "code",
   "execution_count": null,
   "id": "f7caed73",
   "metadata": {},
   "outputs": [],
   "source": [
    "df_uranium = pd.read_csv(os.path.join('data','raw_uranium.csv'),\n",
    "                        usecols=['stfips', 'ctfips', 'st', 'cty', 'Uppm'],\n",
    "                        skipinitialspace=True,\n",
    "                        ).drop_duplicates().convert_dtypes()\n",
    "df_uranium[:3]"
   ]
  },
  {
   "cell_type": "markdown",
   "id": "ac3b292c",
   "metadata": {},
   "source": [
    "**Combine datasets**\n",
    "\n",
    "[FIPS code](https://transition.fcc.gov/oet/info/maps/census/fips/fips.txt) are numbers which uniquely identify geographic areas. Both datasets have codes for the state and county ids, but these need to be combined to get a national-level county FIPS code.   In order to do a database-style join on the two tables, we need to\n",
    "\n",
    "1. add acommon key to both tables\n",
    "2. add the county-level soil uranium levels to the radon survey via the [DataFrame.merge](https://pandas.pydata.org/docs/reference/api/pandas.DataFrame.merge.html) method."
   ]
  },
  {
   "cell_type": "code",
   "execution_count": null,
   "id": "ab749d8d",
   "metadata": {},
   "outputs": [],
   "source": [
    "df_radon['fips'] = df_radon.stfips*1000 + df_radon.cntyfips\n",
    "df_uranium['fips'] = df_uranium.stfips*1000 + df_uranium.ctfips\n",
    "\n",
    "df_radon = df_radon.merge(df_uranium[['fips', 'Uppm']], on='fips')\n",
    "df_radon[:3]"
   ]
  },
  {
   "cell_type": "markdown",
   "id": "c3861a54",
   "metadata": {},
   "source": [
    "**Put data on log scale**\n",
    "\n",
    "Following Gelman and Hill chapter 4, section 4, we work with data on the log scale,\n",
    "for two reasons\n",
    "\n",
    "+ the outcome variable log_radon is always positive.\n",
    "+ it provides modeling flexibility.\n",
    "\n",
    "We know from geology that both radon measurements and soil uranium levels are always greater than zero,\n",
    "however a few radon measurements in the EPA dataset are 0.\n",
    "In order to be able to work with these measurements on the log scale, we replace 0 with 0.1,\n",
    "which corresponds to a low radon level (following Gelman and Hill)."
   ]
  },
  {
   "cell_type": "code",
   "execution_count": null,
   "id": "efacb3ec",
   "metadata": {},
   "outputs": [],
   "source": [
    "df_radon['radon'] = df_radon.activity.apply(lambda x: x if x > 0. else 0.1)\n",
    "df_radon['log_radon'] = np.log(df_radon['radon'])\n",
    "\n",
    "df_radon['uranium'] = df_radon.Uppm.apply(lambda x: x if x > 0. else 0.1)\n",
    "df_radon['log_uranium'] = np.log(df_radon['uranium'])\n",
    "df_radon[:3]"
   ]
  },
  {
   "cell_type": "markdown",
   "id": "f96d723b",
   "metadata": {},
   "source": [
    "**Cleanup**\n",
    "\n",
    "Remove the columns which contain redundant information."
   ]
  },
  {
   "cell_type": "code",
   "execution_count": null,
   "id": "99337e36",
   "metadata": {},
   "outputs": [],
   "source": [
    "df_radon.drop(columns=['stfips', 'activity', 'cntyfips', 'Uppm', 'fips', 'radon', 'uranium'], inplace=True)"
   ]
  },
  {
   "cell_type": "markdown",
   "id": "08e04b66",
   "metadata": {},
   "source": [
    "**Restrict dataset to Minnesota**\n",
    "\n",
    "In order to work with just the data from Minnesota, we use a \n",
    "use a conditional expression to [filter specific rows of a dataframe](https://pandas.pydata.org/docs/getting_started/intro_tutorials/03_subset_data.html#how-do-i-filter-specific-rows-from-a-dataframe), combined with operation [reset_index(drop=True)](https://pandas.pydata.org/docs/reference/api/pandas.DataFrame.reset_index.html?highlight=reset_index#pandas.DataFrame.reset_index) so that the rows are indexed starting from 0."
   ]
  },
  {
   "cell_type": "code",
   "execution_count": null,
   "id": "9258140a-aed7-41a2-ab12-c7f4eaf00e34",
   "metadata": {},
   "outputs": [],
   "source": [
    "mn_radon = df_radon[df_radon['state']=='MN'].reset_index(drop=True)\n",
    "mn_radon.drop(columns=['state'], inplace=True)\n",
    "mn_radon[:3]"
   ]
  },
  {
   "cell_type": "markdown",
   "id": "9ca0e065-bab8-4b2a-9006-14ecab7b2b83",
   "metadata": {},
   "source": [
    "**Add 1-based index code for MN counties**\n",
    "\n",
    "The data inputs to a Stan model include a 1-based county index for each observation.\n",
    "In order to do this we need to first get a sorted list of county names and then convert these to category code."
   ]
  },
  {
   "cell_type": "code",
   "execution_count": null,
   "id": "49fab763",
   "metadata": {},
   "outputs": [],
   "source": [
    "counties = mn_radon.county.unique()\n",
    "mn_radon['county_id'] = mn_radon.county.astype(\n",
    "    pd.api.types.CategoricalDtype(categories=counties)\n",
    ").cat.codes + 1  ## Stan indexes from 1\n",
    "mn_radon[:5]"
   ]
  },
  {
   "cell_type": "markdown",
   "id": "cbe3f621-a3c7-4e8f-9927-b210a12ce02a",
   "metadata": {},
   "source": [
    "**Create auxiliary dataset of per-county information**\n",
    "\n",
    "County-level information includes the number of observations taken in that county as well as the soil uranium level.\n",
    "In order to easily visualize this information using plotnine, we create a secondary pandas.Dataframe object with per-county leel information.\n",
    "\n",
    "The [value_counts](https://pandas.pydata.org/docs/reference/api/pandas.DataFrame.value_counts.html) method returns a Series containing counts of unique values,\n",
    "We add these to the county-level dataframe."
   ]
  },
  {
   "cell_type": "code",
   "execution_count": null,
   "id": "1942cc12-6202-412c-879b-7d6b6c7987e6",
   "metadata": {},
   "outputs": [],
   "source": [
    "mn_uranium = mn_radon.iloc[mn_radon.county.drop_duplicates().index].reset_index(drop=True)\n",
    "mn_uranium['homes'] = mn_radon.value_counts(subset='county', sort=False).array\n",
    "mn_uranium.drop(columns=['floor', 'log_radon'], inplace=True)\n",
    "mn_uranium[:5]"
   ]
  },
  {
   "cell_type": "markdown",
   "id": "dd9b945d",
   "metadata": {},
   "source": [
    "**Save as CSV files**\n",
    "\n",
    "These files are already part of this notebook, therefore calls to the  [pandsa.to_csv](https://pandas.pydata.org/docs/reference/api/pandas.DataFrame.to_csv.html?highlight=to_csv#pandas.DataFrame.to_csv) method have been commented out."
   ]
  },
  {
   "cell_type": "code",
   "execution_count": null,
   "id": "851891c0",
   "metadata": {},
   "outputs": [],
   "source": [
    "# uncomment as needed\n",
    "# mn_radon.to_csv(r'mn_radon.csv', index=False)\n",
    "# mn_uranium.to_csv(r'mn_uranium.csv', index=False)"
   ]
  }
 ],
 "metadata": {
  "kernelspec": {
   "display_name": "Python 3 (ipykernel)",
   "language": "python",
   "name": "python3"
  },
  "language_info": {
   "codemirror_mode": {
    "name": "ipython",
    "version": 3
   },
   "file_extension": ".py",
   "mimetype": "text/x-python",
   "name": "python",
   "nbconvert_exporter": "python",
   "pygments_lexer": "ipython3",
   "version": "3.9.13"
  },
  "toc-autonumbering": false,
  "toc-showcode": false,
  "toc-showmarkdowntxt": false,
  "toc-showtags": false
 },
 "nbformat": 4,
 "nbformat_minor": 5
}
