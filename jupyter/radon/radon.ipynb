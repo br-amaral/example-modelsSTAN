{
 "cells": [
  {
   "cell_type": "markdown",
   "id": "2d8dbef4",
   "metadata": {},
   "source": [
    "# Multi-level regression modeling, baby one more time"
   ]
  },
  {
   "cell_type": "markdown",
   "id": "512471ec",
   "metadata": {},
   "source": [
    "This notebook provides an introduction to multi-level regression modeling\n",
    "using [Stan](https://mc-stan.org) and the [CmdStanPy](https://mc-stan.org/cmdstanpy/) interface,\n",
    "a pure Python3 package for Linux, MacOS, and Windows.\n",
    "It is based on Chris Fonnesbeck's excellent [A Primer on Bayesian Multilevel Modeling using PyStan](https://mc-stan.org/users/documentation/case-studies/radon.html), which was developed as part of a [Stan workshop](https://statmoddev.stat.columbia.edu/2016/06/09/a-primer-on-bayesian-multilevel-modeling-using-pystan/)  for biomedical statisticians at Vanderbilt University.\n",
    "The data and models are taken from chapter 12 of the book _Data Analysis Using Regression and Multilevel/Hierarchical Models_, by Andrew Gelman and Jennifer Hill, Cambridge university press, 2006.\n",
    "\n",
    "A secondary aim of this notebook is to demonstrate best practices of Bayesian data analysis,\n",
    "which entails careful summaries and visualization of the data, models, and resulting inferences.\n",
    "To visualize data and inference results we use\n",
    "[plotnine](https://plotnine.readthedocs.io/en/stable/).\n",
    "Plotnine is an implementation of a _grammar of graphics_ in Python, based on [ggplot2](https://en.wikipedia.org/wiki/Ggplot2).\n",
    "A grammar of graphics is a general scheme for data visualization which breaks up graphs into semantic components.\n",
    "In plotnine, a ggplot object takes as arguments a [pandas](https://pandas.pydata.org/docs/index.html)\n",
    "DataFrame object and a mapping between graph elements and and Python variables called an \"aesthetic\".\n",
    "Geometric objects (geoms) are responsible for the visual representation of data points.\n",
    "Theme objects control the overall layout and look and feel."
   ]
  },
  {
   "cell_type": "code",
   "execution_count": null,
   "id": "59bb55ce",
   "metadata": {},
   "outputs": [],
   "source": [
    "# import all libraries used in this notebook\n",
    "import os\n",
    "import numpy as np\n",
    "import pandas as pd\n",
    "import matplotlib.pyplot as plt\n",
    "from plotnine import *\n",
    "from cmdstanpy import CmdStanModel\n",
    "\n",
    "# setup plot look and feel\n",
    "theme_set(\n",
    "  theme_grey() + \n",
    "  theme(text=element_text(size=10),\n",
    "        plot_title=element_text(size=14),\n",
    "        axis_title_x=element_text(size=12),\n",
    "        axis_title_y=element_text(size=12),\n",
    "        axis_text_x=element_text(size=8),\n",
    "        axis_text_y=element_text(size=8)\n",
    "       )\n",
    ")\n",
    "flip_xlabels = theme(axis_text_x = element_text(angle=90, hjust=1))\n",
    "\n",
    "# supress warnings from plotnine\n",
    "import warnings\n",
    "warnings.filterwarnings('ignore')"
   ]
  },
  {
   "cell_type": "markdown",
   "id": "6d101db6",
   "metadata": {},
   "source": [
    "## Modeling goal: home radon measurement\n",
    "\n",
    "Applied statistical modeling starts with the question we are trying to answer and the available data.\n",
    "We must understand both the data and the analysis goals before proceeding to model building.\n",
    "\n",
    "The goal of the radon study is to provide homeowners with reasonable estimates\n",
    "of home radon levels in each of the approximately 3000 counties in the United States,\n",
    "which will help them make decisions about measuring or remediating the radon in their houses\n",
    "based on the best available knowledge of local conditions.  Gelman and Hill write\n",
    "\n",
    ">Radon is a carcinogen — a naturally occurring radioactive gas whose decay products are also radioactive — known to cause lung cancer in high concentrations and estimated to cause several thousand lung cancer deaths per year in the United States. The distribution of radon levels in U.S. homes varies greatly, with some houses having dangerously high concentrations. In order to identify the areas with high radon exposures, the Environmental Protection Agency coordinated radon measurements in a random sample of more than 80,000 houses throughout the country.\n",
    "\n",
    "[Radon gas](https://en.wikipedia.org/wiki/Radon) is a product of the slow decay of uranium into lead.  Due to local differences in geology, the level of exposure to radon gas differs from place to place. A common source is uranium-containing minerals in the ground, and therefore it accumulates in subterranean areas such as basements.\n",
    "\n",
    "![How radon enters the home](radon_entry.jpg)\n",
    "Image from https://www.health.state.mn.us/communities/environment/air/radon/index.html\n",
    "\n",
    "The [EPA radon map](https://www.epa.gov/sites/default/files/2015-07/documents/zonemapcolor.pdf) shows the counties of the US, color coded by radon level - red for the highest risk, orange for moderate, and yellow for low.\n",
    "\n",
    "![EPA radon map](epa_radon_map.png)"
   ]
  },
  {
   "cell_type": "markdown",
   "id": "53c2dafe",
   "metadata": {},
   "source": [
    "## Study data:  item-level radon, county-level soil uranium levels\n",
    "\n",
    "\n",
    "Gelman and Hill chapter 12 is based on work done by [Price and Gelman](http://www.stat.columbia.edu/~gelman/research/published/sagtufinal.pdf).\n",
    "The data comes from EPA surveys at the state and national level carried out in the 1990s.\n",
    "Although there are a total of 120K home radon measurements, there are 3000 counties in the US.  The per-county measurements follow the population density; there are few or no measurements for sparsely populated counties, i.e.\n",
    "rural counties and correspondingly more for metropolitan counties.\n",
    "\n",
    "The data for the radon study are available from the Gelman and Hill [ARM website](http://www.stat.columbia.edu/~gelman/arm/examples/radon/), together with the R scripts\n",
    "used to produce the examples in the book.\n",
    "The study data is in two files.\n",
    "\n",
    "- Home radon measurements, and the floor (ground or basement) where measured from an EPA survey conducted in 1992.\n",
    "The survey data is in file http://www.stat.columbia.edu/~gelman/arm/examples/radon/srrs2.dat.\n",
    "\n",
    "- County level measurements of soil uranium levels in parts per million.\n",
    "The soil uranium data is in file http://www.stat.columbia.edu/~gelman/arm/examples/radon/cty.dat\n",
    "\n",
    "_Note_: The full EPA dataset has been [archived separately](http://www.stat.columbia.edu/~gelman/arm/examples/radon_complete/).\n",
    "\n",
    "We have downloaded and renamed these files.\n",
    "File `srrs2.dat` is available as  [raw_radon.csv](raw_radon.csv) and\n",
    "file `cty.dat` is available as [raw_uranium.csv](raw_uranium.csv).\n",
    "These names are informative and will sort together in a directory listing.\n",
    "\n",
    "\n",
    "#### Data Preprocessing\n",
    "\n",
    "Data preparation consists of the following\n",
    "\n",
    "1. Merge the county-level soil uranium level measurment into the house-level radon data.\n",
    "\n",
    "2. Put both outcome and predictors on the log scale, following Gelman and Hill, chapter 4, section 12.\n",
    "\n",
    "3. Restrict the dataset to Minnesota.\n",
    "\n",
    "\n",
    "There are many tedious steps in assembling the data; these are shown in full detail in [Appendix A](#appendix_a).\n",
    "The Minnesota data is in file [mn_radon.json](mn_radon.json)."
   ]
  },
  {
   "cell_type": "code",
   "execution_count": null,
   "id": "28af7292",
   "metadata": {},
   "outputs": [],
   "source": [
    "mn_radon = pd.read_json(r'mn_radon.json')\n",
    "mn_radon[:7]"
   ]
  },
  {
   "cell_type": "markdown",
   "id": "624db8f5",
   "metadata": {},
   "source": [
    "### Prelminary data analysis\n",
    "\n",
    "The goal of our analysis is to estimate the home radon level; therefore the outcome variable of interest is `log_radon`.\n",
    "We use the [pandas.DataFrame.describe](https://pandas.pydata.org/docs/reference/api/pandas.DataFrame.describe.html) function to get summary statistics over the observed outcome `log_radon`."
   ]
  },
  {
   "cell_type": "code",
   "execution_count": null,
   "id": "bb4a1d96",
   "metadata": {
    "scrolled": false
   },
   "outputs": [],
   "source": [
    "print(f'log_radon summary statistics\\n{mn_radon[\"log_radon\"].describe()}')"
   ]
  },
  {
   "cell_type": "markdown",
   "id": "731fd544",
   "metadata": {},
   "source": [
    "**Relationship between radon and floor**\n",
    "\n",
    "From the above diagram, we know that radon comes from the soil, therefore the floor level on which the measurement was taken should be a good predictor of the observed radon level. This is coded as \"0\" for basement and \"1\" for ground floor level.  Most of the homes in the survey have a basement level."
   ]
  },
  {
   "cell_type": "code",
   "execution_count": null,
   "id": "0273e1b8",
   "metadata": {},
   "outputs": [],
   "source": [
    "for c,v in zip(range(2), [round(x/919*100) for x in mn_radon.groupby(['floor']).size()]):\n",
    "    print(f'{v}% observations taken on floor {c}')"
   ]
  },
  {
   "cell_type": "markdown",
   "id": "07e614fc",
   "metadata": {},
   "source": [
    "The [plotnine geom_histogram](https://plotnine.readthedocs.io/en/stable/generated/plotnine.geoms.geom_histogram.html) provides a visualization of the distribution of home radon measurements in the survey dataset.\n",
    "We use plotnine's [facet_grid](https://plotnine.readthedocs.io/en/stable/generated/plotnine.facets.facet_grid.html#plotnine.facets.facet_gridplot ) to make separate plots for measurements taken in the basement level (floor 0) and ground floor level (floor 1)."
   ]
  },
  {
   "cell_type": "code",
   "execution_count": null,
   "id": "e0826913",
   "metadata": {},
   "outputs": [],
   "source": [
    "ggplot(mn_radon, aes('log_radon')) + geom_histogram(binwidth=0.2) +\\\n",
    "    xlab(\"log radon levels\") + ylab(\"frequency\") + theme(figure_size=(10,4)) +\\\n",
    "    facet_grid(facets='~ floor', labeller='label_both')"
   ]
  },
  {
   "cell_type": "markdown",
   "id": "98123f42",
   "metadata": {},
   "source": [
    "The plotnine [plotnine geom_point](https://plotnine.readthedocs.io/en/stable/generated/plotnine.geoms.geom_point.html) plots two variables as (x, y) points.  In the following plots, we always plot `log_radon` on the y axis, since it is the outcome variable.\n",
    "\n",
    "We plot the log_radon levels by floor and add jitter to see the relative difference in the measurements and number of observations taken by floor.  The plot shows that a) there are far more measurements taken in the basement than on the ground floor and b) overall, the radon measurements are higher in the basement than on the ground floor, (as expected)."
   ]
  },
  {
   "cell_type": "code",
   "execution_count": null,
   "id": "e3caf5ef",
   "metadata": {},
   "outputs": [],
   "source": [
    "ggplot(mn_radon, aes('floor', 'log_radon')) + geom_jitter(width=0.1) + theme(figure_size=(5,4)) +\\\n",
    "    ggtitle(\"Radon measurements by floor\") + scale_x_continuous(breaks=range(0,2), minor_breaks=[])"
   ]
  },
  {
   "cell_type": "markdown",
   "id": "1ba351d0",
   "metadata": {},
   "source": [
    "**Relationship between home radon and county-level soil uranium**\n",
    "\n",
    "At the county level we have many home radon measurements from the relatively few counties with metropolitan areas, and very few home radon measurements from the rest."
   ]
  },
  {
   "cell_type": "code",
   "execution_count": null,
   "id": "6f910669",
   "metadata": {},
   "outputs": [],
   "source": [
    "obs_per_county = mn_radon['county'].value_counts(sort=False)\n",
    "print(f'summary stats for per-county observations\\n{obs_per_county.describe()}\\n')\n",
    "ggplot(obs_per_county.to_frame(name='num_obs'), aes('num_obs')) + geom_histogram(binwidth=1) +\\\n",
    "    xlab(\"histogram of houses per county\") + ylab(\"\") + theme(figure_size=(8,3))"
   ]
  },
  {
   "cell_type": "markdown",
   "id": "3c77628d",
   "metadata": {},
   "source": [
    "At the county-level, we have information on the soil uranium level.  We plot the number of observations by soil uranium."
   ]
  },
  {
   "cell_type": "code",
   "execution_count": null,
   "id": "9928fe93",
   "metadata": {},
   "outputs": [],
   "source": [
    "uranium_per_county = mn_radon.drop_duplicates(subset='log_uranium')['log_uranium']\n",
    "county_dict = {\"obs\": obs_per_county.values, \"uranium\": uranium_per_county.values}\n",
    "county_df = pd.DataFrame(county_dict)\n",
    "# plot, keeping uranium level on y axis\n",
    "ggplot(county_df, aes(x=obs_per_county.values, y=uranium_per_county.values)) + \\\n",
    "    geom_point() + \\\n",
    "    ylab(\"soil log_uranium\") + xlab(\"observations per county\") + \\\n",
    "    theme(figure_size=(10,4))\n"
   ]
  },
  {
   "cell_type": "markdown",
   "id": "a3a74cb8",
   "metadata": {},
   "source": [
    "We plot the relationship between soil uranium level and the home radon measurement, faceted by floor.\n",
    "Because the soil uranium level measurement is the same for all homes in a county, for counties with many houses, i.e., metropolitan areas, the plot shows distinct vertical bands."
   ]
  },
  {
   "cell_type": "code",
   "execution_count": null,
   "id": "7af92e53",
   "metadata": {},
   "outputs": [],
   "source": [
    "ggplot(mn_radon, aes('log_uranium', 'log_radon')) + geom_point() +\\\n",
    "    ylab(\"home log_radon\") + xlab(\"county-level soil log_uranium\") + theme(figure_size=(10,4)) +\\\n",
    "    facet_grid(facets='~ floor', labeller='label_both')"
   ]
  },
  {
   "cell_type": "markdown",
   "id": "09b9680b",
   "metadata": {},
   "source": [
    "For many counties, all observations were taken at the basement level."
   ]
  },
  {
   "cell_type": "code",
   "execution_count": null,
   "id": "52749055",
   "metadata": {},
   "outputs": [],
   "source": [
    "print(f'Counties with observations from both basement and ground floors: \\\n",
    "{len(mn_radon[mn_radon[\"floor\"] == 1][\"county\"].value_counts())}')\n",
    "\n",
    "print(f'Total number of counties: {mn_radon.county.nunique()}')"
   ]
  },
  {
   "cell_type": "markdown",
   "id": "f833b025",
   "metadata": {},
   "source": [
    "To see whether or not the soil uranium level might be a good predictor of the home radon measurements, we plot the per-county activity levels, ordered by uranium level per county, descending.  The resulting plot is inconclusive."
   ]
  },
  {
   "cell_type": "code",
   "execution_count": null,
   "id": "2e48dd53",
   "metadata": {},
   "outputs": [],
   "source": [
    "uranium_sorted = mn_radon.drop_duplicates(subset='log_uranium').filter(\n",
    "    items=['county', 'log_uranium']\n",
    ").sort_values(by='log_uranium', axis='index', ascending=False).reset_index()\n",
    "ggplot(mn_radon, aes('county', 'log_radon')) + \\\n",
    "    geom_boxplot() +  flip_xlabels + \\\n",
    "    scale_x_discrete(limits=uranium_sorted['county']) + \\\n",
    "    ggtitle(\"Counties ordered by soil uranium high (left) to low (right)\") + \\\n",
    "    ylab(\"range of home radon measurements\") + \\\n",
    "    theme(figure_size=(15,7)) "
   ]
  },
  {
   "cell_type": "markdown",
   "id": "a9ab6eec",
   "metadata": {},
   "source": [
    "Now that we have taken a look at the essential characteristics of the data, we can start building models."
   ]
  },
  {
   "cell_type": "markdown",
   "id": "977534a0",
   "metadata": {},
   "source": [
    "## Linear regression review (chapters 2 and 3 of Gelman and Hill)\n",
    "\n",
    "> Linear regression is a method that summarizes how the average values of a numerical outcome variable vary over subpopulations defined by linear functions of predictors. ... Regression can be used to predict an outcome given a linear function of these predictors, and regression coefficients can be thought of as comparisons across predicted values or as comparisons among averages in the data. </br>_Gelman and Hill, chapter 3_\n",
    "\n",
    "[Linear regression](https://en.wikipedia.org/wiki/Linear_regression#Formulation) models the relationship between a scalar response and one or more explanatory variables.\n",
    "\n",
    "<img width=\"190\" alt=\"Linear least squares example2\" align=\"right\" style=\"vertical-align:middle;margin:0px 50px\"\n",
    "     src=\"https://upload.wikimedia.org/wikipedia/commons/thumb/5/53/Linear_least_squares_example2.png/190px-Linear_least_squares_example2.png\">\n",
    "\n",
    "In linear regression, the observations (red) are assumed to be the result of random deviations (green) from an underlying relationship (blue) between a dependent variable (y) and an independent variable (x).\n",
    "\n",
    "A [simple linear regression](https://en.wikipedia.org/wiki/Simple_linear_regression) is a model which relates\n",
    "a pair of sample points, an  _independent variable_ x, and a _dependent variable_ y.\n",
    "The adjective simple refers to the fact that the outcome variable is related to a single predictor.\n",
    "The model finds a linear function (a non-vertical straight line) that,\n",
    "as accurately as possible, predicts the dependent variable values as a function of the independent variable.  (Geometry review: a straight line is defined by its _intercept_ on the x-axis and _slope_, i.e. $y = a + b x$)\n",
    "\n",
    "**Linear regression:  two ways to write the model**\n",
    "\n",
    "The goal of inference is to learn from incomplete or imperfect data.\n",
    "In the simple linear regression model, the error term $\\epsilon$ accounts for imperfect measurments of the data.\n",
    "\n",
    "$\n",
    "y_i = \\alpha \\, + {\\beta}\\,x_i + {\\epsilon}\n",
    "$\n",
    "\n",
    "\n",
    "We can generalize this model to handle data with more than one predictor\n",
    "\n",
    "$\n",
    "y_i = \\beta\\,X_i  + {\\epsilon}_i\n",
    "$\n",
    "\n",
    "Now the intercept is included in the vector $\\beta$ and a corresponding column of $1$s is added to the predictors.\n",
    "This is equivalent to\n",
    "\n",
    "$\n",
    "y_i = {\\beta}_1 X_{i1}\\, + \\, ... \\, +  \\, {\\beta}_k X_{ik} \\, +  \\, {\\epsilon}_i \\ \\ \\ \\mathrm{for}\\ i=1, ..., n\n",
    "$\n",
    "\n",
    "where the errors ${\\epsilon}_i$ have independent normal distributions with mean $0$ and standard deviation $\\theta$.\n",
    "\n",
    "An equivalent representation is\n",
    "\n",
    "$\n",
    "y_i ∼ \\mathrm{N}(\\beta\\,\\mathrm{X}_i,\\, \\sigma^2), \\ \\ \\ \\mathrm{for}\\ i=1, ..., n\n",
    "$"
   ]
  },
  {
   "cell_type": "markdown",
   "id": "b3349cc2",
   "metadata": {},
   "source": [
    "## Linear regression models in Stan\n",
    "\n",
    "The simplest linear regression model has a single predictor and a slope and intercept coefficient, and normally distributed noise.  It is the first model discussed in the [Stan User's Guide Regression Models chapter](https://mc-stan.org/docs/stan-users-guide/linear-regression.html).\n",
    "\n",
    "```\n",
    "data {\n",
    "  int<lower=0> N;\n",
    "  vector[N] x;\n",
    "  vector[N] y;\n",
    "}\n",
    "parameters {\n",
    "  real alpha;\n",
    "  real beta;\n",
    "  real<lower=0> sigma;\n",
    "}\n",
    "model {\n",
    "  y ~ normal(alpha + beta * x, sigma);\n",
    "}\n",
    "```\n",
    "\n",
    "When modeling data which has group-level structure, as is the case here, where radon measurements are located within counties, there are only two possible single-level linear models: _complete pooling_ and _no pooling_.\n",
    "\n",
    "**Complette pooling**\n",
    "\n",
    "The complete pooling model treats all counties in Minnesota as equivalent.\n",
    "This is exactly the Stan model above.\n",
    "It has two co-efficients, $\\alpha$ and $\\beta$, the intercept and slope of the regression line, respectively.\n",
    "\n",
    "$\n",
    "y_i = \\alpha \\, + {\\beta}\\,x_i + {\\epsilon}\n",
    "$\n",
    "\n",
    "For the Minnesota data, we plot the predictor (floor) on the x axis and the outcome (log_radon) on the y axis, and use [plotnine.geom.geom_smooth](https://plotnine.readthedocs.io/en/stable/generated/plotnine.geoms.geom_smooth.html#plotnine.geoms.geom_smooth) to fit a regression line.  The solid black line is the regression line, and the grey margins indicate the amount of variance."
   ]
  },
  {
   "cell_type": "code",
   "execution_count": null,
   "id": "f38aaefe",
   "metadata": {},
   "outputs": [],
   "source": [
    "ggplot(mn_radon, aes('floor', 'log_radon')) + geom_jitter(width=0.05) + geom_smooth(method='lm') +\\\n",
    " ggtitle(\"Complete pooling\")"
   ]
  },
  {
   "cell_type": "markdown",
   "id": "35258575",
   "metadata": {},
   "source": [
    "**No pooling**\n",
    "\n",
    "The no-pooling model treats each county in Minnesota as independent and for each county, we fit the above model to just the observations from that county.\n",
    "We can accomplish this by faceting the above plot.  The resulting facets show the increased variance (width of gray area around trend line). "
   ]
  },
  {
   "cell_type": "code",
   "execution_count": null,
   "id": "e61e04cb",
   "metadata": {},
   "outputs": [],
   "source": [
    "\n",
    "ggplot(mn_radon, aes('floor', 'log_radon')) + geom_point() + geom_smooth(method='lm') +\\\n",
    "   facet_wrap('~county', ncol=9) + theme(figure_size=(20,50)) + ggtitle(\"No Pooling\")"
   ]
  },
  {
   "cell_type": "markdown",
   "id": "ac783d87",
   "metadata": {},
   "source": [
    "This regression model is a non-starter for the 25 counties where all measurements were taken on the basement level.\n",
    "For the remaining counties, most of which have very few measurments, in several instances, e.g., counties \"Lyon\" and \"Redwood\", the regression line between floor 0 and 1 has a positvie slope; in contrast to the complete pooling model.\n",
    "This goes against what we know about how radon enters the home.\n",
    "\n",
    "The no-pooling model, given sparse data, is a non-starter, however the complete-pooling model overlooks structure in the data, i.e., houses are located within counties which have different geological profiles."
   ]
  },
  {
   "cell_type": "markdown",
   "id": "d15f8442",
   "metadata": {},
   "source": [
    "## Multilevel models"
   ]
  },
  {
   "cell_type": "markdown",
   "id": "53fc84fc",
   "metadata": {},
   "source": [
    "Multilevel models are extensions of regression in which data are structured in groups and coefficients can vary by group, and both the group-level and individual level co-efficients are modeled.\n",
    "\n",
    "For a simple linear regression model with a single predictor, the complete-pooling model\n",
    "estimates two parameters:  the intercept and slope of the regression line.\n",
    "In a multilevel regression model, we introduce modeled group-level parameters\n",
    "which provide partial pooling of information across the groups.\n",
    "There are three possible ways to pool information:\n",
    "\n",
    "- varying slope, single intercept\n",
    "\n",
    "- single slope, varying intercept\n",
    "\n",
    "- individual slope, individual intercept\n",
    "\n",
    "As we add more predictors to the model, the number of modeling choices increases.\n",
    "\n",
    "**Model 2A:  verying slope, single intercept** same baseline, different counties have different floor effects\n",
    "\n",
    "**Model 2B: single slope varying intercept** floor effect is the same, different counties have different baseline\n",
    "\n",
    "**Model 2C: varying slope, varying intercept** lots of little indices everywhere"
   ]
  },
  {
   "cell_type": "markdown",
   "id": "334269f7",
   "metadata": {},
   "source": [
    "<a id='appendix_A'></a>\n",
    "## Appendix A:  Data Preprocessing\n",
    "\n",
    "We use pandas to read each CSV file into a [pandas DataFrame](https://pandas.pydata.org/docs/reference/frame.html),\n",
    "which is a tabular data structure, similar that an [R data.frame](https://stat.ethz.ch/R-manual/R-devel/library/base/html/data.frame.html) or a SQL database table.\n",
    "There are many possible ways to manipulate tabular datasets in Python.\n",
    "We borrow code from both Chris Fonnesbeck's PyStan primer and a similar notebook\n",
    "on [multilevel modeling with TensorFlow Probability]( https://notebook.community/tensorflow/probability/tensorflow_probability/examples/jupyter_notebooks/Multilevel_Modeling_Primer), section 3.  Following the latter, we encapsulate step 2 into a function which can be used to restrict the dataset to any state.\n",
    "\n",
    "\n",
    "\n",
    "#### Extract relevant columns from CSV as pandas DataFrame\n",
    "\n",
    "We leverage the [pandas.read_csv](https://pandas.pydata.org/docs/reference/api/pandas.read_csv.html) function\n",
    "to extract the information we need from the raw CSV files with the following non-default arguments\n",
    "\n",
    "* parameter `usecols` allows us to extract just the relevant columns for this analysis.\n",
    "* parameter `skipinitialspace` strips out initial whitespace from the data.\n",
    "\n",
    "Once instantiated, we call the [convert_dtypes method](https://pandas.pydata.org/docs/reference/api/pandas.DataFrame.convert_dtypes.html) on the newly instantiated dataframe in order to ensure that we can do merge and join operations on all columns."
   ]
  },
  {
   "cell_type": "code",
   "execution_count": null,
   "id": "678ddc30",
   "metadata": {},
   "outputs": [],
   "source": [
    "df_radon = pd.read_csv(r'raw_radon.csv',\n",
    "    usecols=['state', 'stfips', 'floor', 'activity', 'county', 'cntyfips'],\n",
    "    skipinitialspace=True,    # CSV file has spaces after delimiter, ignore them\n",
    ").convert_dtypes()\n",
    "print(f'Total records: {len(df_radon)}')\n",
    "df_radon[:3]"
   ]
  },
  {
   "cell_type": "code",
   "execution_count": null,
   "id": "f7caed73",
   "metadata": {},
   "outputs": [],
   "source": [
    "df_uranium = pd.read_csv(r'raw_uranium.csv',\n",
    "                        usecols=['stfips', 'ctfips', 'st', 'cty', 'Uppm'],\n",
    "                        skipinitialspace=True,\n",
    "                        ).drop_duplicates().convert_dtypes()\n",
    "df_uranium[:3]"
   ]
  },
  {
   "cell_type": "markdown",
   "id": "ac3b292c",
   "metadata": {},
   "source": [
    "#### Combine datasets\n",
    "\n",
    "[FIPS code](https://transition.fcc.gov/oet/info/maps/census/fips/fips.txt) are numbers which uniquely identify geographic areas. Both datasets have codes for the state and county ids, but these need to be combined to get a national-level county FIPS code.\n",
    "\n",
    "First we add this common code to both tables, then we use it to merge the county-level soil uranium levels into the radon survey data."
   ]
  },
  {
   "cell_type": "code",
   "execution_count": null,
   "id": "ab749d8d",
   "metadata": {},
   "outputs": [],
   "source": [
    "df_radon['fips'] = df_radon.stfips*1000 + df_radon.cntyfips\n",
    "df_uranium['fips'] = df_uranium.stfips*1000 + df_uranium.ctfips\n",
    "\n",
    "df_radon = df_radon.merge(df_uranium[['fips', 'Uppm']], on='fips')\n",
    "df_radon[:3]"
   ]
  },
  {
   "cell_type": "markdown",
   "id": "c3861a54",
   "metadata": {},
   "source": [
    "#### Put data on log scale\n",
    "\n",
    "Following Gelman and Hill chapter 4, section 4, we work with data on the log scale.\n",
    "We know from geology that both radon measurements and soil uranium levels are always greater than zero,\n",
    "however a few radon measurements in the EPA dataset are 0.\n",
    "In order to be able to work with these measurements on the log scale, we replace 0 with 0.1,\n",
    "which corresponds to a low radon level (following Gelman and Hill)."
   ]
  },
  {
   "cell_type": "code",
   "execution_count": null,
   "id": "efacb3ec",
   "metadata": {},
   "outputs": [],
   "source": [
    "df_radon['radon'] = df_radon.activity.apply(lambda x: x if x > 0. else 0.1)\n",
    "df_radon['log_radon'] = np.log(df_radon['radon'])\n",
    "\n",
    "df_radon['uranium'] = df_radon.Uppm.apply(lambda x: x if x > 0. else 0.1)\n",
    "df_radon['log_uranium'] = np.log(df_radon['uranium'])\n",
    "df_radon[:3]"
   ]
  },
  {
   "cell_type": "markdown",
   "id": "f96d723b",
   "metadata": {},
   "source": [
    "#### Cleanup (optional)\n",
    "\n",
    "Remove the columns which contain redundant information.  (_Note_: we could also drop columns 'radon' and 'uranium' since we'll be working on the log scale.)"
   ]
  },
  {
   "cell_type": "code",
   "execution_count": null,
   "id": "99337e36",
   "metadata": {},
   "outputs": [],
   "source": [
    "df_radon.drop(columns=['stfips', 'activity', 'cntyfips', 'Uppm', 'radon', 'uranium'], inplace=True)"
   ]
  },
  {
   "cell_type": "code",
   "execution_count": null,
   "id": "6863a46e",
   "metadata": {},
   "outputs": [],
   "source": [
    "df_radon[:3]"
   ]
  },
  {
   "cell_type": "markdown",
   "id": "08e04b66",
   "metadata": {},
   "source": [
    "#### Helper function: get one state's worth of data\n",
    "\n",
    "It is straightforward to subset the radon data at the state level.\n",
    "Following the TensorFlow Probability notebook, we define a function which given a state code and a dataframe\n",
    "returns a dataframe for that state.\n",
    "\n",
    "We use conditional expressions to [filter specific rows of a dataframe](https://pandas.pydata.org/docs/getting_started/intro_tutorials/03_subset_data.html#how-do-i-filter-specific-rows-from-a-dataframe).\n",
    "We also create a 0-based indices for the state-level individual observations and counties.\n",
    "This makes it easy to iterate through and plot the data."
   ]
  },
  {
   "cell_type": "code",
   "execution_count": null,
   "id": "49fab763",
   "metadata": {},
   "outputs": [],
   "source": [
    "def state_filter(df_radon: pd.DataFrame, state: str) -> pd.DataFrame:\n",
    "    df_radon_st = df_radon[df_radon['state']==state].reset_index(drop=True)\n",
    "    counties = sorted(df_radon_st.county.unique())\n",
    "    df_radon_st['county_code'] = df_radon_st.county.astype(pd.api.types.CategoricalDtype(categories=counties)).cat.codes\n",
    "    return df_radon_st"
   ]
  },
  {
   "cell_type": "code",
   "execution_count": null,
   "id": "348e000f",
   "metadata": {},
   "outputs": [],
   "source": [
    "df_radon_mn = state_filter(df_radon, 'MN')\n",
    "df_radon_mn[:3]"
   ]
  },
  {
   "cell_type": "markdown",
   "id": "dd9b945d",
   "metadata": {},
   "source": [
    "#### Save to JSON file"
   ]
  },
  {
   "cell_type": "code",
   "execution_count": null,
   "id": "851891c0",
   "metadata": {},
   "outputs": [],
   "source": [
    "# uncomment as needed\n",
    "# df_radon_mn.to_json(r'mn_radon.json')"
   ]
  },
  {
   "cell_type": "code",
   "execution_count": null,
   "id": "b79ef8e6",
   "metadata": {},
   "outputs": [],
   "source": []
  }
 ],
 "metadata": {
  "kernelspec": {
   "display_name": "Python 3 (ipykernel)",
   "language": "python",
   "name": "python3"
  },
  "language_info": {
   "codemirror_mode": {
    "name": "ipython",
    "version": 3
   },
   "file_extension": ".py",
   "mimetype": "text/x-python",
   "name": "python",
   "nbconvert_exporter": "python",
   "pygments_lexer": "ipython3",
   "version": "3.9.13"
  }
 },
 "nbformat": 4,
 "nbformat_minor": 5
}
