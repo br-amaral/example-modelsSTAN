{
 "cells": [
  {
   "cell_type": "markdown",
   "id": "2d8dbef4",
   "metadata": {},
   "source": [
    "# Multilevel regression modeling with CmdStanPy and plotnine\n",
    "\n",
    "This notebook provides an introduction to multilevel regression modeling\n",
    "using [Stan](https://mc-stan.org) and the [CmdStanPy](https://mc-stan.org/cmdstanpy/) interface,\n",
    "a pure Python3 package for Linux, MacOS, and Windows.\n",
    "It is based on Chris Fonnesbeck's excellent [A Primer on Bayesian Multilevel Modeling using PyStan](https://mc-stan.org/users/documentation/case-studies/radon.html), which was developed as part of a [Stan workshop](https://statmoddev.stat.columbia.edu/2016/06/09/a-primer-on-bayesian-multilevel-modeling-using-pystan/)  for biomedical statisticians at Vanderbilt University.\n",
    "The data and models are taken from chapter 12 of the book _Data Analysis Using Regression and Multilevel/Hierarchical Models_, by Andrew Gelman and Jennifer Hill, Cambridge university press, 2006.\n",
    "\n",
    "The second aim of this notebook is to demonstrate best practices of Bayesian data analysis.\n",
    "It is important to have a clear understanding of both the analysis goals and the sizes,\n",
    "shapes, and tendancies of the available data before proceeding to model building.\n",
    "When constructing models, we are faced with a series of engineering decisions with respect\n",
    "to the generality, performance, and maintainability of the model.\n",
    "To visualize data and inferences we use\n",
    "[plotnine](https://plotnine.readthedocs.io/en/stable/),\n",
    "an implementation of a [_grammar of graphics_](https://vita.had.co.nz/papers/layered-grammar.pdf) in Python,\n",
    "based on [ggplot2](https://en.wikipedia.org/wiki/Ggplot2).\n",
    "To manage tabular data in Python we will be using both [numpy](https://numpy.org/doc/stable/) and [pandas](https://pandas.pydata.org/docs/)."
   ]
  },
  {
   "cell_type": "code",
   "execution_count": null,
   "id": "863e26e3-13bb-4294-a077-0eba01339ec3",
   "metadata": {
    "tags": []
   },
   "outputs": [],
   "source": [
    "# import all libraries used in this notebook\n",
    "import os\n",
    "import numpy as np\n",
    "import pandas as pd\n",
    "from cmdstanpy import CmdStanModel\n",
    "\n",
    "# plotting libs\n",
    "import matplotlib.pyplot as plt\n",
    "import plotnine as p9\n",
    "\n",
    "# combine multiple plots\n",
    "import patchworklib as pw  # ignore warning about seaborn\n",
    "from plotnine.data import *\n",
    "\n",
    "# suppress plotnine warnings\n",
    "import warnings\n",
    "warnings.filterwarnings('ignore')\n",
    "\n",
    "# setup plotnine look and feel\n",
    "p9.theme_set(\n",
    "  p9.theme_grey() + \n",
    "  p9.theme(text=p9.element_text(size=10),\n",
    "        plot_title=p9.element_text(size=14),\n",
    "        axis_title_x=p9.element_text(size=12),\n",
    "        axis_title_y=p9.element_text(size=12),\n",
    "        axis_text_x=p9.element_text(size=8),\n",
    "        axis_text_y=p9.element_text(size=8)\n",
    "       )\n",
    ")\n",
    "xlabels_90 = p9.theme(axis_text_x = p9.element_text(angle=90, hjust=1))"
   ]
  },
  {
   "cell_type": "markdown",
   "id": "6d101db6",
   "metadata": {},
   "source": [
    "## Modeling goal: home radon measurement\n",
    "\n",
    "\n",
    "The goal of the radon study is to provide reasonable estimates\n",
    "of home radon levels in each of the approximately 3000 counties in the United States.\n",
    "Gelman and Hill write\n",
    "\n",
    ">Radon is a carcinogen — a naturally occurring radioactive gas whose decay products are also radioactive — known to cause lung cancer in high concentrations and estimated to cause several thousand lung cancer deaths per year in the United States. The distribution of radon levels in U.S. homes varies greatly, with some houses having dangerously high concentrations. In order to identify the areas with high radon exposures, the Environmental Protection Agency coordinated radon measurements in a random sample of more than 80,000 houses throughout the country.\n",
    "\n",
    "[Radon gas](https://en.wikipedia.org/wiki/Radon) is a product of the slow decay of uranium into lead.  Due to local differences in geology, the level of exposure to radon gas differs from place to place. A common source is uranium-containing minerals in the ground, and therefore it accumulates in subterranean areas such as basements.\n",
    "\n",
    "![How radon enters the home](img/radon_entry.jpg)\n",
    "Image from https://www.health.state.mn.us/communities/environment/air/radon/index.html\n",
    "\n",
    "The [EPA radon map](https://www.epa.gov/sites/default/files/2015-07/documents/zonemapcolor.pdf) shows the counties of the US, color coded by radon level - red for the highest risk, orange for moderate, and yellow for low.\n",
    "\n",
    "![EPA radon map](img/epa_radon_map.png)\n",
    "\n",
    "## Study data:  item-level radon, county-level soil uranium levels\n",
    "\n",
    "The data comes from EPA surveys at the state and national level carried out in the 1990s.\n",
    "It is available from the Gelman and Hill [ARM website](http://www.stat.columbia.edu/~gelman/arm/examples/radon/), together with the R scripts used to produce the examples in the book.\n",
    "The study data is in two files.\n",
    "\n",
    "- Home radon measurements, and the floor (ground or basement) where measured from an EPA survey conducted in 1992.\n",
    "The survey data is in file http://www.stat.columbia.edu/~gelman/arm/examples/radon/srrs2.dat.\n",
    "\n",
    "- County level measurements of soil uranium levels in parts per million.\n",
    "The soil uranium data is in file http://www.stat.columbia.edu/~gelman/arm/examples/radon/cty.dat\n",
    "\n",
    "\n",
    "We have downloaded and renamed these files.\n",
    "File `srrs2.dat` is available as  [data/raw_radon.csv](data/raw_radon.csv) and\n",
    "file `cty.dat` is available as [data/raw_uranium.csv](data/raw_uranium.csv).\n",
    "These names are informative and will sort together in a directory listing.\n",
    "The full EPA dataset has been [archived separately](http://www.stat.columbia.edu/~gelman/arm/examples/radon_complete/).\n",
    "\n",
    "There are a total of 120K home radon measurements from 3000 US counties.\n",
    "The per-county measurements follow the population density; there are few or no measurements\n",
    "for sparsely populated counties, i.e. rural counties and correspondingly more for metropolitan counties.\n",
    "\n",
    "**Data preprocessing required by this analysis**\n",
    "\n",
    "Our analysis will use both the home radon data measurements and the county level data.\n",
    "The results are in two files\n",
    "\n",
    "+ [data/mn_radon.csv](data/mn_radon.csv) contains the individual home radon measurments.\n",
    "+ [data/mn_counties.csv](data/mn_counties.csv) contains county-level data.\n",
    "\n",
    "We need to extract and combine that subset of the information in these tables into the dataset required for this analysis.\n",
    "The essential pre-processing steps are\n",
    "\n",
    "1. Merge the county-level soil uranium level measurment into the house-level radon data.\n",
    "\n",
    "2. Put both outcome and predictors on the log scale, following Gelman and Hill, chapter 4, section 12.\n",
    "\n",
    "3. Restrict the dataset to Minnesota.\n",
    "\n",
    "4. Get counts of observations per county.\n",
    "\n",
    "The full set of pre-processing operations are show in Appendix A."
   ]
  },
  {
   "cell_type": "code",
   "execution_count": null,
   "id": "3dba7a41",
   "metadata": {},
   "outputs": [],
   "source": [
    "mn_radon = pd.read_csv(os.path.join('data','mn_radon.csv'))\n",
    "mn_radon[:7]"
   ]
  },
  {
   "cell_type": "code",
   "execution_count": null,
   "id": "ed04257d",
   "metadata": {},
   "outputs": [],
   "source": [
    "mn_counties = pd.read_csv(os.path.join('data','mn_counties.csv'))\n",
    "mn_counties[:3]"
   ]
  },
  {
   "cell_type": "markdown",
   "id": "09b78f52-2468-4ff2-b346-a9482a93e0fc",
   "metadata": {},
   "source": [
    "## Best Practice #1: preliminary data analysis\n",
    "\n",
    "A sometimes overlooked issue when doing model criticism and model comparison is the fact that we are evaluating the fit of the model _to the data_.  The size and shape of the data informs our choice of model.  Finally, the data collected is not always the data expected.  Therefore we start with plots and summaries of the raw data. When plotting radon measurments against other data elements, we always plot `log_radon` on the y axis, since it is the outcome variable of interest for this case study.\n",
    "\n",
    "**A brief introduction to plotnine**\n",
    "\n",
    "A grammar of graphics defines a plot in terms of:\n",
    "\n",
    "+ a dataset - in plotnine, this is a pandas.DataFrame\n",
    "+ a set of mappings from dataset variables to graph elements called \"aesthetics\"\n",
    "+ one scale for each aesthetic mapping used\n",
    "+ a coordinate system\n",
    "+ a facet specification\n",
    "+ one or more layers, with each layer having\n",
    "   + a dataset and aestheic mapping - by default, the plot dataset and mappings are used\n",
    "   + one geometric object (\"geoms\")\n",
    "   + one statistical transformation (\"stats\") \n",
    "   + one position adjustment\n",
    "\n",
    "The power of ggplot2/plotnine is a combination of\n",
    "a rich set of geometric objects - points, lines, bar charts, maps, and more;\n",
    "the ability to filter data used by plots, geoms, and stats;\n",
    "the ability to compose layers.\n",
    "But there are limits to compositionality;\n",
    "all layers need to have compatible coordinate systems and scales.\n",
    "When developing a visualization, the initial choice of geom might\n",
    "not work properly with additional layers.\n",
    "Plot building, like model building, is an iterative process.\n",
    "A good resource is [Data Visualization with Plotnine](https://f0nzie.github.io/rmarkdown-python-plotnine/),\n",
    "a Python translation of [R for Data Science](https://r4ds.had.co.nz/).\n",
    "\n",
    "**First questions: amount of data, variable of interest**\n",
    "\n",
    "As noted as the outset, the measurements per county vary with the population density.  Therefore a logical first question is:  how much data is there for Minnesota?"
   ]
  },
  {
   "cell_type": "code",
   "execution_count": null,
   "id": "28af7292",
   "metadata": {},
   "outputs": [],
   "source": [
    "print(f'number of houses: {len(mn_radon)}')\n",
    "print(f'number of counties: {len(mn_counties)}')"
   ]
  },
  {
   "cell_type": "markdown",
   "id": "624db8f5",
   "metadata": {},
   "source": [
    "The goal of our analysis is to estimate home radon levels; therefore the outcome variable of interest is `log_radon`.\n",
    "We use the [pandas.DataFrame.describe](https://pandas.pydata.org/docs/reference/api/pandas.DataFrame.describe.html) function to get summary statistics over the observed outcome `log_radon`."
   ]
  },
  {
   "cell_type": "code",
   "execution_count": null,
   "id": "bb4a1d96",
   "metadata": {},
   "outputs": [],
   "source": [
    "print(f'log_radon summary statistics\\n{mn_radon[\"log_radon\"].describe()}')"
   ]
  },
  {
   "cell_type": "markdown",
   "id": "731fd544",
   "metadata": {},
   "source": [
    "**Relationship between radon and floor**\n",
    "\n",
    "As the radon pathways diagram shows, radon comes from the soil, therefore the floor level on which the measurement was taken should be a good predictor of the observed radon level. This is coded as \"0\" for basement and \"1\" for ground floor level.  Most of the observations in the survey were taken on the basement level."
   ]
  },
  {
   "cell_type": "code",
   "execution_count": null,
   "id": "bf1590b4",
   "metadata": {},
   "outputs": [],
   "source": [
    "pct_1 = round((mn_radon.floor.sum() / len(mn_radon) * 100))\n",
    "pct_0= round(100 - pct_1)\n",
    "print(f'floor 0: {pct_0}%\\nfloor 1: {pct_1}%')"
   ]
  },
  {
   "cell_type": "markdown",
   "id": "3dbbdcd5-9578-41ec-829c-72ea4456ea81",
   "metadata": {},
   "source": [
    "The [plotnine geom_histogram](https://plotnine.readthedocs.io/en/stable/generated/plotnine.geoms.geom_histogram.html) provides a visualization of the distribution of home radon measurements in the survey dataset.\n",
    "Here we overlay two per-floor histograms.\n",
    "They clearly show the different amounts of observation (y axis), but the trend in log radon levels (x axis) is unclear."
   ]
  },
  {
   "cell_type": "code",
   "execution_count": null,
   "id": "debdf72a-96cd-448e-88ff-bfecaf15c850",
   "metadata": {},
   "outputs": [],
   "source": [
    "# overlay historgrams\n",
    "(p9.ggplot(data=mn_radon, mapping=p9.aes(x='log_radon'))\n",
    "    + p9.geom_histogram(data=(mn_radon.loc[mn_radon['floor']==0]), fill='orange', color='darkgreen', binwidth=0.2, alpha=0.7)\n",
    "    + p9.geom_histogram(data=(mn_radon.loc[mn_radon['floor']==1]), fill='violet', color='blue', binwidth=0.2, alpha=0.6)\n",
    "    + p9.xlab(\"log radon levels\") + p9.ylab(\"number of observations\")\n",
    "    + p9.theme(figure_size=(6,4))\n",
    ")"
   ]
  },
  {
   "cell_type": "markdown",
   "id": "5bbdb5b8-df94-4314-9cab-7643f500a09e",
   "metadata": {},
   "source": [
    "Alternatively, the [plotnine geom_density](https://plotnine.readthedocs.io/en/stable/generated/plotnine.geoms.geom_density.html)\n",
    "shows per-floor trends, but obscures the difference in amounts of observations."
   ]
  },
  {
   "cell_type": "code",
   "execution_count": null,
   "id": "275435ef-3f88-483e-a5cd-c376cf50b9a0",
   "metadata": {},
   "outputs": [],
   "source": [
    "(p9.ggplot()\n",
    "    + p9.geom_density(data=(mn_radon.loc[mn_radon['floor']==0]), mapping=p9.aes(x='log_radon'), color='darkblue')\n",
    "    + p9.geom_density(data=(mn_radon.loc[mn_radon['floor']==1]), mapping=p9.aes(x='log_radon'), color='purple')\n",
    "    + p9.xlab(\"log radon levels\") + p9.ylab(\"\")\n",
    "    + p9.theme(figure_size=(6,4))\n",
    ")"
   ]
  },
  {
   "cell_type": "markdown",
   "id": "98123f42",
   "metadata": {},
   "source": [
    "The [plotnine geom_point](https://plotnine.readthedocs.io/en/stable/generated/plotnine.geoms.geom_point.html) plots two variables as (x, y) points.\n",
    "A scatterplot of points (`floor`, `log_radon`) will only have 2 distinct x-axis values:  0 and 1.\n",
    "The [plotnine geom_jitter](https://plotnine.readthedocs.io/en/stable/generated/plotnine.geoms.geom_jitter.html) adds jitter to the (x, y) points,\n",
    "which reduces the amount of overplotting and therefore allows for a better visualization of the amount of data being plotted.\n",
    "Therefore we use the latter to visualize the differences between the the radon measurements by floor."
   ]
  },
  {
   "cell_type": "code",
   "execution_count": null,
   "id": "e3caf5ef",
   "metadata": {},
   "outputs": [],
   "source": [
    "plot_radon_floor = (p9.ggplot(data=mn_radon, mapping=p9.aes(x='floor', y='log_radon')) \n",
    "    + p9.geom_jitter(width=0.1, alpha=0.5, fill='orange', color='darkred')\n",
    "    + p9.scale_x_continuous(breaks=range(0,2), minor_breaks=[])\n",
    "    + p9.ggtitle(\"Radon measurements by floor\")\n",
    "    + p9.theme(figure_size=(4,4))\n",
    ")\n",
    "plot_radon_floor"
   ]
  },
  {
   "cell_type": "markdown",
   "id": "ee26364e-08dd-44cc-a58f-9ccbaef8af70",
   "metadata": {},
   "source": [
    "**County-level information**\n",
    "\n",
    "At the county level we have many home radon measurements from the relatively few counties with metropolitan areas, and very few home radon measurements from the rest."
   ]
  },
  {
   "cell_type": "code",
   "execution_count": null,
   "id": "6f910669",
   "metadata": {},
   "outputs": [],
   "source": [
    "(p9.ggplot(data=mn_counties)\n",
    "    + p9.geom_histogram(mapping=p9.aes(x='obs'), bins=40)\n",
    "    + p9.geom_text(data=mn_counties[mn_counties['obs'] > 25],\n",
    "                   mapping=p9.aes(x='obs', y=2, label='county'),\n",
    "                   size=8, nudge_x=4, nudge_y=0.1)\n",
    "    + p9.xlab(\"observations per county\") + p9.ylab(\"\")\n",
    "    + p9.theme(figure_size=(12,4))\n",
    ")"
   ]
  },
  {
   "cell_type": "markdown",
   "id": "727f5d45",
   "metadata": {},
   "source": [
    "We use the [plotnine.geom_boxplot](https://plotnine.readthedocs.io/en/stable/generated/plotnine.geoms.geom_boxplot.html#plotnine.geoms.geom_boxplot)\n",
    "to generate a [box_and_whiskers plot](https://en.wikipedia.org/wiki/Box_plot) for each set of per-county radon measurements.  The width of the box is proportional to the square root of the number of observations.\n",
    "As the counties are ordered by number of observations, the width of the boxes increases from left to right.\n",
    "The box encloses the central 25% - 75% quantiles; this is the \n",
    "[interquartile range (IQR)](https://en.wikipedia.org/wiki/Interquartile_range).\n",
    "The the whiskers extend to the values which are a distance of 1.5 the IQR, and values beyond that are plotted as points - these are the outliers."
   ]
  },
  {
   "cell_type": "code",
   "execution_count": null,
   "id": "0301ddd1-802a-40af-82e5-c4ba479cfce3",
   "metadata": {},
   "outputs": [],
   "source": [
    "obs_asc = mn_counties.sort_values(by='obs').reset_index(drop=True)\n",
    "\n",
    "boxplot_radon_obs = (p9.ggplot(data=mn_radon, mapping=p9.aes(x='county',y='log_radon'))\n",
    "    + p9.geom_boxplot(width=2, varwidth=True, outlier_alpha=0.4)\n",
    "    + p9.scale_x_discrete(limits=obs_asc['county'], expand=(0,3))\n",
    "    + p9.ggtitle(\"Counties ordered by number of observations per county\")\n",
    "    + p9.ylab(\"range of home radon measurements\")\n",
    ")                     \n",
    "# horizontal\n",
    "boxplot_radon_obs + xlabels_90 + p9.theme(figure_size=(20,6))"
   ]
  },
  {
   "cell_type": "markdown",
   "id": "6fb2a6fa-9ebc-4aae-b89e-94c9de059e7d",
   "metadata": {},
   "source": [
    "Because the most home radon measurements were taken at the basement floor level and because most of the counties have relatively few home measurments taken, there are many counties where all measurements are from the basement floor."
   ]
  },
  {
   "cell_type": "code",
   "execution_count": null,
   "id": "e2e55ab4-50a1-4121-8497-3ac399a7ac78",
   "metadata": {
    "tags": []
   },
   "outputs": [],
   "source": [
    "print(f'Number of counties: {mn_radon.county.nunique()}')\n",
    "print(f'Counties with measurements from floor 0: {mn_radon[mn_radon[\"floor\"]==0][\"county\"].nunique()}')\n",
    "print(f'Counties with measurements from floor 1: {mn_radon[mn_radon[\"floor\"]==1][\"county\"].nunique()}')"
   ]
  },
  {
   "cell_type": "markdown",
   "id": "3c77628d",
   "metadata": {},
   "source": [
    "**Relationship between home radon and county-level soil uranium**\n",
    "\n",
    "At the county-level, we have information on the soil uranium level.  We plot the number of observations by soil uranium.  The points on the x-axis line up with the histogram bars on the above plot, but instead of histogram bars, we have a series of points showing the different log_uranium levels."
   ]
  },
  {
   "cell_type": "code",
   "execution_count": null,
   "id": "9928fe93",
   "metadata": {},
   "outputs": [],
   "source": [
    "(p9.ggplot(data=mn_counties, mapping=p9.aes(x='obs', y='log_uranium'))\n",
    "    + p9.geom_point(fill='orange', color='darkred')\n",
    "    + p9.geom_text(data=mn_counties[mn_counties['obs']>25],\n",
    "                   mapping=p9.aes(label='county'),\n",
    "                   size=8, nudge_x=4, nudge_y=0.1)\n",
    "    + p9.xlab(\"observations per county\") + p9.ylab(\"county soil log_uranium\")\n",
    "    + p9.theme(figure_size=(12,4))\n",
    ")"
   ]
  },
  {
   "cell_type": "markdown",
   "id": "a3a74cb8",
   "metadata": {},
   "source": [
    "We plot the relationship between soil uranium level and the home radon measurement.\n",
    "We use plotnine's [facet_grid](https://plotnine.readthedocs.io/en/stable/generated/plotnine.facets.facet_grid.html#plotnine.facets.facet_gridplot) to get side-by-side per-floor plots.\n",
    "Because the soil uranium level measurement is the same for all homes in a county, for counties with many houses, i.e., metropolitan areas, the plot shows distinct vertical bands."
   ]
  },
  {
   "cell_type": "code",
   "execution_count": null,
   "id": "7af92e53",
   "metadata": {},
   "outputs": [],
   "source": [
    "(p9.ggplot(data=mn_radon, mapping=p9.aes(x='log_uranium', y='log_radon'))\n",
    "     + p9.geom_point(alpha=0.9, fill='orange', color='darkred')\n",
    "     + p9.facet_grid(facets='~ floor', labeller='label_both')\n",
    "     + p9.xlab(\"county-level soil log_uranium\") + p9.ylab(\"home log_radon\") \n",
    "     + p9.theme(figure_size=(12,4))\n",
    ")"
   ]
  },
  {
   "cell_type": "markdown",
   "id": "f833b025",
   "metadata": {},
   "source": [
    "To see whether or not the soil uranium level might be a good predictor of the home radon measurements,\n",
    "we can repeat the above boxplot, this time ordering the counties on the x-axis by\n",
    "the per-county activity levels, ordered by uranium level per county, descending.\n",
    "\n",
    "\n",
    "Given the sparse data, the resulting plot is inconclusive."
   ]
  },
  {
   "cell_type": "code",
   "execution_count": null,
   "id": "afb04f4d",
   "metadata": {},
   "outputs": [],
   "source": [
    "uranium_desc = mn_counties.sort_values(by='log_uranium', ascending=False).reset_index()\n",
    "\n",
    "(p9.ggplot(data=mn_radon, mapping=p9.aes(x='county',y='log_radon'))\n",
    "    + p9.geom_boxplot(width=2, varwidth=True, outlier_alpha=0.4)\n",
    "    + p9.scale_x_discrete(limits=uranium_desc['county'], expand=(0,1))\n",
    "    + p9.ggtitle(\"Counties ordered by soil uranium high (left) to low (right)\")\n",
    "    + p9.ylab(\"range of home radon measurements\")\n",
    "    + xlabels_90\n",
    "    + p9.theme(figure_size=(20,6))\n",
    ")"
   ]
  },
  {
   "cell_type": "markdown",
   "id": "adc33631-73da-43d6-a11b-341fccbe1ec6",
   "metadata": {},
   "source": [
    "## Linear regression review (chapters 2 and 3 of Gelman and Hill)\n",
    "\n",
    "> Linear regression is a method that summarizes how the average values of a numerical outcome variable vary over subpopulations defined by linear functions of predictors. ... Regression can be used to predict an outcome given a linear function of these predictors, and regression coefficients can be thought of as comparisons across predicted values or as comparisons among averages in the data. </br>_Gelman and Hill, chapter 3_\n",
    "\n",
    "[Linear regression](https://en.wikipedia.org/wiki/Linear_regression#Formulation) models the relationship between a scalar response and one or more explanatory variables.\n",
    "\n",
    "<img width=\"190\" alt=\"Linear least squares example2\" align=\"right\" style=\"vertical-align:middle;margin:0px 50px\"\n",
    "     src=\"https://upload.wikimedia.org/wikipedia/commons/thumb/5/53/Linear_least_squares_example2.png/190px-Linear_least_squares_example2.png\">\n",
    "\n",
    "In linear regression, the observations (red) are assumed to be the result of random deviations (green) from an underlying relationship (blue) between a dependent variable (y) and an independent variable (x).\n",
    "\n",
    "A [simple linear regression](https://en.wikipedia.org/wiki/Simple_linear_regression) is a model which relates\n",
    "a pair of sample points, an  _independent variable_ x, and a _dependent variable_ y.\n",
    "The adjective simple refers to the fact that the outcome variable is related to a single predictor.\n",
    "The model finds a linear function (a non-vertical straight line) that,\n",
    "as accurately as possible, predicts the dependent variable values as a function of the independent variable.\n",
    "\n",
    "*Geometry review:* a straight line is defined by its _intercept_ ($\\alpha$), the offset from zero on the x-axis, and _slope_ ($\\beta$), the multiplier applied to x, i.e.,  $\\mathrm{y} = \\alpha + \\beta\\, \\mathrm{x}$.\n",
    "\n",
    "**Linear regression:  two ways to write the model**\n",
    "\n",
    "The goal of inference is to learn from incomplete or imperfect data.\n",
    "In the simple linear regression model, the error term $\\epsilon$ accounts for imperfect measurments of the data.\n",
    "\n",
    "$\n",
    "y_i = \\alpha \\, + {\\beta}\\,x_i + {\\epsilon}_i\n",
    "$\n",
    "where the errors ${\\epsilon}_i$ have independent normal distributions with mean $0$ and standard deviation $\\sigma$.\n",
    "\n",
    "An equivalent representation is\n",
    "\n",
    "$\n",
    "y_i ∼ \\mathrm{N}(\\alpha + \\beta\\,\\mathrm{X}_i,\\, \\sigma^2), \\ \\ \\ \\mathrm{for}\\ i=1, ..., n\n",
    "$\n",
    "\n",
    "The corresponding Stan statement is\n",
    "\n",
    "```\n",
    "y ~ normal(alpha + beta * x, sigma);\n",
    "```\n",
    "\n",
    "Stan provides [vectorized](https://mc-stan.org/docs/functions-reference/vectorization.html#vectorization) versions of all univariate probability distrions.\n",
    "This statement is far more efficient than using a `for` loop over all $x_i$ and $y_i$ pairs.\n",
    "\n",
    "**Simple linear regression model in Stan**\n",
    "\n",
    "The simple linear regression with a single predictor and a slope and intercept coefficient and normally distributed noise is the first model discussed in the [Stan User's Guide Regression Models chapter](https://mc-stan.org/docs/stan-users-guide/linear-regression.html).\n",
    "\n",
    "```\n",
    "data {\n",
    "  int<lower=0> N;\n",
    "  vector[N] x;\n",
    "  vector[N] y;\n",
    "}\n",
    "parameters {\n",
    "  real alpha;\n",
    "  real beta;\n",
    "  real<lower=0> sigma;\n",
    "}\n",
    "model {\n",
    "  y ~ normal(alpha + beta * x, sigma);\n",
    "}\n",
    "```\n",
    "\n",
    "This model is the minimal possible model.\n",
    "It consists of three named [program blocks](https://mc-stan.org/docs/reference-manual/overview-of-stans-program-blocks.html):\n",
    "the data and parameters are declared in the respectively named data and parameters block;\n",
    "the model block specifies the likelihood, i.e., the probability of the data given the model.\n",
    "Because no priors are specified on the model parameters, they are given the default prior\n",
    "distribution, which is uniform from  $-\\infty$ to $+\\infty$.\n",
    "\n",
    "## Best Practice #2: start with a simple model\n",
    "\n",
    "Starting from a simple model ensures that there is a good baseline\n",
    "against which to measure performance.\n",
    "Gelman and Hill start from a simple linear regression which models the relationship between\n",
    "the log radon measurement and the floor on which this measurement was taken,\n",
    "i.e., in the regression model the outcome \"y\" is the log radon level\n",
    "and the predictor \"x\" is the floor on which the measurement was taken.\n",
    "\n",
    "$\n",
    "\\mathrm{log\\_radon}_i = \\alpha \\, + {\\beta}\\,\\mathrm{floor}_i + {\\epsilon}_i\n",
    "$\n",
    "\n",
    "Since the basement level is coded as $\\mathrm{floor} = 0$,\n",
    "the observed outcome $\\mathrm{log\\_radon}$ is simply the value of $\\alpha$.\n",
    "\n",
    "The **complete pooling** model pools all measurements from all counties.\n",
    "Because this is a simple linear regression, we can plot it directly in plotnine by adding\n",
    "[plotnine.geom.geom_smooth(method=\"lm\")](https://plotnine.readthedocs.io/en/stable/generated/plotnine.geoms.geom_smooth.html#plotnine.geoms.geom_smooth)\n",
    "to the earlier plot of radon measurements by floor.\n",
    "The black line is the estimated mean and the the grey margins indicate the amount of variance."
   ]
  },
  {
   "cell_type": "code",
   "execution_count": null,
   "id": "f38aaefe",
   "metadata": {},
   "outputs": [],
   "source": [
    "p1 = plot_radon_floor +  p9.geom_smooth(method='lm')\n",
    "p1"
   ]
  },
  {
   "cell_type": "markdown",
   "id": "dd9386c9",
   "metadata": {},
   "source": [
    "### Simple linear regression in Stan\n",
    "\n",
    "We can use the simple linear regression model, above, to fit the Minnesota radon dataset.\n",
    "This model fits a single regression line to all 919 observations in the dataset.\n",
    "It is a \"complete pooling\" model because it ignores county information and therefore\n",
    "pools all information from all counties.\n",
    "\n",
    "We create a [CmdStanModel](https://mc-stan.org/cmdstanpy/api.html#cmdstanmodel) object from the Stan program file\n",
    "[radon_cp.stan](stan/radon_cp.stan).\n",
    "The Stan model corresponds to the simple linear regression model above, except that:\n",
    "\n",
    "* There are non-default priors on all model parameters.  See https://github.com/stan-dev/stan/wiki/Prior-Choice-Recommendations for guidance. Here we use weakly informative priors, `normal(0, 10)`.\n",
    "\n",
    "* We add a `generated quantities` block which will be used to do prior predictive checking (next section).\n",
    "\n",
    "\n",
    "*Note:*  We use file name conventions \"cp\" for \"complete pooling\", \"np\" for \"no pooling\" and \"pp\" for \"partial pooling\".  *(Another good practice:  use naming conventions).*"
   ]
  },
  {
   "cell_type": "code",
   "execution_count": null,
   "id": "d423534c",
   "metadata": {},
   "outputs": [],
   "source": [
    "complete_pooling_model = CmdStanModel(stan_file=os.path.join('stan', 'radon_cp.stan'))\n",
    "print(complete_pooling_model.code())"
   ]
  },
  {
   "cell_type": "markdown",
   "id": "1e913735",
   "metadata": {},
   "source": [
    "We assemble a Python dictionary which contains the definitions of the data block variables."
   ]
  },
  {
   "cell_type": "code",
   "execution_count": null,
   "id": "c7b18f74",
   "metadata": {},
   "outputs": [],
   "source": [
    "radon_data = {\"N\": len(mn_radon), \"x\": mn_radon.floor.astype(float), \"y\": mn_radon.log_radon}"
   ]
  },
  {
   "cell_type": "markdown",
   "id": "873e69e2",
   "metadata": {},
   "source": [
    "We call the model's [sample](https://mc-stan.org/cmdstanpy/api.html#cmdstanpy.CmdStanModel.sample)\n",
    "method which runs Stan's NUTS-HMC sampler."
   ]
  },
  {
   "cell_type": "code",
   "execution_count": null,
   "id": "2f2c54b3",
   "metadata": {
    "tags": []
   },
   "outputs": [],
   "source": [
    "complete_pooling_fit = complete_pooling_model.sample(data=radon_data)"
   ]
  },
  {
   "cell_type": "markdown",
   "id": "7e1f6c07-adb9-488d-ac58-0841ba23a42c",
   "metadata": {},
   "source": [
    "The `sample` method returns a [CmdStanMCMC](https://mc-stan.org/cmdstanpy/api.html#cmdstanmcmc) object which\n",
    "provides methods to summarize and diagnose the model fit and accessor methods to access the entire sample or individual items.\n",
    "Accessor functions allow the user\n",
    "to access the sample in whatever data format is needed for further analysis.\n",
    "\n",
    "- The sample can be treated as a collection of named, structured variables\n",
    "\n",
    "    + methods [stan_variable](https://mc-stan.org/cmdstanpy/api.html#cmdstanpy.CmdStanMCMC.stan_variable)\n",
    "    and [stan_variables](https://mc-stan.org/cmdstanpy/api.html#cmdstanpy.CmdStanMCMC.stan_variables) return a `numpy.ndarray` and\n",
    "    a Python dictionary of `numpy.ndarray` objects, respectively, whose structure corresponds to the Stan variable.\n",
    "\n",
    "    + method [draws_xr](https://mc-stan.org/cmdstanpy/api.html#cmdstanpy.CmdStanMCMC.draws_xr) returns an [xarray.Dataset](https://docs.xarray.dev/en/stable/generated/xarray.Dataset.html) of all Stan variables.\n",
    "\n",
    "- The sample can be extracted in tabular format, either as\n",
    "\n",
    "    + method [draws](https://mc-stan.org/cmdstanpy/api.html#cmdstanpy.CmdStanMCMC.draws) returns a [numpy.ndarray](https://numpy.org/doc/stable/reference/generated/numpy.ndarray.html#numpy.ndarray) over all columns in the output CSV file.\n",
    "\n",
    "    + method [draws_pd](https://mc-stan.org/cmdstanpy/api.html#cmdstanpy.CmdStanMCMC.stan_variable) returns a [pandas.DataFrame](https://pandas.pydata.org/pandas-docs/stable/reference/api/pandas.DataFrame.html#pandas.DataFrame) over all columns in the output CSV file.  The argument `vars` can be used to restrict this to specified variables or columns.\n",
    "    \n",
    "In this example, we used the `draws_pd` method to access the sample draws for variables `alpha`, `beta`, and `sigma`.   This flattens the per-chain draws into a single column of all draws across all chains."
   ]
  },
  {
   "cell_type": "code",
   "execution_count": null,
   "id": "195839be-fdd4-4bf0-8ea3-703e031a9605",
   "metadata": {},
   "outputs": [],
   "source": [
    "pool_pd = complete_pooling_fit.draws_pd(vars=['alpha', 'beta', 'sigma'])\n",
    "print(f'sample draws shape:  {pool_pd.shape}')\n",
    "pool_pd[:3]"
   ]
  },
  {
   "cell_type": "code",
   "execution_count": null,
   "id": "cc0753ef-4a3e-47b1-8c88-8e325e2dc7f4",
   "metadata": {},
   "outputs": [],
   "source": [
    "pool_stats = pool_pd.describe()\n",
    "pool_stats.round(2)"
   ]
  },
  {
   "cell_type": "markdown",
   "id": "81100ce4",
   "metadata": {},
   "source": [
    "Another, more computationally expensive way to get these summary statistics is to call the [CmdStanMCMC.summary](https://mc-stan.org/cmdstanpy/api.html#cmdstanpy.CmdStanMCMC.summary) method.\n",
    "This returns a pandas.DataFrame of summary statistics for total joint log probability lp__ and all model variables,\n",
    "plus diagnostic statistics on the\n",
    "[effective sample size](https://mc-stan.org/docs/reference-manual/effective-sample-size.html)\n",
    "and [R_hat](https://mc-stan.org/docs/reference-manual/notation-for-samples-chains-and-draws.html#potential-scale-reduction), the potential scale reduction factor."
   ]
  },
  {
   "cell_type": "code",
   "execution_count": null,
   "id": "059865bc",
   "metadata": {
    "scrolled": true
   },
   "outputs": [],
   "source": [
    "complete_pooling_fit.summary().round(2)[1:4]"
   ]
  },
  {
   "cell_type": "markdown",
   "id": "1541c404-abed-43ef-bdd1-f2681b221a17",
   "metadata": {},
   "source": [
    "To check that the Stan model's estimates are in line with the `geom_smooth(method='lm')`  results shown above,\n",
    "we create the same plot from the fitted model.\n",
    "\n",
    "To add a trend line to the plot of radon measurements by floor, we can use either\n",
    "\n",
    "+ [plotnine.geoms.geom_line](https://plotnine.readthedocs.io/en/stable/generated/plotnine.geoms.geom_line.html#plotnine.geoms.geom_line)\n",
    "which draws a line through a set of connected points\n",
    "+ [plotnine.stats.stat_function](https://plotnine.readthedocs.io/en/stable/generated/plotnine.stats.stat_function.html#plotnine.stats.stat_function)\n",
    "which superimposes a function on a plot.\n",
    "\n",
    "To see how these work, we do both:  we use the `stats.stat_function` to draw the mean trend line.\n",
    "To see the amount of variance in our estimate, we plot a random sample of draws from the posterior,\n",
    "using the `geoms.geom_line` function.\n",
    "\n",
    "The function for a line is $ \\mathrm{y} = \\alpha + \\beta\\,* \\,\\mathrm{x}$.\n",
    "For this dataset, the x values are $\\{ 0, 1 \\}$, which means that\n",
    "\n",
    "+ when x $= 0$, y $=$ `alpha`\n",
    "+ when x $= 1$, y $=$ `alpha` + `beta`."
   ]
  },
  {
   "cell_type": "code",
   "execution_count": null,
   "id": "f1d00d18-04a8-4f63-a9c8-6e83ac923a0a",
   "metadata": {},
   "outputs": [],
   "source": [
    "# get a random sample of the draws\n",
    "sz = 100\n",
    "f1 = pool_pd.alpha + pool_pd.beta  # y coord at floor 1 \n",
    "f0 = pd.Series(pool_pd.alpha.values)  # y coord at floor 0\n",
    "ys = pd.concat([f0, f1], axis=1)\n",
    "ys = ys.sample(sz).reset_index(drop=True)\n",
    "\n",
    "# add sample regression lines to plot_radon_floor (from earlier section)\n",
    "p2 = plot_radon_floor\n",
    "for i in range(sz):\n",
    "    p2 = p2 + p9.geom_line(data=ys.T, mapping=p9.aes(x=[0,1], y=ys.loc[i]), inherit_aes=False, color='grey', alpha=0.06)\n",
    "\n",
    "# add central regression line\n",
    "p2 = p2 + p9.stat_function(mapping=p9.aes(x=1),\n",
    "    fun=lambda x: pool_stats.alpha['mean'] + pool_stats.beta['mean']*x,\n",
    "    color='blue', size=1\n",
    ")\n",
    "p2"
   ]
  },
  {
   "cell_type": "markdown",
   "id": "ce9f076c",
   "metadata": {},
   "source": [
    "In order to display multiple plotnine plots in one Jupyter notebook cell, we can use [patchworklib](https://github.com/ponnhide/patchworklib),\n",
    "following the examples in [patchworklib-examples](https://github.com/ponnhide/patchworklib-examples/blob/main/example_notebooks/subplot4plotnine.ipynb).\n",
    "\n",
    "The plot on the left are the estimates from the Stan model, the plot on the right are the plotnine `geom_smooth(method='lm')`, i.e., simple linear regression."
   ]
  },
  {
   "cell_type": "code",
   "execution_count": null,
   "id": "2a3ed1f9-4ef6-4c4b-b870-278762715a68",
   "metadata": {
    "tags": []
   },
   "outputs": [],
   "source": [
    "g2 = pw.load_ggplot(p2)\n",
    "g2.savefig(quick=True)\n",
    "g1 = pw.load_ggplot(p1)\n",
    "g2.savefig(quick=True)\n",
    "p12 = (g2 | g1)\n",
    "p12.case.set_title(\"modeled regression in Stan vs. plotnine smoothing\", pad=24, size=18)\n",
    "p12.savefig(quick=True)"
   ]
  },
  {
   "cell_type": "markdown",
   "id": "52dabbea-44e9-47fe-8804-999fae2323c7",
   "metadata": {},
   "source": [
    "## Best Practice #3: posterior predictive check\n",
    "\n",
    "From the [Stan User's Guide](https://mc-stan.org/docs/stan-users-guide/ppcs.html)\n",
    "\n",
    "> Posterior predictive checks are a way of measuring whether a model does a good job of capturing relevant aspects of the data, such as means, standard deviations, and quantiles (Donald B. Rubin 1984; Andrew Gelman, Meng, and Stern 1996). Posterior predictive checking works by simulating new replicated data sets based on the fitted model parameters and then comparing statistics applied to the replicated data set with the same statistic applied to the original data set.\n",
    "\n",
    "See: https://mc-stan.org/docs/stan-users-guide/simulating-from-the-posterior-predictive-distribution.html\n",
    "\n",
    "plot y_rep:   probability of new observations of y (y-tilde) conditional on y."
   ]
  },
  {
   "cell_type": "code",
   "execution_count": null,
   "id": "859166da-b2af-4740-ac36-1fe67276f9d7",
   "metadata": {
    "tags": []
   },
   "outputs": [],
   "source": [
    "# get a random sample of the draws\n",
    "sz = 40\n",
    "y_rep = complete_pooling_fit.draws_pd(vars='y_rep')\n",
    "\n",
    "# each column is a replicate of the data, using estimates of alpha, beta\n",
    "y_rep_sample = y_rep.sample(sz).reset_index(drop=True).T\n",
    "\n",
    "# plot actual distribution of the data against predicted new data\n",
    "cp_ppc = p9.ggplot()\n",
    "for i in range(sz):\n",
    "    cp_ppc = cp_ppc + p9.geom_density(mapping=p9.aes(x=y_rep_sample[i]), color='lightblue', alpha=0.4)\n",
    "cp_ppc = (cp_ppc \n",
    "          + p9.geom_density(data=mn_radon, mapping=p9.aes(x='log_radon'), color='darkblue', size=1.1)\n",
    "          + p9.xlab(\"log radon levels\") + p9.ylab(\"\")\n",
    "          + p9.theme(figure_size=(6,4))\n",
    "         )\n",
    "cp_ppc"
   ]
  },
  {
   "cell_type": "markdown",
   "id": "e7e97d1c-dbb4-4284-a0d2-9ca38e88da66",
   "metadata": {},
   "source": [
    "## Alternative simple linear regression models\n",
    "\n",
    "An alternative to the complete pooling model is fitting a model to each county, using just the data from that county.\n",
    "We can do this in plotnine by adding faceting to the above plot.\n",
    "\n",
    "As noted above, most of the measurements are taken at the basement level and\n",
    "there are 25 counties without any measurements taken on floor 1.\n",
    "For these counties, in the faceted plot the `geom_smooth` trend line is absent;\n",
    "i.e., we cannot estimate the slope of the regression line.\n",
    "For counties with measurements on both floors, in a few cases, e.g., Carlton county,\n",
    "the regression line between floor 0 and 1 has a positive slope, which\n",
    "a) goes against the estimate from the complete pooling model, \n",
    "and b) goes against what we know about how radon enters the home."
   ]
  },
  {
   "cell_type": "code",
   "execution_count": null,
   "id": "6f3c5760",
   "metadata": {},
   "outputs": [],
   "source": [
    "(p9.ggplot(data=mn_radon, mapping=p9.aes('floor', 'log_radon'))\n",
    "     + p9.geom_jitter(width=0.05)\n",
    "     + p9.geom_smooth(method='lm')\n",
    "     + p9.facet_wrap('county')\n",
    "     + p9.ggtitle(\"Per-county regressions\")\n",
    "     + p9.scale_x_continuous(breaks=range(0,2), minor_breaks=[])\n",
    "     + p9.scales.ylim(-3, 4)  # same limits as complete pooling\n",
    "     + p9.theme(figure_size=(18,20))\n",
    ")"
   ]
  },
  {
   "cell_type": "markdown",
   "id": "cd681428-7eb6-4f08-8fb2-9daf0569b1ae",
   "metadata": {},
   "source": [
    "Gelman and Hill chapter 12.3 introduces variant of this model which\n",
    "estimates per-county intercepts `alpha`\n",
    "but it a single slope coefficient `beta`\n",
    "and also assumes the residual variance is the same within each group.\n",
    "\n",
    "$\n",
    "\\mathrm{log\\_radon}_i = \\alpha_{j[i]} \\, + {\\beta}\\,\\mathrm{floor}_i + {\\epsilon}_i\n",
    "$\n",
    "where $j = 1 \\ldots 85$\n",
    "\n",
    "This model says that we expect the effect of the floor on which the measurement was taken is the same across counties, but that the baseline measurement is different.\n",
    "Coding this model in Stan requires the following modifications to the complete pooling model\n",
    "\n",
    "* we introduce data variable `J`, the number of counties.\n",
    "* we introduce data variable `county`, the array of per-house county ids.\n",
    "* we change `alpha` from a scalar to a vector of length is `J`, the number of counties.\n",
    "* we compute an intermediate variable `eta` so that we can continue to use the\n",
    "vectorized form of the sampling statement.\n",
    "\n",
    "This model is in file [radon_np.stan](stan/radon_np.stan)."
   ]
  },
  {
   "cell_type": "code",
   "execution_count": null,
   "id": "1e0037a4",
   "metadata": {},
   "outputs": [],
   "source": [
    "no_pooling_model = CmdStanModel(stan_file=os.path.join('stan', 'radon_np.stan'))\n",
    "print(no_pooling_model.code())"
   ]
  },
  {
   "cell_type": "markdown",
   "id": "3326f2d5-c805-4160-a65e-9f6b1023af25",
   "metadata": {},
   "source": [
    "We add the necessary inputs to the `radon_data` dict and run the model, which computes the individaul intercepts `alpha`."
   ]
  },
  {
   "cell_type": "code",
   "execution_count": null,
   "id": "e9b4ccea-2ba6-4f8c-af15-c7edca8acde7",
   "metadata": {},
   "outputs": [],
   "source": [
    "radon_data[\"J\"] = 85\n",
    "radon_data[\"county\"] = mn_radon.county_code\n",
    "no_pooling_fit = no_pooling_model.sample(data=radon_data)\n",
    "no_pooling_fit.summary().round(2)[83:90]"
   ]
  },
  {
   "cell_type": "code",
   "execution_count": null,
   "id": "eb8e0177",
   "metadata": {
    "tags": []
   },
   "outputs": [],
   "source": [
    "# get a random sample of the draws\n",
    "sz = 40\n",
    "y_rep_np = no_pooling_fit.draws_pd(vars='y_rep')\n",
    "\n",
    "# each column is a replicate of the data, using estimates of alpha, beta\n",
    "y_rep_np_sample = y_rep_np.sample(sz).reset_index(drop=True).T\n",
    "\n",
    "# plot actual distribution of the data against predicted new data\n",
    "np_ppc = p9.ggplot()\n",
    "for i in range(sz):\n",
    "    np_ppc = np_ppc + p9.geom_density(mapping=p9.aes(x=y_rep_np_sample[i]), color='lightblue', alpha=0.4)\n",
    "np_ppc = (np_ppc \n",
    "          + p9.geom_density(data=mn_radon, mapping=p9.aes(x='log_radon'), color='darkblue', size=1.1)\n",
    "          + p9.xlab(\"log radon levels\") + p9.ylab(\"\")\n",
    "          + p9.theme(figure_size=(6,4))\n",
    "         )\n",
    "np_ppc"
   ]
  },
  {
   "cell_type": "code",
   "execution_count": null,
   "id": "e224cc3a-acad-4457-94ed-b168eef15238",
   "metadata": {},
   "outputs": [],
   "source": [
    "g3 = pw.load_ggplot(cp_ppc)\n",
    "g3.savefig(quick=True)\n",
    "g4 = pw.load_ggplot(np_ppc)\n",
    "g4.savefig(quick=True)\n",
    "p34 = (g3 | g4)\n",
    "p34.case.set_title(\"complete pooling PPC vs. no pooling PPC\", pad=24, size=18)\n",
    "p34.savefig(quick=True)"
   ]
  },
  {
   "cell_type": "markdown",
   "id": "fe650354-24ad-4e0c-ba94-e6b5a8c964b7",
   "metadata": {},
   "source": [
    "To see the difference in the estimates of the intercept term `alpha` for these two models\n",
    "we plot the no pooling model's per-county estimates of alpha and\n",
    "overlay it with the complete pooling model estimate.\n",
    "To show the mean and variance at 1 standard deviation, we use numpy's `quantile` function to get the upper and lower bounds."
   ]
  },
  {
   "cell_type": "code",
   "execution_count": null,
   "id": "611fa5ae-e44a-4c83-a5b8-cdb2f527841d",
   "metadata": {},
   "outputs": [],
   "source": [
    "complete_pool_alpha_mean = complete_pooling_fit.stan_variable('alpha').mean()\n",
    "\n",
    "no_pool_alpha = no_pooling_fit.stan_variable('alpha')\n",
    "no_pool_alpha_mean = np.mean(no_pool_alpha, axis=0)  # axis=0 uses all rows, i.e., per-column mean\n",
    "no_pool_alpha_lower = np.quantile(no_pool_alpha, 0.16, axis=0)\n",
    "no_pool_alpha_upper = np.quantile(no_pool_alpha, 0.84, axis=0)\n",
    "no_pool_alpha_pd = pd.DataFrame(data={\n",
    "    \"mean\": no_pool_alpha_mean,\n",
    "    \"upper\": no_pool_alpha_upper, \n",
    "    \"lower\": no_pool_alpha_lower, \n",
    "    \"county\":mn_counties['county']\n",
    "})\n",
    "no_pool_alpha_pd[:3]"
   ]
  },
  {
   "cell_type": "markdown",
   "id": "c65f56ca-bbce-4dac-b8e7-7f4a3e6a2b06",
   "metadata": {},
   "source": [
    "We plot the estimates of `alpha` for all counties, sorted by number of observations, descending.\n",
    "The orange horizontal line is the mean estimate of `alpha` from the complete pooling model.\n",
    "The complete pooling model ignores the county level variance.  The no-pooling model overstates the variance between counties, especially for counties with only a few observations. The no-pooling estimates sometimes line up with the complete-pooling estimate, but not for the some of the counties with the most observations."
   ]
  },
  {
   "cell_type": "code",
   "execution_count": null,
   "id": "114086ca",
   "metadata": {
    "tags": []
   },
   "outputs": [],
   "source": [
    "# get sort order\n",
    "pop_desc = mn_counties.sort_values(by='obs', ascending=False).reset_index()\n",
    "\n",
    "# visualize\n",
    "p_no_pool = (p9.ggplot(data=no_pool_alpha_pd)\n",
    " # Range strip\n",
    " + p9.geom_segment(\n",
    "     mapping=p9.aes(x='county', xend='county', y='lower', yend='upper'),\n",
    "     size=1.4, color='darkblue', alpha=0.5,\n",
    " )\n",
    " + p9.geom_point(mapping=p9.aes(x='county', y='mean'))\n",
    " + p9.geom_hline(yintercept=complete_pool_alpha_mean, color='darkorange', size=1.5)\n",
    " + p9.scale_x_discrete(limits=pop_desc['county'])\n",
    " + p9.ggtitle(\"No pooling model estimates for alpha (basement log_radon level)\")\n",
    " + p9.xlab(\"ordered by observations per county, desc\") + p9.ylab(\"central 67% interval\")\n",
    " + xlabels_90\n",
    " + p9.theme(figure_size=(20,6)) \n",
    ")\n",
    "p_no_pool"
   ]
  },
  {
   "cell_type": "markdown",
   "id": "fd80a3a9-f8fc-417f-a7fa-b26cb1ddd46d",
   "metadata": {},
   "source": [
    "To see how the no-pooling estimate lines up with the raw data, we add the boxplot from the previous section to this plot.\n",
    "The fewer the number of observations, the greater the variance in the estimates.\n",
    "The value of the intercept corresponds to the average value of basement-level measurements in the data whereas the boxplot center line is the median value of the observations for that county."
   ]
  },
  {
   "cell_type": "code",
   "execution_count": null,
   "id": "227333f9-8c47-4d58-b984-c0f1f9444e61",
   "metadata": {},
   "outputs": [],
   "source": [
    "(p_no_pool\n",
    " + p9.geom_boxplot(data=mn_radon, mapping=p9.aes(x='county',y='log_radon'), color='orange', alpha=0.4, outlier_alpha=0.3)\n",
    ")"
   ]
  },
  {
   "cell_type": "markdown",
   "id": "ba6fa5cc-f1cd-41f7-b797-cc16cf55eee0",
   "metadata": {},
   "source": [
    "### Simple linear regression in Stan:  adding predictors\n",
    "\n",
    "We add the county-level soil log uranium measurements to the no-pooling model.\n",
    "This model is in file [radon_np_uranium.stan](stan/radon_np_uranium.stan)."
   ]
  },
  {
   "cell_type": "code",
   "execution_count": null,
   "id": "a6276e57-17a8-40ef-8b1d-a01eccf283c7",
   "metadata": {},
   "outputs": [],
   "source": [
    "two_predictors_model = CmdStanModel(stan_file=os.path.join('stan', 'radon_np_uranium.stan'))\n",
    "print(two_predictors_model.code())"
   ]
  },
  {
   "cell_type": "code",
   "execution_count": null,
   "id": "a91a5678-3b1f-4e46-a9a5-c864fb3bee84",
   "metadata": {},
   "outputs": [],
   "source": [
    "radon_data[\"u\"] = mn_radon.log_uranium"
   ]
  },
  {
   "cell_type": "code",
   "execution_count": null,
   "id": "fb022f6e-d947-4844-8e76-1ce2a6790f17",
   "metadata": {},
   "outputs": [],
   "source": [
    "two_predictors_fit = two_predictors_model.sample(data=radon_data)\n",
    "two_predictors_fit.summary().loc['beta[2]'].round(2)"
   ]
  },
  {
   "cell_type": "markdown",
   "id": "675fd32b-9166-46d4-a52d-eaf130d52ffb",
   "metadata": {},
   "source": [
    "Although the mean estimate of the regression coefficient for the soil log uranium level is positive, it has extremely high variance and the central 90% of the probability distribution includes 0.\n",
    "Plot this."
   ]
  },
  {
   "cell_type": "code",
   "execution_count": null,
   "id": "fb3dea6b-530a-4269-beec-d1a94a927331",
   "metadata": {},
   "outputs": [],
   "source": [
    "# plot distribution\n",
    "# get a random sample of the draws\n",
    "sz = 40\n",
    "y_rep_u = two_predictors_fit.draws_pd(vars='y_rep')\n",
    "\n",
    "# each column is a replicate of the data, using estimates of alpha, beta\n",
    "y_rep_u_sample = y_rep_u.sample(sz).reset_index(drop=True).T\n",
    "\n",
    "# plot actual distribution of the data against predicted new data\n",
    "u_ppc = p9.ggplot()\n",
    "for i in range(sz):\n",
    "    u_ppc = u_ppc + p9.geom_density(mapping=p9.aes(x=y_rep_u_sample[i]), color='lightblue', alpha=0.4)\n",
    "u_ppc = (u_ppc \n",
    "          + p9.geom_density(data=mn_radon, mapping=p9.aes(x='log_radon'), color='darkblue', size=1.1)\n",
    "          + p9.xlab(\"log radon levels\") + p9.ylab(\"\")\n",
    "          + p9.theme(figure_size=(6,4))\n",
    "         )\n",
    "u_ppc\n"
   ]
  },
  {
   "cell_type": "code",
   "execution_count": null,
   "id": "aa6ad1a8-9734-41b3-b320-f3b635dc8004",
   "metadata": {},
   "outputs": [],
   "source": [
    "# plot per-county range of estimates of beta"
   ]
  },
  {
   "cell_type": "markdown",
   "id": "5c0e29ad-277b-46a4-9b21-caf69d491e52",
   "metadata": {},
   "source": [
    "## Multilevel models\n",
    "\n",
    "Multilevel models are extensions of regression which can model\n",
    "dependency structures in the data.\n",
    "For example, when data are nested in a hierarchy, a multi-level model\n",
    "lets us model all levels of the hierarchy.\n",
    "For this dataset, houses are nested within counties.\n",
    "An ordinary regression can either model all counties as being identical, the complete pooling model,\n",
    "or all counties as being different, the no-pooling model.\n",
    "\n",
    "A multi-level regression accounts for the observed variation across counties\n",
    "by modeling the counties as being drawn from\n",
    "a common distribution, whose parameters are estimated jointly by the model.\n",
    "This allows for *partial pooling* of information.\n",
    "When there is very little variation across counties, the multi-level model approaches the complete-pooling model,\n",
    "at the other extreme, when the amount of variation is very large, it approaches the no-pooling model\n",
    "\n",
    "A simple linear regression model with a single predictor\n",
    "estimates two parameters:  the intercept and slope of the regression line.\n",
    "In a multilevel model, either or both of these parameters can be modeled, as illustrated by Figure 11.1 from Gelman and Hill.\n",
    "As the number of regression predictors increases, the modeling choices increase.\n",
    "![multilevel models](img/multilevel_models_fig_11_1.png)\n",
    "\n",
    "###  Varying intercept models\n",
    "\n",
    "Like the no-pooling model, this model has a vector of per-county intercept terms $\\alpha$,\n",
    "but in the multilevel model, we place a distribution on the intercept term\n",
    "\n",
    "$\n",
    "\\alpha_j \\sim \\mathrm{N}(\\mu_\\alpha,\\, {\\sigma_\\alpha}^2),\\ \\ \\ \\ \\mathrm{for}\\ \\ j\\, = 1, \\ldots, \\mathrm{J}\n",
    "$\n",
    "\n",
    "Putting this together with the individual intercept model above, the partial-pooling model is\n",
    "\n",
    "$\n",
    "y_i = \\alpha_{j[i]} \\, + {\\beta}\\,x_i + {\\epsilon}_i\\newline\n",
    "\\alpha_j \\sim \\mathrm{N}(\\mu_\\alpha,\\, {\\sigma_\\alpha}^2),\\ \\ \\ \\ \\mathrm{for}\\ \\ j\\, = 1, \\ldots, \\mathrm{J}\n",
    "$\n",
    "\n",
    "All parameters are also estimated jointly by the model.\n",
    "This model provides _partial pooling_ of information;\n",
    "it pulls the estimates of $\\alpha_j$ towards the mean level $\\mu_\\alpha$, to a greater or lesser degree.\n",
    "Partial pooling is a _soft constraint_ whose effect depends on the amount of group-level variance $\\sigma_\\alpha$.\n",
    "As the variance increases, the amound of pooling decreases so that when\n",
    "$\\sigma_\\alpha \\rightarrow \\inf$ there is no pooling; and when $\\sigma_\\alpha \\rightarrow 0$ there is complete-pooling.\n",
    "\n",
    "The varying intercept model is in file [stan/radon_pp_alpha.stan](stan/radon_pp_alpha.stan)."
   ]
  },
  {
   "cell_type": "code",
   "execution_count": null,
   "id": "6554696e-c2e1-47d4-8805-fce1b8e4ded3",
   "metadata": {
    "tags": []
   },
   "outputs": [],
   "source": [
    "partial_pooling_alpha_model = CmdStanModel(stan_file=os.path.join('stan', 'radon_pp_alpha.stan'))\n",
    "print(partial_pooling_alpha_model.code())"
   ]
  },
  {
   "cell_type": "code",
   "execution_count": null,
   "id": "b92cf3ca-9145-4847-aed6-78c1d4a94e68",
   "metadata": {
    "tags": []
   },
   "outputs": [],
   "source": [
    "partial_pooling_alpha_fit = partial_pooling_alpha_model.sample(data=radon_data)\n",
    "partial_pooling_alpha_fit.summary().round(2)[:10]"
   ]
  },
  {
   "cell_type": "code",
   "execution_count": null,
   "id": "97deec13",
   "metadata": {},
   "outputs": [],
   "source": [
    "complete_pool_alpha = np.mean(complete_pooling_fit.stan_variable('alpha'))\n",
    "complete_pool_alpha_lower = np.quantile(complete_pooling_fit.stan_variable('alpha'), .16, axis=0)\n",
    "complete_pool_alpha_upper = np.quantile(complete_pooling_fit.stan_variable('alpha'), .84, axis=0)\n",
    "\n",
    "part_pool_mu_alpha = partial_pooling_alpha_fit.stan_variable('mu_alpha').mean()\n",
    "part_pool_alpha = partial_pooling_alpha_fit.stan_variable('alpha')\n",
    "part_pool_alpha_mean = np.mean(part_pool_alpha, axis=0)\n",
    "part_pool_alpha_lower = np.quantile(part_pool_alpha, 0.16, axis=0)\n",
    "part_pool_alpha_upper = np.quantile(part_pool_alpha, 0.84, axis=0)\n",
    "part_pool_alpha_pd = pd.DataFrame(\n",
    "    data={\n",
    "        \"mean\": part_pool_alpha_mean,\n",
    "        \"upper\": part_pool_alpha_upper, \n",
    "        \"lower\": part_pool_alpha_lower, \n",
    "        \"county\":mn_counties['county']\n",
    "    }\n",
    ")\n",
    "part_pool_alpha_pd[:3]"
   ]
  },
  {
   "cell_type": "markdown",
   "id": "39627ee1-bfb8-4278-9889-68fd03354693",
   "metadata": {},
   "source": [
    "We plot the per-county estimates of `alpha` just as we did above, and we keep the y-axis on the same scale\n",
    "as for the no-pooling model; which were in range $(0, 3.5)$ (roughly).   This shows how the hierarchical pools information\n",
    "among the intercept terms and helps shrink the variance of the estimates."
   ]
  },
  {
   "cell_type": "code",
   "execution_count": null,
   "id": "149a9dee-2185-46ba-aa6f-b1c2eb540c59",
   "metadata": {},
   "outputs": [],
   "source": [
    "# visualize\n",
    "p_partial_pool_intercept = (p9.ggplot(data=part_pool_alpha_pd)\n",
    " # Range strip\n",
    " + p9.geom_segment(\n",
    "     mapping=p9.aes(x='county', xend='county', y='lower', yend='upper'),\n",
    "     size=1.7, color='blue', alpha=0.7,\n",
    " )\n",
    " + p9.geom_point(mapping=p9.aes(x='county', y='mean'))\n",
    " + p9.geom_hline(yintercept=part_pool_mu_alpha, color='darkblue', size=1)\n",
    " + p9.scale_x_discrete(limits=pop_desc['county']) + p9.scales.ylim(0,3.5)\n",
    " + p9.ggtitle(\"multilevel varying intercept model estimates for alpha (basement log_radon level)\")\n",
    " + p9.xlab(\"ordered by observations per county, desc\") + p9.ylab(\"central 67% interval\")\n",
    " + xlabels_90\n",
    " + p9.theme(figure_size=(20,6)) \n",
    ")\n",
    "p_partial_pool_intercept"
   ]
  },
  {
   "cell_type": "markdown",
   "id": "68436a8a-cd0c-4055-b0d9-da6a02286ff9",
   "metadata": {},
   "source": [
    "To compare the no-pooling and partial pooling model estimates of `alpha` directly, we overlay the above plot with the estimated from the no-pooling model in orange."
   ]
  },
  {
   "cell_type": "code",
   "execution_count": null,
   "id": "166b4573-bccf-4f72-8c63-4fd28b8906e3",
   "metadata": {},
   "outputs": [],
   "source": [
    "(p_partial_pool_intercept\n",
    "    + p9.geom_segment(data=no_pool_alpha_pd,\n",
    "         mapping=p9.aes(x='county', xend='county', y='lower', yend='upper'),\n",
    "         size=1.4, color='orange', alpha=0.6,\n",
    "     )\n",
    "     + p9.geom_hline(yintercept=complete_pool_alpha_mean, color='darkorange', size=1)\n",
    ")"
   ]
  },
  {
   "cell_type": "code",
   "execution_count": null,
   "id": "cb6e7199-5750-48ee-902e-9f63195efff6",
   "metadata": {},
   "outputs": [],
   "source": [
    "(p_partial_pool_intercept\n",
    " + p9.geom_boxplot(data=mn_radon, mapping=p9.aes(x='county',y='log_radon'), color='orange', alpha=0.4, outlier_alpha=0.3)\n",
    ")"
   ]
  },
  {
   "cell_type": "code",
   "execution_count": null,
   "id": "2358b9a0-841b-467e-8c8f-0964a82fd053",
   "metadata": {},
   "outputs": [],
   "source": [
    "# plot distribution\n",
    "# get a random sample of the draws\n",
    "sz = 40\n",
    "y_rep_pp = partial_pooling_alpha_fit.draws_pd(vars='y_rep')\n",
    "\n",
    "# each column is a replicate of the data, using estimates of alpha, beta\n",
    "y_rep_pp_sample = y_rep_pp.sample(sz).reset_index(drop=True).T\n",
    "\n",
    "# plot actual distribution of the data against predicted new data\n",
    "pp_ppc = p9.ggplot()\n",
    "for i in range(sz):\n",
    "    pp_ppc = pp_ppc + p9.geom_density(mapping=p9.aes(x=y_rep_pp_sample[i]), color='lightblue', alpha=0.4)\n",
    "pp_ppc = (pp_ppc \n",
    "          + p9.geom_density(data=mn_radon, mapping=p9.aes(x='log_radon'), color='darkblue', size=1.1)\n",
    "          + p9.xlab(\"log radon levels\") + p9.ylab(\"\")\n",
    "          + p9.theme(figure_size=(6,4))\n",
    "         )\n",
    "pp_ppc\n"
   ]
  },
  {
   "cell_type": "code",
   "execution_count": null,
   "id": "c6a83d92-cea9-409f-92bf-2b54b44a8f57",
   "metadata": {},
   "outputs": [],
   "source": []
  },
  {
   "cell_type": "markdown",
   "id": "52f86796-9f67-4b9d-9a78-02e68f035627",
   "metadata": {},
   "source": [
    "### Adding predictors\n",
    "\n",
    "We can add the county-level soil log uranium measure to the partial pooling model along with the floor, as was we did\n",
    "for the complete pooling model.\n",
    "This model is in file [radon_pp_uranium.stan](stan/radon_pp_uranium.stan)."
   ]
  },
  {
   "cell_type": "code",
   "execution_count": null,
   "id": "7e723233-f61f-478f-82e1-6c6cdc8e6bbc",
   "metadata": {},
   "outputs": [],
   "source": [
    "radon_pp_alpha_uranium = CmdStanModel(stan_file=os.path.join('stan', 'radon_pp_uranium.stan'))\n",
    "print(radon_pp_alpha_uranium.code())"
   ]
  },
  {
   "cell_type": "code",
   "execution_count": null,
   "id": "b0412c3f-a973-4b42-af75-e215b1fb4b43",
   "metadata": {},
   "outputs": [],
   "source": [
    "radon_pp_alpha_uranium_fit = radon_pp_alpha_uranium.sample(data=radon_data)"
   ]
  },
  {
   "cell_type": "code",
   "execution_count": null,
   "id": "ab15dc2d-2333-449a-b847-45f25c0672d5",
   "metadata": {},
   "outputs": [],
   "source": [
    "radon_pp_alpha_uranium_fit.summary().round(2)"
   ]
  },
  {
   "cell_type": "markdown",
   "id": "064cb2cb-c7e4-4587-8409-f7e7e5d6bc26",
   "metadata": {},
   "source": [
    "In this model, there is a single intercept $\\alpha$ and a  modeled predictor coefficients $\\beta_j$.\n",
    "\n",
    "$\n",
    "\\beta_j \\sim \\mathrm{N}(\\mu_\\beta,\\, {\\sigma_\\beta}^2),\\ \\ \\ \\ \\mathrm{for}\\ \\ j\\, = 1, \\ldots, \\mathrm{J}\n",
    "$\n",
    "\n",
    "Putting this together with the individual intercept model above, the partial-pooling model is\n",
    "\n",
    "$\n",
    "y_i = \\alpha \\, + {\\beta_{j[i]}}\\,x_i + {\\epsilon}_i\\newline\n",
    "\\beta \\sim \\mathrm{N}(\\mu_\\beta,\\, {\\sigma_\\beta}^2),\\ \\ \\ \\ \\mathrm{for}\\ \\ j\\, = 1, \\ldots, \\mathrm{J}\n",
    "$"
   ]
  },
  {
   "cell_type": "code",
   "execution_count": null,
   "id": "0d1917cd-cae3-4b61-9d1a-47fb019a547c",
   "metadata": {},
   "outputs": [],
   "source": [
    "partial_pooling_beta_model = CmdStanModel(stan_file=os.path.join('stan', 'radon_partial_pool_beta.stan'))\n",
    "print(partial_pooling_beta_model.code())"
   ]
  },
  {
   "cell_type": "code",
   "execution_count": null,
   "id": "437f3b7c-9a19-4c56-80af-6710fa96d2a1",
   "metadata": {},
   "outputs": [],
   "source": [
    "partial_pooling_beta_fit = partial_pooling_beta_model.sample(data=radon_data)\n",
    "partial_pooling_beta_fit.summary().round(2)"
   ]
  },
  {
   "cell_type": "code",
   "execution_count": null,
   "id": "370aac3b-e036-495c-81e8-cc00e984bb21",
   "metadata": {},
   "outputs": [],
   "source": [
    "complete_pool_beta = complete_pooling_fit.stan_variable('beta')\n",
    "complete_pool_beta_mean = np.mean(complete_pool_beta)\n",
    "complete_pool_beta_lower = np.quantile(complete_pool_beta, 0.16)\n",
    "complete_pool_beta_upper = np.quantile(complete_pool_beta, 0.84)"
   ]
  },
  {
   "cell_type": "code",
   "execution_count": null,
   "id": "c8699362-8de9-4996-9c71-322c48c04f2b",
   "metadata": {},
   "outputs": [],
   "source": [
    "part_pool_mu_beta = partial_pooling_beta_fit.stan_variable('mu_beta').mean()\n",
    "part_pool_beta = partial_pooling_beta_fit.stan_variable('beta')\n",
    "part_pool_beta_mean = np.mean(part_pool_beta, axis=0)\n",
    "part_pool_beta_lower = np.quantile(part_pool_beta, 0.16, axis=0)\n",
    "part_pool_beta_upper = np.quantile(part_pool_beta, 0.84, axis=0)\n",
    "part_pool_beta_pd = pd.DataFrame(\n",
    "    data={\n",
    "        \"mean\": part_pool_beta_mean,\n",
    "        \"upper\": part_pool_beta_upper, \n",
    "        \"lower\": part_pool_beta_lower, \n",
    "        \"county\":mn_counties['county']\n",
    "    }\n",
    ")\n",
    "part_pool_beta_pd[:3]"
   ]
  },
  {
   "cell_type": "code",
   "execution_count": null,
   "id": "bd90bcd5-0d96-4a11-b0aa-c56a31a6c101",
   "metadata": {},
   "outputs": [],
   "source": [
    "# visualize\n",
    "p_partial_pool_slope = (p9.ggplot(data=part_pool_beta_pd)\n",
    " # Range strip\n",
    " + p9.geom_segment(\n",
    "     mapping=p9.aes(x='county', xend='county', y='lower', yend='upper'),\n",
    "     size=1.4, color='darkblue', alpha=0.5,\n",
    " )\n",
    " + p9.geom_point(mapping=p9.aes(x='county', y='mean'))\n",
    " + p9.geom_hline(yintercept=part_pool_mu_beta, color='darkblue', size=1)\n",
    " + p9.geom_hline(yintercept=complete_pool_beta_mean, color='darkorange', size=1)\n",
    " + p9.geom_hline(yintercept=complete_pool_beta_upper, color='darkorange', size=0.7, linetype='dashed')\n",
    " + p9.geom_hline(yintercept=complete_pool_beta_lower, color='darkorange', size=0.7, linetype='dashed')\n",
    " + p9.scale_x_discrete(limits=pop_desc['county'])\n",
    " + p9.ggtitle(\"multilevel varying slope model estimates for beta (floor effect)\")\n",
    " + p9.xlab(\"ordered by observations per county, desc\") + p9.ylab(\"central 67% interval\")\n",
    " + xlabels_90\n",
    " + p9.theme(figure_size=(20,6)) \n",
    ")\n",
    "p_partial_pool_slope"
   ]
  },
  {
   "cell_type": "markdown",
   "id": "47b0afb0-4796-463e-b25d-c1cdcea4622b",
   "metadata": {},
   "source": [
    "This version of the model returns highly uncertain estimates for the floor effect.\n",
    "From what we know about radon, we don't expect the floor effect to vary dramatically from county to county;\n",
    "this result confirms that.\n",
    "\n",
    "### Complex multilevel models\n",
    "\n",
    "The full generality of multilevel modelling is introduced in Gelman and Hill chapter 13\n",
    "\"Multilevel linear models: varying slopes, non-nested models, and other complexities\".\n",
    "This introduces models in which slopes, intercepts, and interaction terms can all vary by group,\n",
    "as well as non-nested models, where the dataset can be structured into groups in more than one way.\n",
    "Examples of the latter are cross-cutting classifications such as demographic and geographic factors.\n",
    "\n",
    "The simplest possible statement of the varying intercept, varying slope model for\n",
    "the radon model with a single predictor models the both the intercepts and slopes separately,\n",
    "without consideration to interaction between the per-county slope and intercept.\n",
    "\n",
    "$\n",
    "y_i = \\alpha_{j[i]} \\, + {\\beta_{j[i]}}\\,x_i + {\\epsilon}_i\\newline\n",
    "\\alpha_j \\sim \\mathrm{N}(\\mu_\\alpha,\\, {\\sigma_\\alpha}^2),\\newline\n",
    "\\beta_j \\sim \\mathrm{N}(\\mu_\\beta,\\, {\\sigma_\\beta}^2),\\ \\ \\ \\ \\mathrm{for}\\ \\ j\\, = 1, \\ldots, \\mathrm{J}\n",
    "$\n",
    "\n",
    "Inasmuch as we don't believe that per-county estimates of the floor effect are warrented, we won't implement this model here.\n",
    "For more information on the complexities of this model and how to code it efficiently in Stan, see the Stan User's guide,\n",
    "section [Multivariate priors for hierarchical models](https://mc-stan.org/docs/stan-users-guide/multivariate-hierarchical-priors.html)\n",
    "\n",
    "## Discussion\n",
    "\n",
    "## Appendix A:  efficient Stan models\n",
    "\n",
    "The models in this case study are all simple linear regression models, characterized by\n",
    "\n",
    "+ a vector of observations of length `N`\n",
    "+ a matrix of predictors of size `[N, M]`\n",
    "+ the scalar intercept parameter\n",
    "+ a vector of length `M` regression coefficients\n",
    "+ variance parameter\n",
    "\n",
    "These can be rewritten to use the more efficient [`normal_id_glm` distribution](https://mc-stan.org/docs/functions-reference/normal-id-glm.html) instead of the `normal` distribution.\n",
    "\n",
    "A regression with multiple predictors relates the dependent variable `y` to a vector of independent variables `xs`.\n",
    "The simple linear regression model generalizes to\n",
    "\n",
    "$y_i = \\alpha \\, + B\\,X_i + {\\epsilon}_i$\n",
    "\n",
    "\n",
    "where B is a vector of length M, and X is a matrix of size (N, M).\n",
    "\n",
    "This model can be coded efficiently in Stan using the \n",
    "[normal_id_glm distribution](https://mc-stan.org/docs/functions-reference/normal-id-glm.html)\n",
    "which is optimized for a [Generalised Linear Models (GLM)](https://en.wikipedia.org/wiki/Generalized_linear_model)\n",
    "with a normal likelihood and identify link function, and is named accordingly.\n",
    "The `normal_id_glm` distribution takes as arguments\n",
    "\n",
    "+ a vector of observations of length `N`\n",
    "+ a matrix of predictors of size `[N, M]`\n",
    "+ the intercept parameter, either a scalar or a vector of length `M`\n",
    "+ a vector of length `M` regression coefficients\n",
    "+ variance parameter\n",
    "\n",
    "```\n",
    "/* normal linear regression model - single intercept */\n",
    "data {\n",
    "  int<lower=0> N;  // number of observations\n",
    "  int<lower=1> M;  // number of predictors\n",
    "  matrix[N, M] xs;\n",
    "  vector[N] y;\n",
    "}\n",
    "parameters {\n",
    "  real alpha;\n",
    "  vector beta[M];\n",
    "  real<lower=0> sigma;\n",
    "}\n",
    "model {\n",
    "  y ~ normal_glm_id(xs, alpha, beta, sigma);\n",
    "  sigma ~ normal(0, 10);   // override default prior uniform(-inf, +inf)\n",
    "}\n",
    "\n",
    "```\n",
    "\n",
    "```\n",
    "/* normal linear regression model - varying intercept */\n",
    "data {\n",
    "  int<lower=0> N;  // number of observations\n",
    "  int<lower=1> M;  // number of predictors\n",
    "  matrix[N, M] xs;\n",
    "  vector[N] y;\n",
    "}\n",
    "parameters {\n",
    "  vector alpha[N];\n",
    "  vector beta[M];\n",
    "  real<lower=0> sigma;\n",
    "}\n",
    "model {\n",
    "  y ~ normal_glm_id(xs, alpha, beta, sigma);\n",
    "  sigma ~ normal(0, 10);   // override default prior uniform(-inf, +inf)\n",
    "}\n",
    "```\n",
    "\n",
    "\n",
    "\n",
    "\n",
    "## Appendix B:  Data preparation using pandas.\n",
    "\n",
    "The steps required to convert the CSV files from the Gelman and Hill ARM website\n",
    "into the data structures used in this analysis:\n",
    "\n",
    "+ Merge the county-level soil uranium level measurment into the home radon data.\n",
    "+ Put both outcome and predictors on the log scale, following Gelman and Hill, chapter 4, section 12.\n",
    "+ Restrict the dataset to Minnesota.\n",
    "+ Aggregate county-level information\n",
    "\n",
    "Pandas objects contain structured arrays which are labeled by\n",
    "[Index objects](https://pandas.pydata.org/docs/reference/indexing.html).\n",
    "A [Series](https://pandas.pydata.org/docs/reference/series.html) object \n",
    "manages 1-D arrays and a [DataFrame](https://pandas.pydata.org/docs/reference/frame.html)\n",
    "is a 2-D size-mutable, table, allowing for heterogenous columns.\n",
    "These index labels are used to perform database-like select, join, and group-by operations.\n",
    "However, sometimes we need to access just the data, not the index labels.\n",
    "Most data is backed by an NumPy [ndarray](https://numpy.org/doc/stable/reference/generated/numpy.ndarray.html#numpy.ndarray).\n",
    "The [array](https://pandas.pydata.org/docs/reference/api/pandas.Series.array.html) property\n",
    "returns the underlying numpy.ndarray of the Index or Series object.\n",
    "\n",
    "**Extract relevant columns from CSV as pandas DataFrame**\n",
    "\n",
    "We leverage the [pandas.read_csv](https://pandas.pydata.org/docs/reference/api/pandas.read_csv.html) function\n",
    "to extract the information we need from the raw CSV files with the following non-default arguments\n",
    "\n",
    "* parameter `usecols` allows us to extract just the relevant columns for this analysis.\n",
    "* parameter `skipinitialspace` strips out initial whitespace from the data.\n",
    "\n",
    "Once instantiated, we call the [convert_dtypes method](https://pandas.pydata.org/docs/reference/api/pandas.DataFrame.convert_dtypes.html) on the newly instantiated DataFrame so that we can do merge and join operations on all columns."
   ]
  },
  {
   "cell_type": "code",
   "execution_count": null,
   "id": "678ddc30",
   "metadata": {},
   "outputs": [],
   "source": [
    "df_radon = pd.read_csv(os.path.join('data','raw_radon.csv'),\n",
    "    usecols=['state', 'stfips', 'floor', 'activity', 'county', 'cntyfips'],\n",
    "    skipinitialspace=True,    # CSV file has spaces after delimiter, ignore them\n",
    ").convert_dtypes()\n",
    "print(f'Total records: {len(df_radon)}')\n",
    "df_radon[:3]"
   ]
  },
  {
   "cell_type": "code",
   "execution_count": null,
   "id": "f7caed73",
   "metadata": {},
   "outputs": [],
   "source": [
    "df_uranium = pd.read_csv(os.path.join('data','raw_uranium.csv'),\n",
    "                        usecols=['stfips', 'ctfips', 'st', 'cty', 'Uppm'],\n",
    "                        skipinitialspace=True,\n",
    "                        ).drop_duplicates().convert_dtypes()\n",
    "df_uranium[:3]"
   ]
  },
  {
   "cell_type": "markdown",
   "id": "ac3b292c",
   "metadata": {},
   "source": [
    "**Combine datasets**\n",
    "\n",
    "[FIPS code](https://transition.fcc.gov/oet/info/maps/census/fips/fips.txt) are numbers which uniquely identify geographic areas. Both datasets have codes for the state and county ids, but these need to be combined to get a national-level county FIPS code.   In order to do a database-style join on the two tables, we need to\n",
    "\n",
    "1. add acommon key to both tables\n",
    "2. add the county-level soil uranium levels to the radon survey via the [DataFrame.merge](https://pandas.pydata.org/docs/reference/api/pandas.DataFrame.merge.html) method."
   ]
  },
  {
   "cell_type": "code",
   "execution_count": null,
   "id": "ab749d8d",
   "metadata": {},
   "outputs": [],
   "source": [
    "df_radon['fips'] = df_radon.stfips*1000 + df_radon.cntyfips\n",
    "df_uranium['fips'] = df_uranium.stfips*1000 + df_uranium.ctfips\n",
    "\n",
    "df_radon = df_radon.merge(df_uranium[['fips', 'Uppm']], on='fips')\n",
    "df_radon[:3]"
   ]
  },
  {
   "cell_type": "markdown",
   "id": "c3861a54",
   "metadata": {},
   "source": [
    "**Put data on log scale**\n",
    "\n",
    "Following Gelman and Hill chapter 4, section 4, we work with data on the log scale,\n",
    "for two reasons\n",
    "\n",
    "+ the outcome variable log_radon is always positive.\n",
    "+ it provides modeling flexibility.\n",
    "\n",
    "We know from geology that both radon measurements and soil uranium levels are always greater than zero,\n",
    "however a few radon measurements in the EPA dataset are 0.\n",
    "In order to be able to work with these measurements on the log scale, we replace 0 with 0.1,\n",
    "which corresponds to a low radon level (following Gelman and Hill)."
   ]
  },
  {
   "cell_type": "code",
   "execution_count": null,
   "id": "efacb3ec",
   "metadata": {},
   "outputs": [],
   "source": [
    "df_radon['radon'] = df_radon.activity.apply(lambda x: x if x > 0. else 0.1)\n",
    "df_radon['log_radon'] = np.log(df_radon['radon'])\n",
    "\n",
    "df_radon['uranium'] = df_radon.Uppm.apply(lambda x: x if x > 0. else 0.1)\n",
    "df_radon['log_uranium'] = np.log(df_radon['uranium'])\n",
    "df_radon[:3]"
   ]
  },
  {
   "cell_type": "markdown",
   "id": "f96d723b",
   "metadata": {},
   "source": [
    "**Cleanup**\n",
    "\n",
    "Remove the columns which contain redundant information."
   ]
  },
  {
   "cell_type": "code",
   "execution_count": null,
   "id": "99337e36",
   "metadata": {},
   "outputs": [],
   "source": [
    "df_radon.drop(columns=['stfips', 'activity', 'cntyfips', 'Uppm', 'fips', 'radon', 'uranium'], inplace=True)"
   ]
  },
  {
   "cell_type": "markdown",
   "id": "08e04b66",
   "metadata": {},
   "source": [
    "**Restrict dataset to Minnesota**\n",
    "\n",
    "In order to work with just the data from Minnesota, we use a \n",
    "use a conditional expression to [filter specific rows of a dataframe](https://pandas.pydata.org/docs/getting_started/intro_tutorials/03_subset_data.html#how-do-i-filter-specific-rows-from-a-dataframe), combined with operation [reset_index(drop=True)](https://pandas.pydata.org/docs/reference/api/pandas.DataFrame.reset_index.html?highlight=reset_index#pandas.DataFrame.reset_index) so that the rows are indexed starting from 0."
   ]
  },
  {
   "cell_type": "code",
   "execution_count": null,
   "id": "9258140a-aed7-41a2-ab12-c7f4eaf00e34",
   "metadata": {},
   "outputs": [],
   "source": [
    "mn_radon = df_radon[df_radon['state']=='MN'].reset_index(drop=True)\n",
    "mn_radon[:3]"
   ]
  },
  {
   "cell_type": "markdown",
   "id": "9ca0e065-bab8-4b2a-9006-14ecab7b2b83",
   "metadata": {},
   "source": [
    "**Add 1-based index code for MN counties**\n",
    "\n",
    "The data inputs to a Stan model include a 1-based county index for each observation.\n",
    "In order to do this we need to first get a sorted list of county names and then convert these to category code."
   ]
  },
  {
   "cell_type": "code",
   "execution_count": null,
   "id": "49fab763",
   "metadata": {},
   "outputs": [],
   "source": [
    "counties = mn_radon.county.unique()\n",
    "mn_radon['county_code'] = mn_radon.county.astype(\n",
    "    pd.api.types.CategoricalDtype(categories=counties)\n",
    ").cat.codes + 1  ## Stan indexes from 1\n",
    "mn_radon[:5]"
   ]
  },
  {
   "cell_type": "markdown",
   "id": "cbe3f621-a3c7-4e8f-9927-b210a12ce02a",
   "metadata": {},
   "source": [
    "**Create auxiliary dataset of per-county information**\n",
    "\n",
    "County-level information includes the number of observations taken in that county as well as the soil uranium level.\n",
    "In order to easily visualize this information using plotnine, we create a secondary pandas.Dataframe object with per-county leel information.\n",
    "\n",
    "The [value_counts](https://pandas.pydata.org/docs/reference/api/pandas.DataFrame.value_counts.html) method returns a Series containing counts of unique values,\n",
    "We add these to the county-level dataframe."
   ]
  },
  {
   "cell_type": "code",
   "execution_count": null,
   "id": "de706f24-6360-4abd-9cbb-d8338c88bda2",
   "metadata": {},
   "outputs": [],
   "source": [
    "mn_uranium = mn_radon.iloc[mn_radon.county.drop_duplicates().index].reset_index(drop=True)\n",
    "mn_uranium = mn_uranium.drop(columns=['floor', 'log_radon'])"
   ]
  },
  {
   "cell_type": "markdown",
   "id": "dd9b945d",
   "metadata": {},
   "source": [
    "**Save as CSV files**\n",
    "\n",
    "These files are already part of this notebook, therefore calls to the  [pandsa.to_csv](https://pandas.pydata.org/docs/reference/api/pandas.DataFrame.to_csv.html?highlight=to_csv#pandas.DataFrame.to_csv) method have been commented out."
   ]
  },
  {
   "cell_type": "code",
   "execution_count": null,
   "id": "6f06f800",
   "metadata": {},
   "outputs": [],
   "source": [
    "mn_uranium['obs'] = mn_radon.value_counts(subset='county', sort=False).array\n",
    "mn_uranium"
   ]
  },
  {
   "cell_type": "code",
   "execution_count": null,
   "id": "851891c0",
   "metadata": {},
   "outputs": [],
   "source": [
    "# uncomment as needed\n",
    "mn_radon.to_csv(r'mn_radon.csv', index=False)\n",
    "mn_uranium.to_csv(r'mn_uranium.csv', index=False)"
   ]
  }
 ],
 "metadata": {
  "jupytext": {
   "formats": "ipynb,qmd"
  },
  "kernelspec": {
   "display_name": "Python 3 (ipykernel)",
   "language": "python",
   "name": "python3"
  },
  "language_info": {
   "codemirror_mode": {
    "name": "ipython",
    "version": 3
   },
   "file_extension": ".py",
   "mimetype": "text/x-python",
   "name": "python",
   "nbconvert_exporter": "python",
   "pygments_lexer": "ipython3",
   "version": "3.9.13"
  },
  "toc-autonumbering": false,
  "toc-showcode": false,
  "toc-showmarkdowntxt": false,
  "toc-showtags": false
 },
 "nbformat": 4,
 "nbformat_minor": 5
}
